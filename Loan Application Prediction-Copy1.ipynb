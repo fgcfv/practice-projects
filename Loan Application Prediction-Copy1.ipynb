{
 "cells": [
  {
   "cell_type": "code",
   "execution_count": 1,
   "id": "42b00e62",
   "metadata": {},
   "outputs": [],
   "source": [
    "import pandas as pd\n",
    "import numpy as np\n",
    "import seaborn as sns\n",
    "import matplotlib.pyplot as plt\n",
    "import warnings\n",
    "warnings.filterwarnings('ignore')"
   ]
  },
  {
   "cell_type": "markdown",
   "id": "e3ecee34",
   "metadata": {},
   "source": [
    "*>> This dataset includes details of applicants who have applied for loan. The dataset includes details like credit history, loan amount, their income, dependents etc. on the basis of this data i want to predict whether the loan of the applicant will be approved or not  \n",
    "\n",
    "\n",
    "*>> In this dataset set my target variable is Loan Status and other columns are my features "
   ]
  },
  {
   "cell_type": "code",
   "execution_count": 2,
   "id": "c58da0d1",
   "metadata": {},
   "outputs": [
    {
     "data": {
      "text/html": [
       "<div>\n",
       "<style scoped>\n",
       "    .dataframe tbody tr th:only-of-type {\n",
       "        vertical-align: middle;\n",
       "    }\n",
       "\n",
       "    .dataframe tbody tr th {\n",
       "        vertical-align: top;\n",
       "    }\n",
       "\n",
       "    .dataframe thead th {\n",
       "        text-align: right;\n",
       "    }\n",
       "</style>\n",
       "<table border=\"1\" class=\"dataframe\">\n",
       "  <thead>\n",
       "    <tr style=\"text-align: right;\">\n",
       "      <th></th>\n",
       "      <th>Loan_ID</th>\n",
       "      <th>Gender</th>\n",
       "      <th>Married</th>\n",
       "      <th>Dependents</th>\n",
       "      <th>Education</th>\n",
       "      <th>Self_Employed</th>\n",
       "      <th>ApplicantIncome</th>\n",
       "      <th>CoapplicantIncome</th>\n",
       "      <th>LoanAmount</th>\n",
       "      <th>Loan_Amount_Term</th>\n",
       "      <th>Credit_History</th>\n",
       "      <th>Property_Area</th>\n",
       "      <th>Loan_Status</th>\n",
       "    </tr>\n",
       "  </thead>\n",
       "  <tbody>\n",
       "    <tr>\n",
       "      <th>0</th>\n",
       "      <td>LP001002</td>\n",
       "      <td>Male</td>\n",
       "      <td>No</td>\n",
       "      <td>0</td>\n",
       "      <td>Graduate</td>\n",
       "      <td>No</td>\n",
       "      <td>5849</td>\n",
       "      <td>0.0</td>\n",
       "      <td>NaN</td>\n",
       "      <td>360.0</td>\n",
       "      <td>1.0</td>\n",
       "      <td>Urban</td>\n",
       "      <td>Y</td>\n",
       "    </tr>\n",
       "    <tr>\n",
       "      <th>1</th>\n",
       "      <td>LP001003</td>\n",
       "      <td>Male</td>\n",
       "      <td>Yes</td>\n",
       "      <td>1</td>\n",
       "      <td>Graduate</td>\n",
       "      <td>No</td>\n",
       "      <td>4583</td>\n",
       "      <td>1508.0</td>\n",
       "      <td>128.0</td>\n",
       "      <td>360.0</td>\n",
       "      <td>1.0</td>\n",
       "      <td>Rural</td>\n",
       "      <td>N</td>\n",
       "    </tr>\n",
       "    <tr>\n",
       "      <th>2</th>\n",
       "      <td>LP001005</td>\n",
       "      <td>Male</td>\n",
       "      <td>Yes</td>\n",
       "      <td>0</td>\n",
       "      <td>Graduate</td>\n",
       "      <td>Yes</td>\n",
       "      <td>3000</td>\n",
       "      <td>0.0</td>\n",
       "      <td>66.0</td>\n",
       "      <td>360.0</td>\n",
       "      <td>1.0</td>\n",
       "      <td>Urban</td>\n",
       "      <td>Y</td>\n",
       "    </tr>\n",
       "    <tr>\n",
       "      <th>3</th>\n",
       "      <td>LP001006</td>\n",
       "      <td>Male</td>\n",
       "      <td>Yes</td>\n",
       "      <td>0</td>\n",
       "      <td>Not Graduate</td>\n",
       "      <td>No</td>\n",
       "      <td>2583</td>\n",
       "      <td>2358.0</td>\n",
       "      <td>120.0</td>\n",
       "      <td>360.0</td>\n",
       "      <td>1.0</td>\n",
       "      <td>Urban</td>\n",
       "      <td>Y</td>\n",
       "    </tr>\n",
       "    <tr>\n",
       "      <th>4</th>\n",
       "      <td>LP001008</td>\n",
       "      <td>Male</td>\n",
       "      <td>No</td>\n",
       "      <td>0</td>\n",
       "      <td>Graduate</td>\n",
       "      <td>No</td>\n",
       "      <td>6000</td>\n",
       "      <td>0.0</td>\n",
       "      <td>141.0</td>\n",
       "      <td>360.0</td>\n",
       "      <td>1.0</td>\n",
       "      <td>Urban</td>\n",
       "      <td>Y</td>\n",
       "    </tr>\n",
       "    <tr>\n",
       "      <th>...</th>\n",
       "      <td>...</td>\n",
       "      <td>...</td>\n",
       "      <td>...</td>\n",
       "      <td>...</td>\n",
       "      <td>...</td>\n",
       "      <td>...</td>\n",
       "      <td>...</td>\n",
       "      <td>...</td>\n",
       "      <td>...</td>\n",
       "      <td>...</td>\n",
       "      <td>...</td>\n",
       "      <td>...</td>\n",
       "      <td>...</td>\n",
       "    </tr>\n",
       "    <tr>\n",
       "      <th>609</th>\n",
       "      <td>LP002978</td>\n",
       "      <td>Female</td>\n",
       "      <td>No</td>\n",
       "      <td>0</td>\n",
       "      <td>Graduate</td>\n",
       "      <td>No</td>\n",
       "      <td>2900</td>\n",
       "      <td>0.0</td>\n",
       "      <td>71.0</td>\n",
       "      <td>360.0</td>\n",
       "      <td>1.0</td>\n",
       "      <td>Rural</td>\n",
       "      <td>Y</td>\n",
       "    </tr>\n",
       "    <tr>\n",
       "      <th>610</th>\n",
       "      <td>LP002979</td>\n",
       "      <td>Male</td>\n",
       "      <td>Yes</td>\n",
       "      <td>3+</td>\n",
       "      <td>Graduate</td>\n",
       "      <td>No</td>\n",
       "      <td>4106</td>\n",
       "      <td>0.0</td>\n",
       "      <td>40.0</td>\n",
       "      <td>180.0</td>\n",
       "      <td>1.0</td>\n",
       "      <td>Rural</td>\n",
       "      <td>Y</td>\n",
       "    </tr>\n",
       "    <tr>\n",
       "      <th>611</th>\n",
       "      <td>LP002983</td>\n",
       "      <td>Male</td>\n",
       "      <td>Yes</td>\n",
       "      <td>1</td>\n",
       "      <td>Graduate</td>\n",
       "      <td>No</td>\n",
       "      <td>8072</td>\n",
       "      <td>240.0</td>\n",
       "      <td>253.0</td>\n",
       "      <td>360.0</td>\n",
       "      <td>1.0</td>\n",
       "      <td>Urban</td>\n",
       "      <td>Y</td>\n",
       "    </tr>\n",
       "    <tr>\n",
       "      <th>612</th>\n",
       "      <td>LP002984</td>\n",
       "      <td>Male</td>\n",
       "      <td>Yes</td>\n",
       "      <td>2</td>\n",
       "      <td>Graduate</td>\n",
       "      <td>No</td>\n",
       "      <td>7583</td>\n",
       "      <td>0.0</td>\n",
       "      <td>187.0</td>\n",
       "      <td>360.0</td>\n",
       "      <td>1.0</td>\n",
       "      <td>Urban</td>\n",
       "      <td>Y</td>\n",
       "    </tr>\n",
       "    <tr>\n",
       "      <th>613</th>\n",
       "      <td>LP002990</td>\n",
       "      <td>Female</td>\n",
       "      <td>No</td>\n",
       "      <td>0</td>\n",
       "      <td>Graduate</td>\n",
       "      <td>Yes</td>\n",
       "      <td>4583</td>\n",
       "      <td>0.0</td>\n",
       "      <td>133.0</td>\n",
       "      <td>360.0</td>\n",
       "      <td>0.0</td>\n",
       "      <td>Semiurban</td>\n",
       "      <td>N</td>\n",
       "    </tr>\n",
       "  </tbody>\n",
       "</table>\n",
       "<p>614 rows × 13 columns</p>\n",
       "</div>"
      ],
      "text/plain": [
       "      Loan_ID  Gender Married Dependents     Education Self_Employed  \\\n",
       "0    LP001002    Male      No          0      Graduate            No   \n",
       "1    LP001003    Male     Yes          1      Graduate            No   \n",
       "2    LP001005    Male     Yes          0      Graduate           Yes   \n",
       "3    LP001006    Male     Yes          0  Not Graduate            No   \n",
       "4    LP001008    Male      No          0      Graduate            No   \n",
       "..        ...     ...     ...        ...           ...           ...   \n",
       "609  LP002978  Female      No          0      Graduate            No   \n",
       "610  LP002979    Male     Yes         3+      Graduate            No   \n",
       "611  LP002983    Male     Yes          1      Graduate            No   \n",
       "612  LP002984    Male     Yes          2      Graduate            No   \n",
       "613  LP002990  Female      No          0      Graduate           Yes   \n",
       "\n",
       "     ApplicantIncome  CoapplicantIncome  LoanAmount  Loan_Amount_Term  \\\n",
       "0               5849                0.0         NaN             360.0   \n",
       "1               4583             1508.0       128.0             360.0   \n",
       "2               3000                0.0        66.0             360.0   \n",
       "3               2583             2358.0       120.0             360.0   \n",
       "4               6000                0.0       141.0             360.0   \n",
       "..               ...                ...         ...               ...   \n",
       "609             2900                0.0        71.0             360.0   \n",
       "610             4106                0.0        40.0             180.0   \n",
       "611             8072              240.0       253.0             360.0   \n",
       "612             7583                0.0       187.0             360.0   \n",
       "613             4583                0.0       133.0             360.0   \n",
       "\n",
       "     Credit_History Property_Area Loan_Status  \n",
       "0               1.0         Urban           Y  \n",
       "1               1.0         Rural           N  \n",
       "2               1.0         Urban           Y  \n",
       "3               1.0         Urban           Y  \n",
       "4               1.0         Urban           Y  \n",
       "..              ...           ...         ...  \n",
       "609             1.0         Rural           Y  \n",
       "610             1.0         Rural           Y  \n",
       "611             1.0         Urban           Y  \n",
       "612             1.0         Urban           Y  \n",
       "613             0.0     Semiurban           N  \n",
       "\n",
       "[614 rows x 13 columns]"
      ]
     },
     "execution_count": 2,
     "metadata": {},
     "output_type": "execute_result"
    }
   ],
   "source": [
    "df=pd.read_csv(\"https://raw.githubusercontent.com/dsrscientist/DSData/master/loan_prediction.csv\")\n",
    "df"
   ]
  },
  {
   "cell_type": "code",
   "execution_count": 3,
   "id": "3ddf6abe",
   "metadata": {},
   "outputs": [],
   "source": [
    "df.to_csv('loan.csv')"
   ]
  },
  {
   "cell_type": "markdown",
   "id": "e5070b89",
   "metadata": {},
   "source": [
    "With the help of this code i can forved thid dataset to exel file"
   ]
  },
  {
   "cell_type": "code",
   "execution_count": 4,
   "id": "a5cd006c",
   "metadata": {},
   "outputs": [
    {
     "data": {
      "text/plain": [
       "Loan_ID               0\n",
       "Gender               13\n",
       "Married               3\n",
       "Dependents           15\n",
       "Education             0\n",
       "Self_Employed        32\n",
       "ApplicantIncome       0\n",
       "CoapplicantIncome     0\n",
       "LoanAmount           22\n",
       "Loan_Amount_Term     14\n",
       "Credit_History       50\n",
       "Property_Area         0\n",
       "Loan_Status           0\n",
       "dtype: int64"
      ]
     },
     "execution_count": 4,
     "metadata": {},
     "output_type": "execute_result"
    }
   ],
   "source": [
    "df.isnull().sum()"
   ]
  },
  {
   "cell_type": "markdown",
   "id": "3857e166",
   "metadata": {},
   "source": [
    "i can see that in gender, Married, Dependents, Selfemployed, LoanA mount, etc column have null values so firstly i can remove all the null values with the help of mean median and mode in object columns we can use mode in int column we can use mean and median   >>>>"
   ]
  },
  {
   "cell_type": "code",
   "execution_count": 5,
   "id": "84ae132b",
   "metadata": {},
   "outputs": [],
   "source": [
    "df['LoanAmount'] = df['LoanAmount'].fillna(df['LoanAmount'].median())\n",
    "df['Loan_Amount_Term'] = df['Loan_Amount_Term'].fillna(df['Loan_Amount_Term'].median())\n",
    "df['Credit_History'] = df['Credit_History'].fillna(df['Credit_History'].median())"
   ]
  },
  {
   "cell_type": "code",
   "execution_count": 6,
   "id": "fd4222b6",
   "metadata": {},
   "outputs": [
    {
     "data": {
      "text/plain": [
       "0    No\n",
       "Name: Self_Employed, dtype: object"
      ]
     },
     "execution_count": 6,
     "metadata": {},
     "output_type": "execute_result"
    }
   ],
   "source": [
    "df['Self_Employed'].mode()"
   ]
  },
  {
   "cell_type": "code",
   "execution_count": 7,
   "id": "20a09339",
   "metadata": {},
   "outputs": [
    {
     "data": {
      "text/plain": [
       "0    Yes\n",
       "Name: Married, dtype: object"
      ]
     },
     "execution_count": 7,
     "metadata": {},
     "output_type": "execute_result"
    }
   ],
   "source": [
    "df['Married'].mode()"
   ]
  },
  {
   "cell_type": "code",
   "execution_count": 8,
   "id": "b07a96d0",
   "metadata": {},
   "outputs": [
    {
     "data": {
      "text/plain": [
       "0    Male\n",
       "Name: Gender, dtype: object"
      ]
     },
     "execution_count": 8,
     "metadata": {},
     "output_type": "execute_result"
    }
   ],
   "source": [
    "df['Gender'].mode()"
   ]
  },
  {
   "cell_type": "code",
   "execution_count": 9,
   "id": "9d4fcab6",
   "metadata": {},
   "outputs": [],
   "source": [
    "df['Self_Employed'].fillna('No',inplace= True)\n",
    "df['Married'].fillna('Yes',inplace= True)\n",
    "df['Gender'].fillna('Male',inplace= True)"
   ]
  },
  {
   "cell_type": "code",
   "execution_count": 10,
   "id": "a70722f8",
   "metadata": {},
   "outputs": [
    {
     "data": {
      "text/plain": [
       "array(['0', '1', '2', '3+', nan], dtype=object)"
      ]
     },
     "execution_count": 10,
     "metadata": {},
     "output_type": "execute_result"
    }
   ],
   "source": [
    "df['Dependents'].unique()"
   ]
  },
  {
   "cell_type": "code",
   "execution_count": 11,
   "id": "038eb0e6",
   "metadata": {},
   "outputs": [
    {
     "data": {
      "text/plain": [
       "0    0\n",
       "Name: Dependents, dtype: object"
      ]
     },
     "execution_count": 11,
     "metadata": {},
     "output_type": "execute_result"
    }
   ],
   "source": [
    "df['Dependents'].mode()"
   ]
  },
  {
   "cell_type": "code",
   "execution_count": 12,
   "id": "9b7860ca",
   "metadata": {},
   "outputs": [],
   "source": [
    "df['Dependents'].fillna('0',inplace= True)"
   ]
  },
  {
   "cell_type": "markdown",
   "id": "e22083e6",
   "metadata": {},
   "source": [
    "Now all the null values have been remove and my data is full fill"
   ]
  },
  {
   "cell_type": "code",
   "execution_count": 14,
   "id": "ee89c940",
   "metadata": {},
   "outputs": [],
   "source": [
    "from tqdm import tqdm"
   ]
  },
  {
   "cell_type": "markdown",
   "id": "4a931182",
   "metadata": {},
   "source": [
    "with the help of tqdm we can see my data is run or stuck in middle "
   ]
  },
  {
   "cell_type": "code",
   "execution_count": 15,
   "id": "ef21a580",
   "metadata": {
    "scrolled": true
   },
   "outputs": [
    {
     "name": "stderr",
     "output_type": "stream",
     "text": [
      "100%|██████████| 13/13 [00:02<00:00,  5.37it/s]\n"
     ]
    },
    {
     "data": {
      "image/png": "[encoded data removed]",
      "text/plain": [
       "<Figure size 432x288 with 1 Axes>"
      ]
     },
     "metadata": {
      "needs_background": "light"
     },
     "output_type": "display_data"
    },
    {
     "data": {
      "image/png": "[encoded data removed]",
      "text/plain": [
       "<Figure size 432x288 with 1 Axes>"
      ]
     },
     "metadata": {
      "needs_background": "light"
     },
     "output_type": "display_data"
    },
    {
     "data": {
      "image/png": "[encoded data removed]",
      "text/plain": [
       "<Figure size 432x288 with 1 Axes>"
      ]
     },
     "metadata": {
      "needs_background": "light"
     },
     "output_type": "display_data"
    },
    {
     "data": {
      "image/png": "[encoded data removed]",
      "text/plain": [
       "<Figure size 432x288 with 1 Axes>"
      ]
     },
     "metadata": {
      "needs_background": "light"
     },
     "output_type": "display_data"
    },
    {
     "data": {
      "image/png": "[encoded data removed]",
      "text/plain": [
       "<Figure size 432x288 with 1 Axes>"
      ]
     },
     "metadata": {
      "needs_background": "light"
     },
     "output_type": "display_data"
    },
    {
     "data": {
      "image/png": "[encoded data removed]",
      "text/plain": [
       "<Figure size 432x288 with 1 Axes>"
      ]
     },
     "metadata": {
      "needs_background": "light"
     },
     "output_type": "display_data"
    },
    {
     "data": {
      "image/png": "[encoded data removed]",
      "text/plain": [
       "<Figure size 432x288 with 1 Axes>"
      ]
     },
     "metadata": {
      "needs_background": "light"
     },
     "output_type": "display_data"
    },
    {
     "data": {
      "image/png": "[encoded data removed]",
      "text/plain": [
       "<Figure size 432x288 with 1 Axes>"
      ]
     },
     "metadata": {
      "needs_background": "light"
     },
     "output_type": "display_data"
    },
    {
     "data": {
      "image/png": "[encoded data removed]",
      "text/plain": [
       "<Figure size 432x288 with 1 Axes>"
      ]
     },
     "metadata": {
      "needs_background": "light"
     },
     "output_type": "display_data"
    },
    {
     "data": {
      "image/png": "[encoded data removed]",
      "text/plain": [
       "<Figure size 432x288 with 1 Axes>"
      ]
     },
     "metadata": {
      "needs_background": "light"
     },
     "output_type": "display_data"
    },
    {
     "data": {
      "image/png": "[encoded data removed]",
      "text/plain": [
       "<Figure size 432x288 with 1 Axes>"
      ]
     },
     "metadata": {
      "needs_background": "light"
     },
     "output_type": "display_data"
    },
    {
     "data": {
      "image/png": "[encoded data removed]",
      "text/plain": [
       "<Figure size 432x288 with 1 Axes>"
      ]
     },
     "metadata": {
      "needs_background": "light"
     },
     "output_type": "display_data"
    },
    {
     "data": {
      "image/png": "[encoded data removed]",
      "text/plain": [
       "<Figure size 432x288 with 1 Axes>"
      ]
     },
     "metadata": {
      "needs_background": "light"
     },
     "output_type": "display_data"
    }
   ],
   "source": [
    "M = df.columns\n",
    "for i in tqdm(M):\n",
    "    plt.figure()\n",
    "    sns.histplot(df[i])"
   ]
  },
  {
   "cell_type": "code",
   "execution_count": 16,
   "id": "255c4e57",
   "metadata": {},
   "outputs": [
    {
     "data": {
      "text/plain": [
       "<AxesSubplot:>"
      ]
     },
     "execution_count": 16,
     "metadata": {},
     "output_type": "execute_result"
    },
    {
     "data": {
      "image/png": "[encoded data removed]",
      "text/plain": [
       "<Figure size 1008x432 with 2 Axes>"
      ]
     },
     "metadata": {
      "needs_background": "light"
     },
     "output_type": "display_data"
    }
   ],
   "source": [
    "plt.figure(figsize=(14,6))\n",
    "sns.heatmap(df.corr(),annot=True)"
   ]
  },
  {
   "cell_type": "markdown",
   "id": "344ccc4c",
   "metadata": {},
   "source": [
    "We can see that with the help of heatmap corr\n",
    "\n",
    "* applicantincome and LoanAmount are highly corelated with each other\n",
    "* LoanAmount and Coapplicantincome are normaly corelated with each other\n",
    "* And other left columns are very less negatively corelated with each other\n",
    "\n",
    "Loan_id and Married column are not very usefull for my prediction so i can drop it"
   ]
  },
  {
   "cell_type": "code",
   "execution_count": 17,
   "id": "8fec9def",
   "metadata": {},
   "outputs": [],
   "source": [
    "df.drop('Loan_ID',axis=1,inplace=True)"
   ]
  },
  {
   "cell_type": "code",
   "execution_count": 18,
   "id": "44b8dae2",
   "metadata": {},
   "outputs": [],
   "source": [
    "df.drop('Married',axis=1,inplace=True)"
   ]
  },
  {
   "cell_type": "code",
   "execution_count": 49,
   "id": "9254e774",
   "metadata": {},
   "outputs": [
    {
     "data": {
      "text/plain": [
       "<Figure size 432x288 with 0 Axes>"
      ]
     },
     "metadata": {},
     "output_type": "display_data"
    },
    {
     "data": {
      "image/png": "[encoded data removed]",
      "text/plain": [
       "<Figure size 360x360 with 1 Axes>"
      ]
     },
     "metadata": {
      "needs_background": "light"
     },
     "output_type": "display_data"
    },
    {
     "data": {
      "text/plain": [
       "<Figure size 432x288 with 0 Axes>"
      ]
     },
     "metadata": {},
     "output_type": "display_data"
    },
    {
     "data": {
      "image/png": "[encoded data removed]",
      "text/plain": [
       "<Figure size 360x360 with 1 Axes>"
      ]
     },
     "metadata": {
      "needs_background": "light"
     },
     "output_type": "display_data"
    },
    {
     "data": {
      "text/plain": [
       "<Figure size 432x288 with 0 Axes>"
      ]
     },
     "metadata": {},
     "output_type": "display_data"
    },
    {
     "data": {
      "image/png": "[encoded data removed]",
      "text/plain": [
       "<Figure size 360x360 with 1 Axes>"
      ]
     },
     "metadata": {
      "needs_background": "light"
     },
     "output_type": "display_data"
    },
    {
     "data": {
      "text/plain": [
       "<Figure size 432x288 with 0 Axes>"
      ]
     },
     "metadata": {},
     "output_type": "display_data"
    },
    {
     "data": {
      "image/png": "[encoded data removed]",
      "text/plain": [
       "<Figure size 360x360 with 1 Axes>"
      ]
     },
     "metadata": {
      "needs_background": "light"
     },
     "output_type": "display_data"
    },
    {
     "data": {
      "text/plain": [
       "<Figure size 432x288 with 0 Axes>"
      ]
     },
     "metadata": {},
     "output_type": "display_data"
    },
    {
     "data": {
      "image/png": "[encoded data removed]",
      "text/plain": [
       "<Figure size 360x360 with 1 Axes>"
      ]
     },
     "metadata": {
      "needs_background": "light"
     },
     "output_type": "display_data"
    },
    {
     "data": {
      "text/plain": [
       "<Figure size 432x288 with 0 Axes>"
      ]
     },
     "metadata": {},
     "output_type": "display_data"
    },
    {
     "data": {
      "image/png": "[encoded data removed]",
      "text/plain": [
       "<Figure size 360x360 with 1 Axes>"
      ]
     },
     "metadata": {
      "needs_background": "light"
     },
     "output_type": "display_data"
    },
    {
     "data": {
      "text/plain": [
       "<Figure size 432x288 with 0 Axes>"
      ]
     },
     "metadata": {},
     "output_type": "display_data"
    },
    {
     "data": {
      "image/png": "[encoded data removed]",
      "text/plain": [
       "<Figure size 360x360 with 1 Axes>"
      ]
     },
     "metadata": {
      "needs_background": "light"
     },
     "output_type": "display_data"
    },
    {
     "data": {
      "text/plain": [
       "<Figure size 432x288 with 0 Axes>"
      ]
     },
     "metadata": {},
     "output_type": "display_data"
    },
    {
     "data": {
      "image/png": "[encoded data removed]",
      "text/plain": [
       "<Figure size 360x360 with 1 Axes>"
      ]
     },
     "metadata": {
      "needs_background": "light"
     },
     "output_type": "display_data"
    },
    {
     "data": {
      "text/plain": [
       "<Figure size 432x288 with 0 Axes>"
      ]
     },
     "metadata": {},
     "output_type": "display_data"
    },
    {
     "data": {
      "image/png": "[encoded data removed]",
      "text/plain": [
       "<Figure size 360x360 with 1 Axes>"
      ]
     },
     "metadata": {
      "needs_background": "light"
     },
     "output_type": "display_data"
    },
    {
     "data": {
      "text/plain": [
       "<Figure size 432x288 with 0 Axes>"
      ]
     },
     "metadata": {},
     "output_type": "display_data"
    },
    {
     "data": {
      "image/png": "[encoded data removed]",
      "text/plain": [
       "<Figure size 360x360 with 1 Axes>"
      ]
     },
     "metadata": {
      "needs_background": "light"
     },
     "output_type": "display_data"
    },
    {
     "data": {
      "text/plain": [
       "<Figure size 432x288 with 0 Axes>"
      ]
     },
     "metadata": {},
     "output_type": "display_data"
    },
    {
     "data": {
      "image/png": "[encoded data removed]",
      "text/plain": [
       "<Figure size 360x360 with 1 Axes>"
      ]
     },
     "metadata": {
      "needs_background": "light"
     },
     "output_type": "display_data"
    }
   ],
   "source": [
    "columns= df.columns\n",
    "for i in columns:\n",
    "    plt.figure()\n",
    "    sns.displot(x=df[i],y='Loan_Status',data=df)   "
   ]
  },
  {
   "cell_type": "code",
   "execution_count": 27,
   "id": "91d37eb2",
   "metadata": {},
   "outputs": [
    {
     "data": {
      "text/plain": [
       "Gender               0\n",
       "Dependents           0\n",
       "Education            0\n",
       "Self_Employed        0\n",
       "ApplicantIncome      0\n",
       "CoapplicantIncome    0\n",
       "LoanAmount           0\n",
       "Loan_Amount_Term     0\n",
       "Credit_History       0\n",
       "Property_Area        0\n",
       "Loan_Status          0\n",
       "dtype: int64"
      ]
     },
     "execution_count": 27,
     "metadata": {},
     "output_type": "execute_result"
    }
   ],
   "source": [
    "df.isnull().sum()"
   ]
  },
  {
   "cell_type": "code",
   "execution_count": 28,
   "id": "6acd2778",
   "metadata": {},
   "outputs": [
    {
     "data": {
      "text/plain": [
       "Gender                object\n",
       "Dependents            object\n",
       "Education             object\n",
       "Self_Employed         object\n",
       "ApplicantIncome        int64\n",
       "CoapplicantIncome    float64\n",
       "LoanAmount           float64\n",
       "Loan_Amount_Term     float64\n",
       "Credit_History       float64\n",
       "Property_Area         object\n",
       "Loan_Status           object\n",
       "dtype: object"
      ]
     },
     "execution_count": 28,
     "metadata": {},
     "output_type": "execute_result"
    }
   ],
   "source": [
    "df.dtypes"
   ]
  },
  {
   "cell_type": "code",
   "execution_count": 29,
   "id": "4658c44b",
   "metadata": {},
   "outputs": [
    {
     "data": {
      "text/plain": [
       "array([[<AxesSubplot:title={'center':'ApplicantIncome'}>,\n",
       "        <AxesSubplot:title={'center':'CoapplicantIncome'}>,\n",
       "        <AxesSubplot:title={'center':'LoanAmount'}>,\n",
       "        <AxesSubplot:title={'center':'Loan_Amount_Term'}>],\n",
       "       [<AxesSubplot:title={'center':'Credit_History'}>, <AxesSubplot:>,\n",
       "        <AxesSubplot:>, <AxesSubplot:>],\n",
       "       [<AxesSubplot:>, <AxesSubplot:>, <AxesSubplot:>, <AxesSubplot:>],\n",
       "       [<AxesSubplot:>, <AxesSubplot:>, <AxesSubplot:>, <AxesSubplot:>]],\n",
       "      dtype=object)"
      ]
     },
     "execution_count": 29,
     "metadata": {},
     "output_type": "execute_result"
    },
    {
     "data": {
      "image/png": "[encoded data removed]",
      "text/plain": [
       "<Figure size 1440x1440 with 16 Axes>"
      ]
     },
     "metadata": {
      "needs_background": "light"
     },
     "output_type": "display_data"
    }
   ],
   "source": [
    "df.hist(figsize=(20,20),grid=True,layout=(4,4))"
   ]
  },
  {
   "cell_type": "markdown",
   "id": "06df0e62",
   "metadata": {},
   "source": [
    "Now i can see that the column ApplicantIncome, CoapplicantIncome, LoanAmount, Loan_Amount_Term, Credit_History all this column have skewness some columns are left skewed and other are right skewed so firstly i can remove skewness"
   ]
  },
  {
   "cell_type": "code",
   "execution_count": 30,
   "id": "9702cddd",
   "metadata": {},
   "outputs": [
    {
     "data": {
      "text/plain": [
       "ApplicantIncome      6.539513\n",
       "CoapplicantIncome    7.491531\n",
       "LoanAmount           2.743053\n",
       "Loan_Amount_Term    -2.402112\n",
       "Credit_History      -2.021971\n",
       "dtype: float64"
      ]
     },
     "execution_count": 30,
     "metadata": {},
     "output_type": "execute_result"
    }
   ],
   "source": [
    "df.skew()"
   ]
  },
  {
   "cell_type": "code",
   "execution_count": 31,
   "id": "b5ce84a7",
   "metadata": {},
   "outputs": [],
   "source": [
    "from scipy.stats import skew"
   ]
  },
  {
   "cell_type": "code",
   "execution_count": 38,
   "id": "6fab9802",
   "metadata": {},
   "outputs": [],
   "source": [
    "df['ApplicantIncome']=np.cbrt(df['ApplicantIncome'])"
   ]
  },
  {
   "cell_type": "code",
   "execution_count": 40,
   "id": "754d643a",
   "metadata": {},
   "outputs": [],
   "source": [
    "df['CoapplicantIncome']=np.cbrt(df['CoapplicantIncome'])"
   ]
  },
  {
   "cell_type": "code",
   "execution_count": 44,
   "id": "3ffe9eb1",
   "metadata": {},
   "outputs": [],
   "source": [
    "df['LoanAmount']=np.cbrt(df['LoanAmount'])"
   ]
  },
  {
   "cell_type": "code",
   "execution_count": 45,
   "id": "40f67f90",
   "metadata": {},
   "outputs": [
    {
     "data": {
      "text/plain": [
       "ApplicantIncome      0.543922\n",
       "CoapplicantIncome    0.196726\n",
       "LoanAmount           0.180761\n",
       "Loan_Amount_Term    -2.402112\n",
       "Credit_History      -2.021971\n",
       "dtype: float64"
      ]
     },
     "execution_count": 45,
     "metadata": {},
     "output_type": "execute_result"
    }
   ],
   "source": [
    "df.skew()"
   ]
  },
  {
   "cell_type": "code",
   "execution_count": 50,
   "id": "5c30d6b7",
   "metadata": {},
   "outputs": [
    {
     "data": {
      "text/plain": [
       "array([[<AxesSubplot:title={'center':'ApplicantIncome'}>,\n",
       "        <AxesSubplot:title={'center':'CoapplicantIncome'}>,\n",
       "        <AxesSubplot:title={'center':'LoanAmount'}>,\n",
       "        <AxesSubplot:title={'center':'Loan_Amount_Term'}>],\n",
       "       [<AxesSubplot:title={'center':'Credit_History'}>, <AxesSubplot:>,\n",
       "        <AxesSubplot:>, <AxesSubplot:>],\n",
       "       [<AxesSubplot:>, <AxesSubplot:>, <AxesSubplot:>, <AxesSubplot:>],\n",
       "       [<AxesSubplot:>, <AxesSubplot:>, <AxesSubplot:>, <AxesSubplot:>]],\n",
       "      dtype=object)"
      ]
     },
     "execution_count": 50,
     "metadata": {},
     "output_type": "execute_result"
    },
    {
     "data": {
      "image/png": "[encoded data removed]",
      "text/plain": [
       "<Figure size 1440x1440 with 16 Axes>"
      ]
     },
     "metadata": {
      "needs_background": "light"
     },
     "output_type": "display_data"
    }
   ],
   "source": [
    "df.hist(figsize=(20,20),grid=True,layout=(4,4))"
   ]
  },
  {
   "cell_type": "markdown",
   "id": "2d30cdac",
   "metadata": {},
   "source": [
    "Now skewness has been removed from all the columns "
   ]
  },
  {
   "cell_type": "code",
   "execution_count": 51,
   "id": "15ac6dd1",
   "metadata": {},
   "outputs": [],
   "source": [
    "from sklearn.preprocessing import LabelEncoder"
   ]
  },
  {
   "cell_type": "code",
   "execution_count": 52,
   "id": "c2130ca3",
   "metadata": {},
   "outputs": [
    {
     "data": {
      "text/html": [
       "<div>\n",
       "<style scoped>\n",
       "    .dataframe tbody tr th:only-of-type {\n",
       "        vertical-align: middle;\n",
       "    }\n",
       "\n",
       "    .dataframe tbody tr th {\n",
       "        vertical-align: top;\n",
       "    }\n",
       "\n",
       "    .dataframe thead th {\n",
       "        text-align: right;\n",
       "    }\n",
       "</style>\n",
       "<table border=\"1\" class=\"dataframe\">\n",
       "  <thead>\n",
       "    <tr style=\"text-align: right;\">\n",
       "      <th></th>\n",
       "      <th>Gender</th>\n",
       "      <th>Dependents</th>\n",
       "      <th>Education</th>\n",
       "      <th>Self_Employed</th>\n",
       "      <th>ApplicantIncome</th>\n",
       "      <th>CoapplicantIncome</th>\n",
       "      <th>LoanAmount</th>\n",
       "      <th>Loan_Amount_Term</th>\n",
       "      <th>Credit_History</th>\n",
       "      <th>Property_Area</th>\n",
       "      <th>Loan_Status</th>\n",
       "    </tr>\n",
       "  </thead>\n",
       "  <tbody>\n",
       "    <tr>\n",
       "      <th>0</th>\n",
       "      <td>1</td>\n",
       "      <td>0</td>\n",
       "      <td>0</td>\n",
       "      <td>0</td>\n",
       "      <td>1.113031</td>\n",
       "      <td>0.000000</td>\n",
       "      <td>1.714488</td>\n",
       "      <td>360.0</td>\n",
       "      <td>1.0</td>\n",
       "      <td>2</td>\n",
       "      <td>1</td>\n",
       "    </tr>\n",
       "    <tr>\n",
       "      <th>1</th>\n",
       "      <td>1</td>\n",
       "      <td>1</td>\n",
       "      <td>0</td>\n",
       "      <td>0</td>\n",
       "      <td>1.109684</td>\n",
       "      <td>11.467457</td>\n",
       "      <td>1.714488</td>\n",
       "      <td>360.0</td>\n",
       "      <td>1.0</td>\n",
       "      <td>0</td>\n",
       "      <td>0</td>\n",
       "    </tr>\n",
       "    <tr>\n",
       "      <th>2</th>\n",
       "      <td>1</td>\n",
       "      <td>0</td>\n",
       "      <td>0</td>\n",
       "      <td>1</td>\n",
       "      <td>1.103894</td>\n",
       "      <td>0.000000</td>\n",
       "      <td>1.592838</td>\n",
       "      <td>360.0</td>\n",
       "      <td>1.0</td>\n",
       "      <td>2</td>\n",
       "      <td>1</td>\n",
       "    </tr>\n",
       "    <tr>\n",
       "      <th>3</th>\n",
       "      <td>1</td>\n",
       "      <td>0</td>\n",
       "      <td>1</td>\n",
       "      <td>0</td>\n",
       "      <td>1.101856</td>\n",
       "      <td>13.310098</td>\n",
       "      <td>1.702237</td>\n",
       "      <td>360.0</td>\n",
       "      <td>1.0</td>\n",
       "      <td>2</td>\n",
       "      <td>1</td>\n",
       "    </tr>\n",
       "    <tr>\n",
       "      <th>4</th>\n",
       "      <td>1</td>\n",
       "      <td>0</td>\n",
       "      <td>0</td>\n",
       "      <td>0</td>\n",
       "      <td>1.113381</td>\n",
       "      <td>0.000000</td>\n",
       "      <td>1.733014</td>\n",
       "      <td>360.0</td>\n",
       "      <td>1.0</td>\n",
       "      <td>2</td>\n",
       "      <td>1</td>\n",
       "    </tr>\n",
       "    <tr>\n",
       "      <th>...</th>\n",
       "      <td>...</td>\n",
       "      <td>...</td>\n",
       "      <td>...</td>\n",
       "      <td>...</td>\n",
       "      <td>...</td>\n",
       "      <td>...</td>\n",
       "      <td>...</td>\n",
       "      <td>...</td>\n",
       "      <td>...</td>\n",
       "      <td>...</td>\n",
       "      <td>...</td>\n",
       "    </tr>\n",
       "    <tr>\n",
       "      <th>609</th>\n",
       "      <td>0</td>\n",
       "      <td>0</td>\n",
       "      <td>0</td>\n",
       "      <td>0</td>\n",
       "      <td>1.103432</td>\n",
       "      <td>0.000000</td>\n",
       "      <td>1.605814</td>\n",
       "      <td>360.0</td>\n",
       "      <td>1.0</td>\n",
       "      <td>0</td>\n",
       "      <td>1</td>\n",
       "    </tr>\n",
       "    <tr>\n",
       "      <th>610</th>\n",
       "      <td>1</td>\n",
       "      <td>3</td>\n",
       "      <td>0</td>\n",
       "      <td>0</td>\n",
       "      <td>1.108179</td>\n",
       "      <td>0.000000</td>\n",
       "      <td>1.506630</td>\n",
       "      <td>180.0</td>\n",
       "      <td>1.0</td>\n",
       "      <td>0</td>\n",
       "      <td>1</td>\n",
       "    </tr>\n",
       "    <tr>\n",
       "      <th>611</th>\n",
       "      <td>1</td>\n",
       "      <td>1</td>\n",
       "      <td>0</td>\n",
       "      <td>0</td>\n",
       "      <td>1.117466</td>\n",
       "      <td>6.214465</td>\n",
       "      <td>1.849326</td>\n",
       "      <td>360.0</td>\n",
       "      <td>1.0</td>\n",
       "      <td>2</td>\n",
       "      <td>1</td>\n",
       "    </tr>\n",
       "    <tr>\n",
       "      <th>612</th>\n",
       "      <td>1</td>\n",
       "      <td>2</td>\n",
       "      <td>0</td>\n",
       "      <td>0</td>\n",
       "      <td>1.116604</td>\n",
       "      <td>0.000000</td>\n",
       "      <td>1.788244</td>\n",
       "      <td>360.0</td>\n",
       "      <td>1.0</td>\n",
       "      <td>2</td>\n",
       "      <td>1</td>\n",
       "    </tr>\n",
       "    <tr>\n",
       "      <th>613</th>\n",
       "      <td>0</td>\n",
       "      <td>0</td>\n",
       "      <td>0</td>\n",
       "      <td>1</td>\n",
       "      <td>1.109684</td>\n",
       "      <td>0.000000</td>\n",
       "      <td>1.721803</td>\n",
       "      <td>360.0</td>\n",
       "      <td>0.0</td>\n",
       "      <td>1</td>\n",
       "      <td>0</td>\n",
       "    </tr>\n",
       "  </tbody>\n",
       "</table>\n",
       "<p>614 rows × 11 columns</p>\n",
       "</div>"
      ],
      "text/plain": [
       "     Gender  Dependents  Education  Self_Employed  ApplicantIncome  \\\n",
       "0         1           0          0              0         1.113031   \n",
       "1         1           1          0              0         1.109684   \n",
       "2         1           0          0              1         1.103894   \n",
       "3         1           0          1              0         1.101856   \n",
       "4         1           0          0              0         1.113381   \n",
       "..      ...         ...        ...            ...              ...   \n",
       "609       0           0          0              0         1.103432   \n",
       "610       1           3          0              0         1.108179   \n",
       "611       1           1          0              0         1.117466   \n",
       "612       1           2          0              0         1.116604   \n",
       "613       0           0          0              1         1.109684   \n",
       "\n",
       "     CoapplicantIncome  LoanAmount  Loan_Amount_Term  Credit_History  \\\n",
       "0             0.000000    1.714488             360.0             1.0   \n",
       "1            11.467457    1.714488             360.0             1.0   \n",
       "2             0.000000    1.592838             360.0             1.0   \n",
       "3            13.310098    1.702237             360.0             1.0   \n",
       "4             0.000000    1.733014             360.0             1.0   \n",
       "..                 ...         ...               ...             ...   \n",
       "609           0.000000    1.605814             360.0             1.0   \n",
       "610           0.000000    1.506630             180.0             1.0   \n",
       "611           6.214465    1.849326             360.0             1.0   \n",
       "612           0.000000    1.788244             360.0             1.0   \n",
       "613           0.000000    1.721803             360.0             0.0   \n",
       "\n",
       "     Property_Area  Loan_Status  \n",
       "0                2            1  \n",
       "1                0            0  \n",
       "2                2            1  \n",
       "3                2            1  \n",
       "4                2            1  \n",
       "..             ...          ...  \n",
       "609              0            1  \n",
       "610              0            1  \n",
       "611              2            1  \n",
       "612              2            1  \n",
       "613              1            0  \n",
       "\n",
       "[614 rows x 11 columns]"
      ]
     },
     "execution_count": 52,
     "metadata": {},
     "output_type": "execute_result"
    }
   ],
   "source": [
    "LE=LabelEncoder()\n",
    "for i in df.columns:\n",
    "    if df[i].dtypes=='object':\n",
    "        df[i]=LE.fit_transform(df[i].values)\n",
    "df "
   ]
  },
  {
   "cell_type": "markdown",
   "id": "856f2d51",
   "metadata": {},
   "source": [
    "With the help of lable encoder i can change the string data to int data"
   ]
  },
  {
   "cell_type": "markdown",
   "id": "26e6112d",
   "metadata": {},
   "source": [
    "# Removing Outlyers on this data"
   ]
  },
  {
   "cell_type": "code",
   "execution_count": 53,
   "id": "9999eb0e",
   "metadata": {},
   "outputs": [],
   "source": [
    "from scipy.stats import zscore"
   ]
  },
  {
   "cell_type": "code",
   "execution_count": 54,
   "id": "8f57394f",
   "metadata": {},
   "outputs": [
    {
     "data": {
      "text/html": [
       "<div>\n",
       "<style scoped>\n",
       "    .dataframe tbody tr th:only-of-type {\n",
       "        vertical-align: middle;\n",
       "    }\n",
       "\n",
       "    .dataframe tbody tr th {\n",
       "        vertical-align: top;\n",
       "    }\n",
       "\n",
       "    .dataframe thead th {\n",
       "        text-align: right;\n",
       "    }\n",
       "</style>\n",
       "<table border=\"1\" class=\"dataframe\">\n",
       "  <thead>\n",
       "    <tr style=\"text-align: right;\">\n",
       "      <th></th>\n",
       "      <th>Gender</th>\n",
       "      <th>Dependents</th>\n",
       "      <th>Education</th>\n",
       "      <th>Self_Employed</th>\n",
       "      <th>ApplicantIncome</th>\n",
       "      <th>CoapplicantIncome</th>\n",
       "      <th>LoanAmount</th>\n",
       "      <th>Loan_Amount_Term</th>\n",
       "      <th>Credit_History</th>\n",
       "      <th>Property_Area</th>\n",
       "      <th>Loan_Status</th>\n",
       "    </tr>\n",
       "  </thead>\n",
       "  <tbody>\n",
       "    <tr>\n",
       "      <th>0</th>\n",
       "      <td>0.472343</td>\n",
       "      <td>0.737806</td>\n",
       "      <td>0.528362</td>\n",
       "      <td>0.392601</td>\n",
       "      <td>0.512243</td>\n",
       "      <td>1.053225</td>\n",
       "      <td>0.038033</td>\n",
       "      <td>0.273231</td>\n",
       "      <td>0.411733</td>\n",
       "      <td>1.223298</td>\n",
       "      <td>0.674519</td>\n",
       "    </tr>\n",
       "    <tr>\n",
       "      <th>1</th>\n",
       "      <td>0.472343</td>\n",
       "      <td>0.253470</td>\n",
       "      <td>0.528362</td>\n",
       "      <td>0.392601</td>\n",
       "      <td>0.133700</td>\n",
       "      <td>0.561256</td>\n",
       "      <td>0.038033</td>\n",
       "      <td>0.273231</td>\n",
       "      <td>0.411733</td>\n",
       "      <td>1.318513</td>\n",
       "      <td>1.482537</td>\n",
       "    </tr>\n",
       "    <tr>\n",
       "      <th>2</th>\n",
       "      <td>0.472343</td>\n",
       "      <td>0.737806</td>\n",
       "      <td>0.528362</td>\n",
       "      <td>2.547117</td>\n",
       "      <td>0.521213</td>\n",
       "      <td>1.053225</td>\n",
       "      <td>1.326802</td>\n",
       "      <td>0.273231</td>\n",
       "      <td>0.411733</td>\n",
       "      <td>1.223298</td>\n",
       "      <td>0.674519</td>\n",
       "    </tr>\n",
       "    <tr>\n",
       "      <th>3</th>\n",
       "      <td>0.472343</td>\n",
       "      <td>0.737806</td>\n",
       "      <td>1.892641</td>\n",
       "      <td>0.392601</td>\n",
       "      <td>0.751704</td>\n",
       "      <td>0.820678</td>\n",
       "      <td>0.167815</td>\n",
       "      <td>0.273231</td>\n",
       "      <td>0.411733</td>\n",
       "      <td>1.223298</td>\n",
       "      <td>0.674519</td>\n",
       "    </tr>\n",
       "    <tr>\n",
       "      <th>4</th>\n",
       "      <td>0.472343</td>\n",
       "      <td>0.737806</td>\n",
       "      <td>0.528362</td>\n",
       "      <td>0.392601</td>\n",
       "      <td>0.551865</td>\n",
       "      <td>1.053225</td>\n",
       "      <td>0.158235</td>\n",
       "      <td>0.273231</td>\n",
       "      <td>0.411733</td>\n",
       "      <td>1.223298</td>\n",
       "      <td>0.674519</td>\n",
       "    </tr>\n",
       "    <tr>\n",
       "      <th>...</th>\n",
       "      <td>...</td>\n",
       "      <td>...</td>\n",
       "      <td>...</td>\n",
       "      <td>...</td>\n",
       "      <td>...</td>\n",
       "      <td>...</td>\n",
       "      <td>...</td>\n",
       "      <td>...</td>\n",
       "      <td>...</td>\n",
       "      <td>...</td>\n",
       "      <td>...</td>\n",
       "    </tr>\n",
       "    <tr>\n",
       "      <th>609</th>\n",
       "      <td>2.117107</td>\n",
       "      <td>0.737806</td>\n",
       "      <td>0.528362</td>\n",
       "      <td>0.392601</td>\n",
       "      <td>0.573462</td>\n",
       "      <td>1.053225</td>\n",
       "      <td>1.189326</td>\n",
       "      <td>0.273231</td>\n",
       "      <td>0.411733</td>\n",
       "      <td>1.318513</td>\n",
       "      <td>0.674519</td>\n",
       "    </tr>\n",
       "    <tr>\n",
       "      <th>610</th>\n",
       "      <td>0.472343</td>\n",
       "      <td>2.236021</td>\n",
       "      <td>0.528362</td>\n",
       "      <td>0.392601</td>\n",
       "      <td>0.036492</td>\n",
       "      <td>1.053225</td>\n",
       "      <td>2.240091</td>\n",
       "      <td>2.522836</td>\n",
       "      <td>0.411733</td>\n",
       "      <td>1.318513</td>\n",
       "      <td>0.674519</td>\n",
       "    </tr>\n",
       "    <tr>\n",
       "      <th>611</th>\n",
       "      <td>0.472343</td>\n",
       "      <td>0.253470</td>\n",
       "      <td>0.528362</td>\n",
       "      <td>0.392601</td>\n",
       "      <td>1.013917</td>\n",
       "      <td>0.178302</td>\n",
       "      <td>1.390446</td>\n",
       "      <td>0.273231</td>\n",
       "      <td>0.411733</td>\n",
       "      <td>1.223298</td>\n",
       "      <td>0.674519</td>\n",
       "    </tr>\n",
       "    <tr>\n",
       "      <th>612</th>\n",
       "      <td>0.472343</td>\n",
       "      <td>1.244745</td>\n",
       "      <td>0.528362</td>\n",
       "      <td>0.392601</td>\n",
       "      <td>0.916438</td>\n",
       "      <td>1.053225</td>\n",
       "      <td>0.743346</td>\n",
       "      <td>0.273231</td>\n",
       "      <td>0.411733</td>\n",
       "      <td>1.223298</td>\n",
       "      <td>0.674519</td>\n",
       "    </tr>\n",
       "    <tr>\n",
       "      <th>613</th>\n",
       "      <td>2.117107</td>\n",
       "      <td>0.737806</td>\n",
       "      <td>0.528362</td>\n",
       "      <td>2.547117</td>\n",
       "      <td>0.133700</td>\n",
       "      <td>1.053225</td>\n",
       "      <td>0.039466</td>\n",
       "      <td>0.273231</td>\n",
       "      <td>2.428760</td>\n",
       "      <td>0.047607</td>\n",
       "      <td>1.482537</td>\n",
       "    </tr>\n",
       "  </tbody>\n",
       "</table>\n",
       "<p>614 rows × 11 columns</p>\n",
       "</div>"
      ],
      "text/plain": [
       "       Gender  Dependents  Education  Self_Employed  ApplicantIncome  \\\n",
       "0    0.472343    0.737806   0.528362       0.392601         0.512243   \n",
       "1    0.472343    0.253470   0.528362       0.392601         0.133700   \n",
       "2    0.472343    0.737806   0.528362       2.547117         0.521213   \n",
       "3    0.472343    0.737806   1.892641       0.392601         0.751704   \n",
       "4    0.472343    0.737806   0.528362       0.392601         0.551865   \n",
       "..        ...         ...        ...            ...              ...   \n",
       "609  2.117107    0.737806   0.528362       0.392601         0.573462   \n",
       "610  0.472343    2.236021   0.528362       0.392601         0.036492   \n",
       "611  0.472343    0.253470   0.528362       0.392601         1.013917   \n",
       "612  0.472343    1.244745   0.528362       0.392601         0.916438   \n",
       "613  2.117107    0.737806   0.528362       2.547117         0.133700   \n",
       "\n",
       "     CoapplicantIncome  LoanAmount  Loan_Amount_Term  Credit_History  \\\n",
       "0             1.053225    0.038033          0.273231        0.411733   \n",
       "1             0.561256    0.038033          0.273231        0.411733   \n",
       "2             1.053225    1.326802          0.273231        0.411733   \n",
       "3             0.820678    0.167815          0.273231        0.411733   \n",
       "4             1.053225    0.158235          0.273231        0.411733   \n",
       "..                 ...         ...               ...             ...   \n",
       "609           1.053225    1.189326          0.273231        0.411733   \n",
       "610           1.053225    2.240091          2.522836        0.411733   \n",
       "611           0.178302    1.390446          0.273231        0.411733   \n",
       "612           1.053225    0.743346          0.273231        0.411733   \n",
       "613           1.053225    0.039466          0.273231        2.428760   \n",
       "\n",
       "     Property_Area  Loan_Status  \n",
       "0         1.223298     0.674519  \n",
       "1         1.318513     1.482537  \n",
       "2         1.223298     0.674519  \n",
       "3         1.223298     0.674519  \n",
       "4         1.223298     0.674519  \n",
       "..             ...          ...  \n",
       "609       1.318513     0.674519  \n",
       "610       1.318513     0.674519  \n",
       "611       1.223298     0.674519  \n",
       "612       1.223298     0.674519  \n",
       "613       0.047607     1.482537  \n",
       "\n",
       "[614 rows x 11 columns]"
      ]
     },
     "execution_count": 54,
     "metadata": {},
     "output_type": "execute_result"
    }
   ],
   "source": [
    "z= np.abs(zscore(df))\n",
    "z"
   ]
  },
  {
   "cell_type": "code",
   "execution_count": 55,
   "id": "2b176124",
   "metadata": {},
   "outputs": [
    {
     "name": "stdout",
     "output_type": "stream",
     "text": [
      "(array([ 14,  14,  68,  94,  94, 130, 133, 133, 155, 155, 171, 171, 183,\n",
      "       185, 216, 242, 262, 313, 333, 369, 409, 443, 468, 495, 497, 546,\n",
      "       561, 568, 575, 581, 585, 600, 600], dtype=int64), array([6, 7, 7, 6, 7, 6, 6, 7, 4, 6, 4, 6, 4, 4, 4, 7, 7, 7, 4, 6, 4, 4,\n",
      "       4, 7, 7, 7, 6, 6, 7, 5, 7, 4, 5], dtype=int64))\n"
     ]
    }
   ],
   "source": [
    "print(np.where(z>3))"
   ]
  },
  {
   "cell_type": "code",
   "execution_count": 56,
   "id": "30dd6600",
   "metadata": {},
   "outputs": [
    {
     "data": {
      "text/html": [
       "<div>\n",
       "<style scoped>\n",
       "    .dataframe tbody tr th:only-of-type {\n",
       "        vertical-align: middle;\n",
       "    }\n",
       "\n",
       "    .dataframe tbody tr th {\n",
       "        vertical-align: top;\n",
       "    }\n",
       "\n",
       "    .dataframe thead th {\n",
       "        text-align: right;\n",
       "    }\n",
       "</style>\n",
       "<table border=\"1\" class=\"dataframe\">\n",
       "  <thead>\n",
       "    <tr style=\"text-align: right;\">\n",
       "      <th></th>\n",
       "      <th>Gender</th>\n",
       "      <th>Dependents</th>\n",
       "      <th>Education</th>\n",
       "      <th>Self_Employed</th>\n",
       "      <th>ApplicantIncome</th>\n",
       "      <th>CoapplicantIncome</th>\n",
       "      <th>LoanAmount</th>\n",
       "      <th>Loan_Amount_Term</th>\n",
       "      <th>Credit_History</th>\n",
       "      <th>Property_Area</th>\n",
       "      <th>Loan_Status</th>\n",
       "    </tr>\n",
       "  </thead>\n",
       "  <tbody>\n",
       "    <tr>\n",
       "      <th>0</th>\n",
       "      <td>1</td>\n",
       "      <td>0</td>\n",
       "      <td>0</td>\n",
       "      <td>0</td>\n",
       "      <td>1.113031</td>\n",
       "      <td>0.000000</td>\n",
       "      <td>1.714488</td>\n",
       "      <td>360.0</td>\n",
       "      <td>1.0</td>\n",
       "      <td>2</td>\n",
       "      <td>1</td>\n",
       "    </tr>\n",
       "    <tr>\n",
       "      <th>1</th>\n",
       "      <td>1</td>\n",
       "      <td>1</td>\n",
       "      <td>0</td>\n",
       "      <td>0</td>\n",
       "      <td>1.109684</td>\n",
       "      <td>11.467457</td>\n",
       "      <td>1.714488</td>\n",
       "      <td>360.0</td>\n",
       "      <td>1.0</td>\n",
       "      <td>0</td>\n",
       "      <td>0</td>\n",
       "    </tr>\n",
       "    <tr>\n",
       "      <th>2</th>\n",
       "      <td>1</td>\n",
       "      <td>0</td>\n",
       "      <td>0</td>\n",
       "      <td>1</td>\n",
       "      <td>1.103894</td>\n",
       "      <td>0.000000</td>\n",
       "      <td>1.592838</td>\n",
       "      <td>360.0</td>\n",
       "      <td>1.0</td>\n",
       "      <td>2</td>\n",
       "      <td>1</td>\n",
       "    </tr>\n",
       "    <tr>\n",
       "      <th>3</th>\n",
       "      <td>1</td>\n",
       "      <td>0</td>\n",
       "      <td>1</td>\n",
       "      <td>0</td>\n",
       "      <td>1.101856</td>\n",
       "      <td>13.310098</td>\n",
       "      <td>1.702237</td>\n",
       "      <td>360.0</td>\n",
       "      <td>1.0</td>\n",
       "      <td>2</td>\n",
       "      <td>1</td>\n",
       "    </tr>\n",
       "    <tr>\n",
       "      <th>4</th>\n",
       "      <td>1</td>\n",
       "      <td>0</td>\n",
       "      <td>0</td>\n",
       "      <td>0</td>\n",
       "      <td>1.113381</td>\n",
       "      <td>0.000000</td>\n",
       "      <td>1.733014</td>\n",
       "      <td>360.0</td>\n",
       "      <td>1.0</td>\n",
       "      <td>2</td>\n",
       "      <td>1</td>\n",
       "    </tr>\n",
       "    <tr>\n",
       "      <th>...</th>\n",
       "      <td>...</td>\n",
       "      <td>...</td>\n",
       "      <td>...</td>\n",
       "      <td>...</td>\n",
       "      <td>...</td>\n",
       "      <td>...</td>\n",
       "      <td>...</td>\n",
       "      <td>...</td>\n",
       "      <td>...</td>\n",
       "      <td>...</td>\n",
       "      <td>...</td>\n",
       "    </tr>\n",
       "    <tr>\n",
       "      <th>609</th>\n",
       "      <td>0</td>\n",
       "      <td>0</td>\n",
       "      <td>0</td>\n",
       "      <td>0</td>\n",
       "      <td>1.103432</td>\n",
       "      <td>0.000000</td>\n",
       "      <td>1.605814</td>\n",
       "      <td>360.0</td>\n",
       "      <td>1.0</td>\n",
       "      <td>0</td>\n",
       "      <td>1</td>\n",
       "    </tr>\n",
       "    <tr>\n",
       "      <th>610</th>\n",
       "      <td>1</td>\n",
       "      <td>3</td>\n",
       "      <td>0</td>\n",
       "      <td>0</td>\n",
       "      <td>1.108179</td>\n",
       "      <td>0.000000</td>\n",
       "      <td>1.506630</td>\n",
       "      <td>180.0</td>\n",
       "      <td>1.0</td>\n",
       "      <td>0</td>\n",
       "      <td>1</td>\n",
       "    </tr>\n",
       "    <tr>\n",
       "      <th>611</th>\n",
       "      <td>1</td>\n",
       "      <td>1</td>\n",
       "      <td>0</td>\n",
       "      <td>0</td>\n",
       "      <td>1.117466</td>\n",
       "      <td>6.214465</td>\n",
       "      <td>1.849326</td>\n",
       "      <td>360.0</td>\n",
       "      <td>1.0</td>\n",
       "      <td>2</td>\n",
       "      <td>1</td>\n",
       "    </tr>\n",
       "    <tr>\n",
       "      <th>612</th>\n",
       "      <td>1</td>\n",
       "      <td>2</td>\n",
       "      <td>0</td>\n",
       "      <td>0</td>\n",
       "      <td>1.116604</td>\n",
       "      <td>0.000000</td>\n",
       "      <td>1.788244</td>\n",
       "      <td>360.0</td>\n",
       "      <td>1.0</td>\n",
       "      <td>2</td>\n",
       "      <td>1</td>\n",
       "    </tr>\n",
       "    <tr>\n",
       "      <th>613</th>\n",
       "      <td>0</td>\n",
       "      <td>0</td>\n",
       "      <td>0</td>\n",
       "      <td>1</td>\n",
       "      <td>1.109684</td>\n",
       "      <td>0.000000</td>\n",
       "      <td>1.721803</td>\n",
       "      <td>360.0</td>\n",
       "      <td>0.0</td>\n",
       "      <td>1</td>\n",
       "      <td>0</td>\n",
       "    </tr>\n",
       "  </tbody>\n",
       "</table>\n",
       "<p>587 rows × 11 columns</p>\n",
       "</div>"
      ],
      "text/plain": [
       "     Gender  Dependents  Education  Self_Employed  ApplicantIncome  \\\n",
       "0         1           0          0              0         1.113031   \n",
       "1         1           1          0              0         1.109684   \n",
       "2         1           0          0              1         1.103894   \n",
       "3         1           0          1              0         1.101856   \n",
       "4         1           0          0              0         1.113381   \n",
       "..      ...         ...        ...            ...              ...   \n",
       "609       0           0          0              0         1.103432   \n",
       "610       1           3          0              0         1.108179   \n",
       "611       1           1          0              0         1.117466   \n",
       "612       1           2          0              0         1.116604   \n",
       "613       0           0          0              1         1.109684   \n",
       "\n",
       "     CoapplicantIncome  LoanAmount  Loan_Amount_Term  Credit_History  \\\n",
       "0             0.000000    1.714488             360.0             1.0   \n",
       "1            11.467457    1.714488             360.0             1.0   \n",
       "2             0.000000    1.592838             360.0             1.0   \n",
       "3            13.310098    1.702237             360.0             1.0   \n",
       "4             0.000000    1.733014             360.0             1.0   \n",
       "..                 ...         ...               ...             ...   \n",
       "609           0.000000    1.605814             360.0             1.0   \n",
       "610           0.000000    1.506630             180.0             1.0   \n",
       "611           6.214465    1.849326             360.0             1.0   \n",
       "612           0.000000    1.788244             360.0             1.0   \n",
       "613           0.000000    1.721803             360.0             0.0   \n",
       "\n",
       "     Property_Area  Loan_Status  \n",
       "0                2            1  \n",
       "1                0            0  \n",
       "2                2            1  \n",
       "3                2            1  \n",
       "4                2            1  \n",
       "..             ...          ...  \n",
       "609              0            1  \n",
       "610              0            1  \n",
       "611              2            1  \n",
       "612              2            1  \n",
       "613              1            0  \n",
       "\n",
       "[587 rows x 11 columns]"
      ]
     },
     "execution_count": 56,
     "metadata": {},
     "output_type": "execute_result"
    }
   ],
   "source": [
    "df1= df[(z<3).all(axis=1)]\n",
    "df1"
   ]
  },
  {
   "cell_type": "code",
   "execution_count": 57,
   "id": "f7d04a07",
   "metadata": {},
   "outputs": [
    {
     "name": "stdout",
     "output_type": "stream",
     "text": [
      "4.397394136807818\n"
     ]
    }
   ],
   "source": [
    "loss_percent=(614-587)/614*100\n",
    "print(loss_percent)"
   ]
  },
  {
   "cell_type": "markdown",
   "id": "f8daef9c",
   "metadata": {},
   "source": [
    "With the help of Zscore i can remove skewness on this dataset and our loss of data is veryless and this loss is acceptable "
   ]
  },
  {
   "cell_type": "code",
   "execution_count": 58,
   "id": "9ff54593",
   "metadata": {},
   "outputs": [
    {
     "data": {
      "text/html": [
       "<div>\n",
       "<style scoped>\n",
       "    .dataframe tbody tr th:only-of-type {\n",
       "        vertical-align: middle;\n",
       "    }\n",
       "\n",
       "    .dataframe tbody tr th {\n",
       "        vertical-align: top;\n",
       "    }\n",
       "\n",
       "    .dataframe thead th {\n",
       "        text-align: right;\n",
       "    }\n",
       "</style>\n",
       "<table border=\"1\" class=\"dataframe\">\n",
       "  <thead>\n",
       "    <tr style=\"text-align: right;\">\n",
       "      <th></th>\n",
       "      <th>Gender</th>\n",
       "      <th>Dependents</th>\n",
       "      <th>Education</th>\n",
       "      <th>Self_Employed</th>\n",
       "      <th>ApplicantIncome</th>\n",
       "      <th>CoapplicantIncome</th>\n",
       "      <th>LoanAmount</th>\n",
       "      <th>Loan_Amount_Term</th>\n",
       "      <th>Credit_History</th>\n",
       "      <th>Property_Area</th>\n",
       "      <th>Loan_Status</th>\n",
       "    </tr>\n",
       "  </thead>\n",
       "  <tbody>\n",
       "    <tr>\n",
       "      <th>Gender</th>\n",
       "      <td>1.000000</td>\n",
       "      <td>0.191883</td>\n",
       "      <td>0.047731</td>\n",
       "      <td>-0.003641</td>\n",
       "      <td>0.051378</td>\n",
       "      <td>0.232420</td>\n",
       "      <td>0.156381</td>\n",
       "      <td>-0.102224</td>\n",
       "      <td>0.016074</td>\n",
       "      <td>-0.022088</td>\n",
       "      <td>0.010864</td>\n",
       "    </tr>\n",
       "    <tr>\n",
       "      <th>Dependents</th>\n",
       "      <td>0.191883</td>\n",
       "      <td>1.000000</td>\n",
       "      <td>0.058365</td>\n",
       "      <td>0.058845</td>\n",
       "      <td>0.118658</td>\n",
       "      <td>0.001334</td>\n",
       "      <td>0.142544</td>\n",
       "      <td>-0.083927</td>\n",
       "      <td>-0.026709</td>\n",
       "      <td>-0.005183</td>\n",
       "      <td>0.006274</td>\n",
       "    </tr>\n",
       "    <tr>\n",
       "      <th>Education</th>\n",
       "      <td>0.047731</td>\n",
       "      <td>0.058365</td>\n",
       "      <td>1.000000</td>\n",
       "      <td>-0.010160</td>\n",
       "      <td>-0.184536</td>\n",
       "      <td>0.020516</td>\n",
       "      <td>-0.144457</td>\n",
       "      <td>-0.093574</td>\n",
       "      <td>-0.077740</td>\n",
       "      <td>-0.066459</td>\n",
       "      <td>-0.094855</td>\n",
       "    </tr>\n",
       "    <tr>\n",
       "      <th>Self_Employed</th>\n",
       "      <td>-0.003641</td>\n",
       "      <td>0.058845</td>\n",
       "      <td>-0.010160</td>\n",
       "      <td>1.000000</td>\n",
       "      <td>0.192926</td>\n",
       "      <td>-0.060509</td>\n",
       "      <td>0.117075</td>\n",
       "      <td>-0.030284</td>\n",
       "      <td>-0.010510</td>\n",
       "      <td>-0.033492</td>\n",
       "      <td>-0.026727</td>\n",
       "    </tr>\n",
       "    <tr>\n",
       "      <th>ApplicantIncome</th>\n",
       "      <td>0.051378</td>\n",
       "      <td>0.118658</td>\n",
       "      <td>-0.184536</td>\n",
       "      <td>0.192926</td>\n",
       "      <td>1.000000</td>\n",
       "      <td>-0.342893</td>\n",
       "      <td>0.495073</td>\n",
       "      <td>-0.056261</td>\n",
       "      <td>0.049392</td>\n",
       "      <td>-0.036472</td>\n",
       "      <td>-0.012287</td>\n",
       "    </tr>\n",
       "    <tr>\n",
       "      <th>CoapplicantIncome</th>\n",
       "      <td>0.232420</td>\n",
       "      <td>0.001334</td>\n",
       "      <td>0.020516</td>\n",
       "      <td>-0.060509</td>\n",
       "      <td>-0.342893</td>\n",
       "      <td>1.000000</td>\n",
       "      <td>0.210196</td>\n",
       "      <td>-0.010131</td>\n",
       "      <td>-0.004975</td>\n",
       "      <td>-0.064664</td>\n",
       "      <td>0.055223</td>\n",
       "    </tr>\n",
       "    <tr>\n",
       "      <th>LoanAmount</th>\n",
       "      <td>0.156381</td>\n",
       "      <td>0.142544</td>\n",
       "      <td>-0.144457</td>\n",
       "      <td>0.117075</td>\n",
       "      <td>0.495073</td>\n",
       "      <td>0.210196</td>\n",
       "      <td>1.000000</td>\n",
       "      <td>0.063646</td>\n",
       "      <td>0.003855</td>\n",
       "      <td>-0.095674</td>\n",
       "      <td>-0.042405</td>\n",
       "    </tr>\n",
       "    <tr>\n",
       "      <th>Loan_Amount_Term</th>\n",
       "      <td>-0.102224</td>\n",
       "      <td>-0.083927</td>\n",
       "      <td>-0.093574</td>\n",
       "      <td>-0.030284</td>\n",
       "      <td>-0.056261</td>\n",
       "      <td>-0.010131</td>\n",
       "      <td>0.063646</td>\n",
       "      <td>1.000000</td>\n",
       "      <td>0.027747</td>\n",
       "      <td>-0.057229</td>\n",
       "      <td>-0.020026</td>\n",
       "    </tr>\n",
       "    <tr>\n",
       "      <th>Credit_History</th>\n",
       "      <td>0.016074</td>\n",
       "      <td>-0.026709</td>\n",
       "      <td>-0.077740</td>\n",
       "      <td>-0.010510</td>\n",
       "      <td>0.049392</td>\n",
       "      <td>-0.004975</td>\n",
       "      <td>0.003855</td>\n",
       "      <td>0.027747</td>\n",
       "      <td>1.000000</td>\n",
       "      <td>-0.009007</td>\n",
       "      <td>0.560053</td>\n",
       "    </tr>\n",
       "    <tr>\n",
       "      <th>Property_Area</th>\n",
       "      <td>-0.022088</td>\n",
       "      <td>-0.005183</td>\n",
       "      <td>-0.066459</td>\n",
       "      <td>-0.033492</td>\n",
       "      <td>-0.036472</td>\n",
       "      <td>-0.064664</td>\n",
       "      <td>-0.095674</td>\n",
       "      <td>-0.057229</td>\n",
       "      <td>-0.009007</td>\n",
       "      <td>1.000000</td>\n",
       "      <td>0.019963</td>\n",
       "    </tr>\n",
       "    <tr>\n",
       "      <th>Loan_Status</th>\n",
       "      <td>0.010864</td>\n",
       "      <td>0.006274</td>\n",
       "      <td>-0.094855</td>\n",
       "      <td>-0.026727</td>\n",
       "      <td>-0.012287</td>\n",
       "      <td>0.055223</td>\n",
       "      <td>-0.042405</td>\n",
       "      <td>-0.020026</td>\n",
       "      <td>0.560053</td>\n",
       "      <td>0.019963</td>\n",
       "      <td>1.000000</td>\n",
       "    </tr>\n",
       "  </tbody>\n",
       "</table>\n",
       "</div>"
      ],
      "text/plain": [
       "                     Gender  Dependents  Education  Self_Employed  \\\n",
       "Gender             1.000000    0.191883   0.047731      -0.003641   \n",
       "Dependents         0.191883    1.000000   0.058365       0.058845   \n",
       "Education          0.047731    0.058365   1.000000      -0.010160   \n",
       "Self_Employed     -0.003641    0.058845  -0.010160       1.000000   \n",
       "ApplicantIncome    0.051378    0.118658  -0.184536       0.192926   \n",
       "CoapplicantIncome  0.232420    0.001334   0.020516      -0.060509   \n",
       "LoanAmount         0.156381    0.142544  -0.144457       0.117075   \n",
       "Loan_Amount_Term  -0.102224   -0.083927  -0.093574      -0.030284   \n",
       "Credit_History     0.016074   -0.026709  -0.077740      -0.010510   \n",
       "Property_Area     -0.022088   -0.005183  -0.066459      -0.033492   \n",
       "Loan_Status        0.010864    0.006274  -0.094855      -0.026727   \n",
       "\n",
       "                   ApplicantIncome  CoapplicantIncome  LoanAmount  \\\n",
       "Gender                    0.051378           0.232420    0.156381   \n",
       "Dependents                0.118658           0.001334    0.142544   \n",
       "Education                -0.184536           0.020516   -0.144457   \n",
       "Self_Employed             0.192926          -0.060509    0.117075   \n",
       "ApplicantIncome           1.000000          -0.342893    0.495073   \n",
       "CoapplicantIncome        -0.342893           1.000000    0.210196   \n",
       "LoanAmount                0.495073           0.210196    1.000000   \n",
       "Loan_Amount_Term         -0.056261          -0.010131    0.063646   \n",
       "Credit_History            0.049392          -0.004975    0.003855   \n",
       "Property_Area            -0.036472          -0.064664   -0.095674   \n",
       "Loan_Status              -0.012287           0.055223   -0.042405   \n",
       "\n",
       "                   Loan_Amount_Term  Credit_History  Property_Area  \\\n",
       "Gender                    -0.102224        0.016074      -0.022088   \n",
       "Dependents                -0.083927       -0.026709      -0.005183   \n",
       "Education                 -0.093574       -0.077740      -0.066459   \n",
       "Self_Employed             -0.030284       -0.010510      -0.033492   \n",
       "ApplicantIncome           -0.056261        0.049392      -0.036472   \n",
       "CoapplicantIncome         -0.010131       -0.004975      -0.064664   \n",
       "LoanAmount                 0.063646        0.003855      -0.095674   \n",
       "Loan_Amount_Term           1.000000        0.027747      -0.057229   \n",
       "Credit_History             0.027747        1.000000      -0.009007   \n",
       "Property_Area             -0.057229       -0.009007       1.000000   \n",
       "Loan_Status               -0.020026        0.560053       0.019963   \n",
       "\n",
       "                   Loan_Status  \n",
       "Gender                0.010864  \n",
       "Dependents            0.006274  \n",
       "Education            -0.094855  \n",
       "Self_Employed        -0.026727  \n",
       "ApplicantIncome      -0.012287  \n",
       "CoapplicantIncome     0.055223  \n",
       "LoanAmount           -0.042405  \n",
       "Loan_Amount_Term     -0.020026  \n",
       "Credit_History        0.560053  \n",
       "Property_Area         0.019963  \n",
       "Loan_Status           1.000000  "
      ]
     },
     "execution_count": 58,
     "metadata": {},
     "output_type": "execute_result"
    }
   ],
   "source": [
    "cor=df1.corr()\n",
    "cor"
   ]
  },
  {
   "cell_type": "code",
   "execution_count": 59,
   "id": "09852dde",
   "metadata": {},
   "outputs": [
    {
     "data": {
      "text/plain": [
       "Loan_Status          1.000000\n",
       "Credit_History       0.560053\n",
       "CoapplicantIncome    0.055223\n",
       "Property_Area        0.019963\n",
       "Gender               0.010864\n",
       "Dependents           0.006274\n",
       "ApplicantIncome     -0.012287\n",
       "Loan_Amount_Term    -0.020026\n",
       "Self_Employed       -0.026727\n",
       "LoanAmount          -0.042405\n",
       "Education           -0.094855\n",
       "Name: Loan_Status, dtype: float64"
      ]
     },
     "execution_count": 59,
     "metadata": {},
     "output_type": "execute_result"
    }
   ],
   "source": [
    "cor['Loan_Status'].sort_values(ascending=False)"
   ]
  },
  {
   "cell_type": "code",
   "execution_count": 60,
   "id": "d4fa357e",
   "metadata": {},
   "outputs": [
    {
     "data": {
      "image/png": "[encoded data removed]",
      "text/plain": [
       "<Figure size 1440x432 with 1 Axes>"
      ]
     },
     "metadata": {
      "needs_background": "light"
     },
     "output_type": "display_data"
    }
   ],
   "source": [
    "plt.figure(figsize=(20,6))\n",
    "df.corr()['Loan_Status'].sort_values(ascending=False).drop(['Loan_Status']).plot(kind='bar',color='m')\n",
    "plt.xlabel('Feature',fontsize= 15)\n",
    "plt.ylabel('target',fontsize= 15)\n",
    "plt.title('corelation between feature and lable',fontsize=20)\n",
    "plt.show()"
   ]
  },
  {
   "cell_type": "markdown",
   "id": "c139d233",
   "metadata": {},
   "source": [
    "Gender column is very less corelated with my target variable so i can drop it"
   ]
  },
  {
   "cell_type": "code",
   "execution_count": 62,
   "id": "5577390d",
   "metadata": {},
   "outputs": [],
   "source": [
    "df1.drop('Gender',axis=1,inplace=True)"
   ]
  },
  {
   "cell_type": "markdown",
   "id": "ab9c2267",
   "metadata": {},
   "source": [
    "# Seperating Target And Features Variable"
   ]
  },
  {
   "cell_type": "code",
   "execution_count": 63,
   "id": "e7933592",
   "metadata": {},
   "outputs": [],
   "source": [
    "y=df1.iloc[:,-1]\n",
    "x=df1.drop('Loan_Status',axis=1)"
   ]
  },
  {
   "cell_type": "code",
   "execution_count": 100,
   "id": "85f90cea",
   "metadata": {},
   "outputs": [
    {
     "data": {
      "text/plain": [
       "0      1\n",
       "1      0\n",
       "2      1\n",
       "3      1\n",
       "4      1\n",
       "      ..\n",
       "609    1\n",
       "610    1\n",
       "611    1\n",
       "612    1\n",
       "613    0\n",
       "Name: Loan_Status, Length: 587, dtype: int32"
      ]
     },
     "execution_count": 100,
     "metadata": {},
     "output_type": "execute_result"
    }
   ],
   "source": [
    "y"
   ]
  },
  {
   "cell_type": "code",
   "execution_count": 65,
   "id": "eff9adc9",
   "metadata": {},
   "outputs": [
    {
     "data": {
      "text/html": [
       "<div>\n",
       "<style scoped>\n",
       "    .dataframe tbody tr th:only-of-type {\n",
       "        vertical-align: middle;\n",
       "    }\n",
       "\n",
       "    .dataframe tbody tr th {\n",
       "        vertical-align: top;\n",
       "    }\n",
       "\n",
       "    .dataframe thead th {\n",
       "        text-align: right;\n",
       "    }\n",
       "</style>\n",
       "<table border=\"1\" class=\"dataframe\">\n",
       "  <thead>\n",
       "    <tr style=\"text-align: right;\">\n",
       "      <th></th>\n",
       "      <th>0</th>\n",
       "      <th>1</th>\n",
       "      <th>2</th>\n",
       "      <th>3</th>\n",
       "      <th>4</th>\n",
       "      <th>5</th>\n",
       "      <th>6</th>\n",
       "      <th>7</th>\n",
       "      <th>8</th>\n",
       "    </tr>\n",
       "  </thead>\n",
       "  <tbody>\n",
       "    <tr>\n",
       "      <th>0</th>\n",
       "      <td>0.000000</td>\n",
       "      <td>0.0</td>\n",
       "      <td>0.0</td>\n",
       "      <td>0.605724</td>\n",
       "      <td>0.000000</td>\n",
       "      <td>0.498232</td>\n",
       "      <td>0.6</td>\n",
       "      <td>1.0</td>\n",
       "      <td>1.0</td>\n",
       "    </tr>\n",
       "    <tr>\n",
       "      <th>1</th>\n",
       "      <td>0.333333</td>\n",
       "      <td>0.0</td>\n",
       "      <td>0.0</td>\n",
       "      <td>0.537898</td>\n",
       "      <td>0.422465</td>\n",
       "      <td>0.498232</td>\n",
       "      <td>0.6</td>\n",
       "      <td>1.0</td>\n",
       "      <td>0.0</td>\n",
       "    </tr>\n",
       "    <tr>\n",
       "      <th>2</th>\n",
       "      <td>0.000000</td>\n",
       "      <td>0.0</td>\n",
       "      <td>1.0</td>\n",
       "      <td>0.420553</td>\n",
       "      <td>0.000000</td>\n",
       "      <td>0.280425</td>\n",
       "      <td>0.6</td>\n",
       "      <td>1.0</td>\n",
       "      <td>1.0</td>\n",
       "    </tr>\n",
       "    <tr>\n",
       "      <th>3</th>\n",
       "      <td>0.000000</td>\n",
       "      <td>1.0</td>\n",
       "      <td>0.0</td>\n",
       "      <td>0.379254</td>\n",
       "      <td>0.490348</td>\n",
       "      <td>0.476298</td>\n",
       "      <td>0.6</td>\n",
       "      <td>1.0</td>\n",
       "      <td>1.0</td>\n",
       "    </tr>\n",
       "    <tr>\n",
       "      <th>4</th>\n",
       "      <td>0.000000</td>\n",
       "      <td>0.0</td>\n",
       "      <td>0.0</td>\n",
       "      <td>0.612823</td>\n",
       "      <td>0.000000</td>\n",
       "      <td>0.531402</td>\n",
       "      <td>0.6</td>\n",
       "      <td>1.0</td>\n",
       "      <td>1.0</td>\n",
       "    </tr>\n",
       "    <tr>\n",
       "      <th>...</th>\n",
       "      <td>...</td>\n",
       "      <td>...</td>\n",
       "      <td>...</td>\n",
       "      <td>...</td>\n",
       "      <td>...</td>\n",
       "      <td>...</td>\n",
       "      <td>...</td>\n",
       "      <td>...</td>\n",
       "      <td>...</td>\n",
       "    </tr>\n",
       "    <tr>\n",
       "      <th>582</th>\n",
       "      <td>0.000000</td>\n",
       "      <td>0.0</td>\n",
       "      <td>0.0</td>\n",
       "      <td>0.411191</td>\n",
       "      <td>0.000000</td>\n",
       "      <td>0.303659</td>\n",
       "      <td>0.6</td>\n",
       "      <td>1.0</td>\n",
       "      <td>0.0</td>\n",
       "    </tr>\n",
       "    <tr>\n",
       "      <th>583</th>\n",
       "      <td>1.000000</td>\n",
       "      <td>0.0</td>\n",
       "      <td>0.0</td>\n",
       "      <td>0.507403</td>\n",
       "      <td>0.000000</td>\n",
       "      <td>0.126075</td>\n",
       "      <td>0.0</td>\n",
       "      <td>1.0</td>\n",
       "      <td>0.0</td>\n",
       "    </tr>\n",
       "    <tr>\n",
       "      <th>584</th>\n",
       "      <td>0.333333</td>\n",
       "      <td>0.0</td>\n",
       "      <td>0.0</td>\n",
       "      <td>0.695612</td>\n",
       "      <td>0.228943</td>\n",
       "      <td>0.739651</td>\n",
       "      <td>0.6</td>\n",
       "      <td>1.0</td>\n",
       "      <td>1.0</td>\n",
       "    </tr>\n",
       "    <tr>\n",
       "      <th>585</th>\n",
       "      <td>0.666667</td>\n",
       "      <td>0.0</td>\n",
       "      <td>0.0</td>\n",
       "      <td>0.678146</td>\n",
       "      <td>0.000000</td>\n",
       "      <td>0.630288</td>\n",
       "      <td>0.6</td>\n",
       "      <td>1.0</td>\n",
       "      <td>1.0</td>\n",
       "    </tr>\n",
       "    <tr>\n",
       "      <th>586</th>\n",
       "      <td>0.000000</td>\n",
       "      <td>0.0</td>\n",
       "      <td>1.0</td>\n",
       "      <td>0.537898</td>\n",
       "      <td>0.000000</td>\n",
       "      <td>0.511329</td>\n",
       "      <td>0.6</td>\n",
       "      <td>0.0</td>\n",
       "      <td>0.5</td>\n",
       "    </tr>\n",
       "  </tbody>\n",
       "</table>\n",
       "<p>587 rows × 9 columns</p>\n",
       "</div>"
      ],
      "text/plain": [
       "            0    1    2         3         4         5    6    7    8\n",
       "0    0.000000  0.0  0.0  0.605724  0.000000  0.498232  0.6  1.0  1.0\n",
       "1    0.333333  0.0  0.0  0.537898  0.422465  0.498232  0.6  1.0  0.0\n",
       "2    0.000000  0.0  1.0  0.420553  0.000000  0.280425  0.6  1.0  1.0\n",
       "3    0.000000  1.0  0.0  0.379254  0.490348  0.476298  0.6  1.0  1.0\n",
       "4    0.000000  0.0  0.0  0.612823  0.000000  0.531402  0.6  1.0  1.0\n",
       "..        ...  ...  ...       ...       ...       ...  ...  ...  ...\n",
       "582  0.000000  0.0  0.0  0.411191  0.000000  0.303659  0.6  1.0  0.0\n",
       "583  1.000000  0.0  0.0  0.507403  0.000000  0.126075  0.0  1.0  0.0\n",
       "584  0.333333  0.0  0.0  0.695612  0.228943  0.739651  0.6  1.0  1.0\n",
       "585  0.666667  0.0  0.0  0.678146  0.000000  0.630288  0.6  1.0  1.0\n",
       "586  0.000000  0.0  1.0  0.537898  0.000000  0.511329  0.6  0.0  0.5\n",
       "\n",
       "[587 rows x 9 columns]"
      ]
     },
     "execution_count": 65,
     "metadata": {},
     "output_type": "execute_result"
    }
   ],
   "source": [
    "from sklearn.preprocessing import MinMaxScaler\n",
    "st = MinMaxScaler()\n",
    "x = st.fit_transform(x)\n",
    "x = pd.DataFrame(x)\n",
    "x"
   ]
  },
  {
   "cell_type": "markdown",
   "id": "8dbc61bc",
   "metadata": {},
   "source": [
    "With the help of MinMax scaller i can balanced my data from 0 to 1"
   ]
  },
  {
   "cell_type": "markdown",
   "id": "202966a6",
   "metadata": {},
   "source": [
    "# Now we go for data modelling"
   ]
  },
  {
   "cell_type": "markdown",
   "id": "7402bca2",
   "metadata": {},
   "source": [
    "# Finding the best random state"
   ]
  },
  {
   "cell_type": "code",
   "execution_count": 66,
   "id": "a4e2ae48",
   "metadata": {},
   "outputs": [
    {
     "name": "stderr",
     "output_type": "stream",
     "text": [
      "100%|██████████| 199/199 [00:50<00:00,  3.91it/s]"
     ]
    },
    {
     "name": "stdout",
     "output_type": "stream",
     "text": [
      "Best Accuracy score is: 0.8700564971751412 at Random state: 53\n"
     ]
    },
    {
     "name": "stderr",
     "output_type": "stream",
     "text": [
      "\n"
     ]
    }
   ],
   "source": [
    "from sklearn.model_selection import train_test_split\n",
    "from sklearn.metrics import accuracy_score\n",
    "from sklearn.ensemble import RandomForestClassifier\n",
    "from tqdm import tqdm\n",
    "maxaccu = 0\n",
    "maxrs = 0\n",
    "    \n",
    "for i in tqdm(range (1,200)):\n",
    "    \n",
    "    x_train, x_test, y_train, y_test = train_test_split(x, y, test_size = 0.30,random_state = i)\n",
    "    RFR=RandomForestClassifier()\n",
    "    RFR.fit(x_train, y_train)\n",
    "    pred = RFR.predict(x_test)\n",
    "    acc = accuracy_score(y_test, pred)\n",
    "    if acc>maxaccu:\n",
    "        maxaccu = acc\n",
    "        maxrs = i\n",
    "\n",
    "print(\"Best Accuracy score is:\",maxaccu,'at Random state:',maxrs)"
   ]
  },
  {
   "cell_type": "code",
   "execution_count": 67,
   "id": "8db1e579",
   "metadata": {},
   "outputs": [],
   "source": [
    " x_train, x_test, y_train, y_test = train_test_split(x, y, test_size = 0.30,random_state = maxrs)"
   ]
  },
  {
   "cell_type": "markdown",
   "id": "6d9f5500",
   "metadata": {},
   "source": [
    "# Classification Algorithums &  Cross Validation Score"
   ]
  },
  {
   "cell_type": "code",
   "execution_count": 68,
   "id": "babd7c86",
   "metadata": {},
   "outputs": [],
   "source": [
    "from sklearn.naive_bayes import MultinomialNB,GaussianNB\n",
    "from sklearn.ensemble import RandomForestClassifier,ExtraTreesClassifier\n",
    "from sklearn.svm import SVC\n",
    "from sklearn.tree import DecisionTreeClassifier\n",
    "from sklearn.neighbors import KNeighborsClassifier\n",
    "from sklearn.metrics import classification_report, accuracy_score,confusion_matrix\n",
    "from sklearn.model_selection import cross_val_score\n",
    "from sklearn.linear_model import LogisticRegression\n",
    "import warnings\n",
    "warnings.filterwarnings('ignore')\n",
    "lg=LogisticRegression()\n",
    "gnb=GaussianNB()\n",
    "mnb= MultinomialNB()\n",
    "dtc= DecisionTreeClassifier()\n",
    "svm=SVC()\n",
    "knn=KNeighborsClassifier()\n",
    "RFC=RandomForestClassifier()\n",
    "ETC=ExtraTreesClassifier()\n",
    "model=[lg,gnb,mnb,dtc,svm,knn,RFC,ETC]"
   ]
  },
  {
   "cell_type": "code",
   "execution_count": 69,
   "id": "52317423",
   "metadata": {},
   "outputs": [
    {
     "name": "stderr",
     "output_type": "stream",
     "text": [
      " 50%|█████     | 4/8 [00:00<00:00, 34.55it/s]"
     ]
    },
    {
     "name": "stdout",
     "output_type": "stream",
     "text": [
      "accuracy score of  LogisticRegression() is\n",
      "0.8813559322033898\n",
      "[[ 27  20]\n",
      " [  1 129]]\n",
      "              precision    recall  f1-score   support\n",
      "\n",
      "           0       0.96      0.57      0.72        47\n",
      "           1       0.87      0.99      0.92       130\n",
      "\n",
      "    accuracy                           0.88       177\n",
      "   macro avg       0.92      0.78      0.82       177\n",
      "weighted avg       0.89      0.88      0.87       177\n",
      "\n",
      "accuracy score of  GaussianNB() is\n",
      "0.8813559322033898\n",
      "[[ 27  20]\n",
      " [  1 129]]\n",
      "              precision    recall  f1-score   support\n",
      "\n",
      "           0       0.96      0.57      0.72        47\n",
      "           1       0.87      0.99      0.92       130\n",
      "\n",
      "    accuracy                           0.88       177\n",
      "   macro avg       0.92      0.78      0.82       177\n",
      "weighted avg       0.89      0.88      0.87       177\n",
      "\n",
      "accuracy score of  MultinomialNB() is\n",
      "0.7344632768361582\n",
      "[[  0  47]\n",
      " [  0 130]]\n",
      "              precision    recall  f1-score   support\n",
      "\n",
      "           0       0.00      0.00      0.00        47\n",
      "           1       0.73      1.00      0.85       130\n",
      "\n",
      "    accuracy                           0.73       177\n",
      "   macro avg       0.37      0.50      0.42       177\n",
      "weighted avg       0.54      0.73      0.62       177\n",
      "\n",
      "accuracy score of  DecisionTreeClassifier() is\n",
      "0.7401129943502824\n",
      "[[ 27  20]\n",
      " [ 26 104]]\n",
      "              precision    recall  f1-score   support\n",
      "\n",
      "           0       0.51      0.57      0.54        47\n",
      "           1       0.84      0.80      0.82       130\n",
      "\n",
      "    accuracy                           0.74       177\n",
      "   macro avg       0.67      0.69      0.68       177\n",
      "weighted avg       0.75      0.74      0.74       177\n",
      "\n",
      "accuracy score of  SVC() is\n",
      "0.8813559322033898\n",
      "[[ 27  20]\n",
      " [  1 129]]\n",
      "              precision    recall  f1-score   support\n",
      "\n",
      "           0       0.96      0.57      0.72        47\n",
      "           1       0.87      0.99      0.92       130\n",
      "\n",
      "    accuracy                           0.88       177\n",
      "   macro avg       0.92      0.78      0.82       177\n",
      "weighted avg       0.89      0.88      0.87       177\n",
      "\n",
      "accuracy score of  KNeighborsClassifier() is\n",
      "0.8700564971751412\n",
      "[[ 29  18]\n",
      " [  5 125]]\n",
      "              precision    recall  f1-score   support\n",
      "\n",
      "           0       0.85      0.62      0.72        47\n",
      "           1       0.87      0.96      0.92       130\n",
      "\n",
      "    accuracy                           0.87       177\n",
      "   macro avg       0.86      0.79      0.82       177\n",
      "weighted avg       0.87      0.87      0.86       177\n",
      "\n",
      "accuracy score of  RandomForestClassifier() is\n",
      "0.847457627118644\n",
      "[[ 29  18]\n",
      " [  9 121]]\n",
      "              precision    recall  f1-score   support\n",
      "\n",
      "           0       0.76      0.62      0.68        47\n",
      "           1       0.87      0.93      0.90       130\n",
      "\n",
      "    accuracy                           0.85       177\n",
      "   macro avg       0.82      0.77      0.79       177\n",
      "weighted avg       0.84      0.85      0.84       177\n",
      "\n",
      "accuracy score of  ExtraTreesClassifier() is\n"
     ]
    },
    {
     "name": "stderr",
     "output_type": "stream",
     "text": [
      "100%|██████████| 8/8 [00:00<00:00, 12.25it/s]"
     ]
    },
    {
     "name": "stdout",
     "output_type": "stream",
     "text": [
      "0.8587570621468926\n",
      "[[ 30  17]\n",
      " [  8 122]]\n",
      "              precision    recall  f1-score   support\n",
      "\n",
      "           0       0.79      0.64      0.71        47\n",
      "           1       0.88      0.94      0.91       130\n",
      "\n",
      "    accuracy                           0.86       177\n",
      "   macro avg       0.83      0.79      0.81       177\n",
      "weighted avg       0.85      0.86      0.85       177\n",
      "\n"
     ]
    },
    {
     "name": "stderr",
     "output_type": "stream",
     "text": [
      "\n"
     ]
    }
   ],
   "source": [
    "for M in tqdm(model):\n",
    "    M.fit(x_train,y_train)\n",
    "    pred=M.predict(x_test)\n",
    "    print('accuracy score of ',M,'is',)\n",
    "    print(accuracy_score(y_test,pred))\n",
    "    print(confusion_matrix(y_test,pred))\n",
    "    print(classification_report(y_test,pred))"
   ]
  },
  {
   "cell_type": "code",
   "execution_count": 72,
   "id": "c5aa31a8",
   "metadata": {
    "scrolled": true
   },
   "outputs": [
    {
     "name": "stderr",
     "output_type": "stream",
     "text": [
      " 12%|█▎        | 1/8 [00:00<00:00,  8.39it/s]"
     ]
    },
    {
     "name": "stdout",
     "output_type": "stream",
     "text": [
      "LogisticRegression()\n",
      "[0.80508475 0.79661017 0.78632479 0.86324786 0.83760684]\n",
      "0.8177748804867448\n",
      "difference between and cross validation score is 0.040982181660147776\n",
      "\n",
      "\n",
      "_____________________________________________________________________\n",
      "GaussianNB()\n",
      "[0.80508475 0.79661017 0.78632479 0.86324786 0.83760684]\n",
      "0.8177748804867448\n",
      "difference between and cross validation score is 0.040982181660147776\n",
      "\n",
      "\n",
      "_____________________________________________________________________\n",
      "MultinomialNB()\n"
     ]
    },
    {
     "name": "stderr",
     "output_type": "stream",
     "text": [
      "\r",
      " 38%|███▊      | 3/8 [00:00<00:00, 14.24it/s]"
     ]
    },
    {
     "name": "stdout",
     "output_type": "stream",
     "text": [
      "[0.69491525 0.68644068 0.7008547  0.69230769 0.69230769]\n",
      "0.6933652035346951\n",
      "difference between and cross validation score is 0.16539185861219752\n",
      "\n",
      "\n",
      "_____________________________________________________________________\n",
      "DecisionTreeClassifier()\n",
      "[0.73728814 0.69491525 0.68376068 0.75213675 0.73504274]\n",
      "0.7206287121541359\n",
      "difference between and cross validation score is 0.1381283499927567\n",
      "\n",
      "\n",
      "_____________________________________________________________________\n",
      "SVC()\n"
     ]
    },
    {
     "name": "stderr",
     "output_type": "stream",
     "text": [
      "\r",
      " 62%|██████▎   | 5/8 [00:00<00:00, 11.80it/s]"
     ]
    },
    {
     "name": "stdout",
     "output_type": "stream",
     "text": [
      "[0.80508475 0.79661017 0.78632479 0.86324786 0.83760684]\n",
      "0.8177748804867448\n",
      "difference between and cross validation score is 0.040982181660147776\n",
      "\n",
      "\n",
      "_____________________________________________________________________\n",
      "KNeighborsClassifier()\n",
      "[0.74576271 0.77118644 0.78632479 0.85470085 0.73504274]\n",
      "0.7786035057221498\n",
      "difference between and cross validation score is 0.08015355642474287\n",
      "\n",
      "\n",
      "_____________________________________________________________________\n",
      "RandomForestClassifier()\n"
     ]
    },
    {
     "name": "stderr",
     "output_type": "stream",
     "text": [
      "\r",
      " 88%|████████▊ | 7/8 [00:02<00:00,  2.43it/s]"
     ]
    },
    {
     "name": "stdout",
     "output_type": "stream",
     "text": [
      "[0.77118644 0.77118644 0.78632479 0.85470085 0.79487179]\n",
      "0.7956540634506737\n",
      "difference between and cross validation score is 0.06310299869621894\n",
      "\n",
      "\n",
      "_____________________________________________________________________\n",
      "ExtraTreesClassifier()\n"
     ]
    },
    {
     "name": "stderr",
     "output_type": "stream",
     "text": [
      "100%|██████████| 8/8 [00:03<00:00,  2.35it/s]"
     ]
    },
    {
     "name": "stdout",
     "output_type": "stream",
     "text": [
      "[0.74576271 0.75423729 0.81196581 0.82905983 0.76068376]\n",
      "0.7803418803418803\n",
      "difference between and cross validation score is 0.07841518180501228\n",
      "\n",
      "\n",
      "_____________________________________________________________________\n"
     ]
    },
    {
     "name": "stderr",
     "output_type": "stream",
     "text": [
      "\n"
     ]
    }
   ],
   "source": [
    "for M in tqdm(model):\n",
    "    print(M)\n",
    "    score=cross_val_score(M,x,y,cv=5)\n",
    "    print(score)\n",
    "    print(score.mean())\n",
    "    print('difference between and cross validation score is',accuracy_score(y_test,pred) - score.mean())\n",
    "    print(\"\\n\")\n",
    "    print(\"_____________________________________________________________________\")"
   ]
  },
  {
   "cell_type": "markdown",
   "id": "8171590e",
   "metadata": {},
   "source": [
    "Logistic Regression give very high accuracy compare to other algorithums with low cross validation score______________________accuracy is 88.13% and CVS is .04% on the basis of this points i can select Logistic Regression"
   ]
  },
  {
   "cell_type": "markdown",
   "id": "86714588",
   "metadata": {},
   "source": [
    "# Hyper Parameter Tuning"
   ]
  },
  {
   "cell_type": "code",
   "execution_count": 73,
   "id": "98e54b6c",
   "metadata": {},
   "outputs": [],
   "source": [
    "from sklearn.model_selection import GridSearchCV"
   ]
  },
  {
   "cell_type": "code",
   "execution_count": 74,
   "id": "622c323b",
   "metadata": {},
   "outputs": [],
   "source": [
    "parameters= { 'C': [0.1, 1.0, 10.0],\n",
    "    'penalty': ['l1', 'l2'],\n",
    "    'solver': ['liblinear', 'saga'],\n",
    "    'max_iter': [100, 200, 500]}"
   ]
  },
  {
   "cell_type": "code",
   "execution_count": 75,
   "id": "1c21bedb",
   "metadata": {},
   "outputs": [],
   "source": [
    "GCV=GridSearchCV(LogisticRegression(),parameters,cv=5)"
   ]
  },
  {
   "cell_type": "code",
   "execution_count": 76,
   "id": "26ff6a32",
   "metadata": {},
   "outputs": [
    {
     "data": {
      "text/plain": [
       "GridSearchCV(cv=5, estimator=LogisticRegression(),\n",
       "             param_grid={'C': [0.1, 1.0, 10.0], 'max_iter': [100, 200, 500],\n",
       "                         'penalty': ['l1', 'l2'],\n",
       "                         'solver': ['liblinear', 'saga']})"
      ]
     },
     "execution_count": 76,
     "metadata": {},
     "output_type": "execute_result"
    }
   ],
   "source": [
    "GCV.fit(x_train, y_train)"
   ]
  },
  {
   "cell_type": "code",
   "execution_count": 77,
   "id": "701b07e9",
   "metadata": {},
   "outputs": [
    {
     "data": {
      "text/plain": [
       "{'C': 0.1, 'max_iter': 100, 'penalty': 'l1', 'solver': 'liblinear'}"
      ]
     },
     "execution_count": 77,
     "metadata": {},
     "output_type": "execute_result"
    }
   ],
   "source": [
    "GCV.best_params_"
   ]
  },
  {
   "cell_type": "code",
   "execution_count": 90,
   "id": "2f09e814",
   "metadata": {},
   "outputs": [
    {
     "name": "stdout",
     "output_type": "stream",
     "text": [
      "88.13559322033898\n"
     ]
    }
   ],
   "source": [
    "final= LogisticRegression(C= 0.1, max_iter= 100, penalty= 'l1', solver= 'liblinear')\n",
    "final.fit(x_train, y_train)\n",
    "pred= final.predict(x_test)\n",
    "acc= accuracy_score(y_test, pred)\n",
    "print(acc*100)"
   ]
  },
  {
   "cell_type": "markdown",
   "id": "f17df1bb",
   "metadata": {},
   "source": [
    "With the help of hyper parameter tuning accuracy of my model have not increased but it is necessary to check once\n"
   ]
  },
  {
   "cell_type": "markdown",
   "id": "9823a303",
   "metadata": {},
   "source": [
    "# Ploting AUC and Compare ROC curve for all the models used"
   ]
  },
  {
   "cell_type": "code",
   "execution_count": 91,
   "id": "78636da1",
   "metadata": {},
   "outputs": [],
   "source": [
    "from sklearn.metrics import roc_curve,auc\n",
    "from sklearn.metrics import roc_auc_score"
   ]
  },
  {
   "cell_type": "code",
   "execution_count": 93,
   "id": "0ae17fc4",
   "metadata": {},
   "outputs": [],
   "source": [
    "y_pred_prob = final.predict(x_test)"
   ]
  },
  {
   "cell_type": "code",
   "execution_count": 94,
   "id": "265766b0",
   "metadata": {},
   "outputs": [],
   "source": [
    "fpr, tpr, thresholds = roc_curve(y_test, y_pred_prob)\n",
    "roc_auc = auc(fpr, tpr)"
   ]
  },
  {
   "cell_type": "code",
   "execution_count": 95,
   "id": "a888e126",
   "metadata": {},
   "outputs": [
    {
     "data": {
      "image/png": "[encoded data removed]",
      "text/plain": [
       "<Figure size 432x288 with 1 Axes>"
      ]
     },
     "metadata": {
      "needs_background": "light"
     },
     "output_type": "display_data"
    }
   ],
   "source": [
    "plt.plot([0,1],[0,1],'k--')\n",
    "plt.plot(fpr,tpr,label='Random Forest Classifier(area=%0.2f)'%roc_auc)\n",
    "plt.xlabel('False positive rate')\n",
    "plt.ylabel('True positive rate')\n",
    "plt.title('Random Forest Classifier')\n",
    "plt.show()"
   ]
  },
  {
   "cell_type": "code",
   "execution_count": 96,
   "id": "8522fbaf",
   "metadata": {},
   "outputs": [
    {
     "name": "stdout",
     "output_type": "stream",
     "text": [
      "Auc score: 0.7833878887070377\n"
     ]
    }
   ],
   "source": [
    "auc_score=roc_auc_score(y_test,final.predict(x_test))\n",
    "print('Auc score:',auc_score)"
   ]
  },
  {
   "cell_type": "markdown",
   "id": "e7a9f9f3",
   "metadata": {},
   "source": [
    "Now my AUC score is good means my model is working very well"
   ]
  },
  {
   "cell_type": "code",
   "execution_count": 97,
   "id": "d64249dc",
   "metadata": {},
   "outputs": [
    {
     "data": {
      "image/png": "[encoded data removed]",
      "text/plain": [
       "<Figure size 432x288 with 1 Axes>"
      ]
     },
     "metadata": {
      "needs_background": "light"
     },
     "output_type": "display_data"
    }
   ],
   "source": [
    "fpr, tpr, thresholds = roc_curve (y_test,pred)\n",
    "roc_auc = auc(fpr,tpr)\n",
    "\n",
    "plt.figure()\n",
    "plt.plot(fpr,tpr,lw=10,label='ROC curve(area=%0.2f)'%roc_auc)\n",
    "\n",
    "plt.plot([0,1],[0,1],lw=5,linestyle='--')\n",
    "#plt.xlim([0.0,1.0])\n",
    "#plt.ylim([0.0,1.05])\n",
    "plt.xlabel('FPR')\n",
    "plt.ylabel('TPR')\n",
    "plt.title('ROC')\n",
    "plt.legend(loc='lower right')\n",
    "plt.show()"
   ]
  },
  {
   "cell_type": "markdown",
   "id": "da28e015",
   "metadata": {},
   "source": [
    "# Saving the model using .pkl"
   ]
  },
  {
   "cell_type": "code",
   "execution_count": 102,
   "id": "b753efa7",
   "metadata": {},
   "outputs": [],
   "source": [
    "import pickle\n",
    "pickle.dump(final,open(' Loan Application Prediction dataset Analysis','wb'))"
   ]
  },
  {
   "cell_type": "code",
   "execution_count": 104,
   "id": "91c33aa8",
   "metadata": {},
   "outputs": [
    {
     "data": {
      "text/html": [
       "<div>\n",
       "<style scoped>\n",
       "    .dataframe tbody tr th:only-of-type {\n",
       "        vertical-align: middle;\n",
       "    }\n",
       "\n",
       "    .dataframe tbody tr th {\n",
       "        vertical-align: top;\n",
       "    }\n",
       "\n",
       "    .dataframe thead th {\n",
       "        text-align: right;\n",
       "    }\n",
       "</style>\n",
       "<table border=\"1\" class=\"dataframe\">\n",
       "  <thead>\n",
       "    <tr style=\"text-align: right;\">\n",
       "      <th></th>\n",
       "      <th>predicted</th>\n",
       "      <th>actual</th>\n",
       "    </tr>\n",
       "  </thead>\n",
       "  <tbody>\n",
       "    <tr>\n",
       "      <th>0</th>\n",
       "      <td>1</td>\n",
       "      <td>1</td>\n",
       "    </tr>\n",
       "    <tr>\n",
       "      <th>1</th>\n",
       "      <td>1</td>\n",
       "      <td>1</td>\n",
       "    </tr>\n",
       "    <tr>\n",
       "      <th>2</th>\n",
       "      <td>1</td>\n",
       "      <td>1</td>\n",
       "    </tr>\n",
       "    <tr>\n",
       "      <th>3</th>\n",
       "      <td>1</td>\n",
       "      <td>1</td>\n",
       "    </tr>\n",
       "    <tr>\n",
       "      <th>4</th>\n",
       "      <td>1</td>\n",
       "      <td>0</td>\n",
       "    </tr>\n",
       "    <tr>\n",
       "      <th>...</th>\n",
       "      <td>...</td>\n",
       "      <td>...</td>\n",
       "    </tr>\n",
       "    <tr>\n",
       "      <th>172</th>\n",
       "      <td>1</td>\n",
       "      <td>1</td>\n",
       "    </tr>\n",
       "    <tr>\n",
       "      <th>173</th>\n",
       "      <td>1</td>\n",
       "      <td>1</td>\n",
       "    </tr>\n",
       "    <tr>\n",
       "      <th>174</th>\n",
       "      <td>1</td>\n",
       "      <td>1</td>\n",
       "    </tr>\n",
       "    <tr>\n",
       "      <th>175</th>\n",
       "      <td>1</td>\n",
       "      <td>1</td>\n",
       "    </tr>\n",
       "    <tr>\n",
       "      <th>176</th>\n",
       "      <td>1</td>\n",
       "      <td>1</td>\n",
       "    </tr>\n",
       "  </tbody>\n",
       "</table>\n",
       "<p>177 rows × 2 columns</p>\n",
       "</div>"
      ],
      "text/plain": [
       "     predicted  actual\n",
       "0            1       1\n",
       "1            1       1\n",
       "2            1       1\n",
       "3            1       1\n",
       "4            1       0\n",
       "..         ...     ...\n",
       "172          1       1\n",
       "173          1       1\n",
       "174          1       1\n",
       "175          1       1\n",
       "176          1       1\n",
       "\n",
       "[177 rows x 2 columns]"
      ]
     },
     "execution_count": 104,
     "metadata": {},
     "output_type": "execute_result"
    }
   ],
   "source": [
    "loaded_model= pickle.load(open(\" Loan Application Prediction dataset Analysis\",\"rb\"))\n",
    "prediction= loaded_model.predict(x_test)\n",
    "a= np.array(y_test)\n",
    "df=pd.DataFrame()\n",
    "df['predicted']= prediction\n",
    "df['actual']= a\n",
    "df"
   ]
  },
  {
   "cell_type": "code",
   "execution_count": null,
   "id": "8986319e",
   "metadata": {},
   "outputs": [],
   "source": []
  }
 ],
 "metadata": {
  "kernelspec": {
   "display_name": "Python 3 (ipykernel)",
   "language": "python",
   "name": "python3"
  },
  "language_info": {
   "codemirror_mode": {
    "name": "ipython",
    "version": 3
   },
   "file_extension": ".py",
   "mimetype": "text/x-python",
   "name": "python",
   "nbconvert_exporter": "python",
   "pygments_lexer": "ipython3",
   "version": "3.9.12"
  }
 },
 "nbformat": 4,
 "nbformat_minor": 5
}
