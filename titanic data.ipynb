{
 "cells": [
  {
   "cell_type": "code",
   "execution_count": 1,
   "id": "c95ec9bc",
   "metadata": {},
   "outputs": [],
   "source": [
    "import pandas as pd\n",
    "import numpy as np\n",
    "import seaborn as sns\n",
    "import matplotlib.pyplot as plt\n",
    "import warnings\n",
    "warnings.filterwarnings('ignore')"
   ]
  },
  {
   "cell_type": "markdown",
   "id": "15f3fd2f",
   "metadata": {},
   "source": [
    "This dataset belongs to titanic ship,in this data our work is to predict the number of passengers would survived or not\n",
    "based on this features\n",
    "\n",
    "The dataset contain the data like PassengerID, Survived, Pclass, Name, Sex, Age, SibSp, Parch, Ticket, Fare, Cabin, Embarked\n",
    "\n",
    "In this dataset I want to predict the survivors in the titanic ship on the basis of given information of multiple people like their age, sex, embarkment, points etc \n"
   ]
  },
  {
   "cell_type": "code",
   "execution_count": 2,
   "id": "3fdce911",
   "metadata": {},
   "outputs": [
    {
     "data": {
      "text/html": [
       "<div>\n",
       "<style scoped>\n",
       "    .dataframe tbody tr th:only-of-type {\n",
       "        vertical-align: middle;\n",
       "    }\n",
       "\n",
       "    .dataframe tbody tr th {\n",
       "        vertical-align: top;\n",
       "    }\n",
       "\n",
       "    .dataframe thead th {\n",
       "        text-align: right;\n",
       "    }\n",
       "</style>\n",
       "<table border=\"1\" class=\"dataframe\">\n",
       "  <thead>\n",
       "    <tr style=\"text-align: right;\">\n",
       "      <th></th>\n",
       "      <th>PassengerId</th>\n",
       "      <th>Survived</th>\n",
       "      <th>Pclass</th>\n",
       "      <th>Name</th>\n",
       "      <th>Sex</th>\n",
       "      <th>Age</th>\n",
       "      <th>SibSp</th>\n",
       "      <th>Parch</th>\n",
       "      <th>Ticket</th>\n",
       "      <th>Fare</th>\n",
       "      <th>Cabin</th>\n",
       "      <th>Embarked</th>\n",
       "    </tr>\n",
       "  </thead>\n",
       "  <tbody>\n",
       "    <tr>\n",
       "      <th>0</th>\n",
       "      <td>1</td>\n",
       "      <td>0</td>\n",
       "      <td>3</td>\n",
       "      <td>Braund, Mr. Owen Harris</td>\n",
       "      <td>male</td>\n",
       "      <td>22.0</td>\n",
       "      <td>1</td>\n",
       "      <td>0</td>\n",
       "      <td>A/5 21171</td>\n",
       "      <td>7.2500</td>\n",
       "      <td>NaN</td>\n",
       "      <td>S</td>\n",
       "    </tr>\n",
       "    <tr>\n",
       "      <th>1</th>\n",
       "      <td>2</td>\n",
       "      <td>1</td>\n",
       "      <td>1</td>\n",
       "      <td>Cumings, Mrs. John Bradley (Florence Briggs Th...</td>\n",
       "      <td>female</td>\n",
       "      <td>38.0</td>\n",
       "      <td>1</td>\n",
       "      <td>0</td>\n",
       "      <td>PC 17599</td>\n",
       "      <td>71.2833</td>\n",
       "      <td>C85</td>\n",
       "      <td>C</td>\n",
       "    </tr>\n",
       "    <tr>\n",
       "      <th>2</th>\n",
       "      <td>3</td>\n",
       "      <td>1</td>\n",
       "      <td>3</td>\n",
       "      <td>Heikkinen, Miss. Laina</td>\n",
       "      <td>female</td>\n",
       "      <td>26.0</td>\n",
       "      <td>0</td>\n",
       "      <td>0</td>\n",
       "      <td>STON/O2. 3101282</td>\n",
       "      <td>7.9250</td>\n",
       "      <td>NaN</td>\n",
       "      <td>S</td>\n",
       "    </tr>\n",
       "    <tr>\n",
       "      <th>3</th>\n",
       "      <td>4</td>\n",
       "      <td>1</td>\n",
       "      <td>1</td>\n",
       "      <td>Futrelle, Mrs. Jacques Heath (Lily May Peel)</td>\n",
       "      <td>female</td>\n",
       "      <td>35.0</td>\n",
       "      <td>1</td>\n",
       "      <td>0</td>\n",
       "      <td>113803</td>\n",
       "      <td>53.1000</td>\n",
       "      <td>C123</td>\n",
       "      <td>S</td>\n",
       "    </tr>\n",
       "    <tr>\n",
       "      <th>4</th>\n",
       "      <td>5</td>\n",
       "      <td>0</td>\n",
       "      <td>3</td>\n",
       "      <td>Allen, Mr. William Henry</td>\n",
       "      <td>male</td>\n",
       "      <td>35.0</td>\n",
       "      <td>0</td>\n",
       "      <td>0</td>\n",
       "      <td>373450</td>\n",
       "      <td>8.0500</td>\n",
       "      <td>NaN</td>\n",
       "      <td>S</td>\n",
       "    </tr>\n",
       "    <tr>\n",
       "      <th>...</th>\n",
       "      <td>...</td>\n",
       "      <td>...</td>\n",
       "      <td>...</td>\n",
       "      <td>...</td>\n",
       "      <td>...</td>\n",
       "      <td>...</td>\n",
       "      <td>...</td>\n",
       "      <td>...</td>\n",
       "      <td>...</td>\n",
       "      <td>...</td>\n",
       "      <td>...</td>\n",
       "      <td>...</td>\n",
       "    </tr>\n",
       "    <tr>\n",
       "      <th>886</th>\n",
       "      <td>887</td>\n",
       "      <td>0</td>\n",
       "      <td>2</td>\n",
       "      <td>Montvila, Rev. Juozas</td>\n",
       "      <td>male</td>\n",
       "      <td>27.0</td>\n",
       "      <td>0</td>\n",
       "      <td>0</td>\n",
       "      <td>211536</td>\n",
       "      <td>13.0000</td>\n",
       "      <td>NaN</td>\n",
       "      <td>S</td>\n",
       "    </tr>\n",
       "    <tr>\n",
       "      <th>887</th>\n",
       "      <td>888</td>\n",
       "      <td>1</td>\n",
       "      <td>1</td>\n",
       "      <td>Graham, Miss. Margaret Edith</td>\n",
       "      <td>female</td>\n",
       "      <td>19.0</td>\n",
       "      <td>0</td>\n",
       "      <td>0</td>\n",
       "      <td>112053</td>\n",
       "      <td>30.0000</td>\n",
       "      <td>B42</td>\n",
       "      <td>S</td>\n",
       "    </tr>\n",
       "    <tr>\n",
       "      <th>888</th>\n",
       "      <td>889</td>\n",
       "      <td>0</td>\n",
       "      <td>3</td>\n",
       "      <td>Johnston, Miss. Catherine Helen \"Carrie\"</td>\n",
       "      <td>female</td>\n",
       "      <td>NaN</td>\n",
       "      <td>1</td>\n",
       "      <td>2</td>\n",
       "      <td>W./C. 6607</td>\n",
       "      <td>23.4500</td>\n",
       "      <td>NaN</td>\n",
       "      <td>S</td>\n",
       "    </tr>\n",
       "    <tr>\n",
       "      <th>889</th>\n",
       "      <td>890</td>\n",
       "      <td>1</td>\n",
       "      <td>1</td>\n",
       "      <td>Behr, Mr. Karl Howell</td>\n",
       "      <td>male</td>\n",
       "      <td>26.0</td>\n",
       "      <td>0</td>\n",
       "      <td>0</td>\n",
       "      <td>111369</td>\n",
       "      <td>30.0000</td>\n",
       "      <td>C148</td>\n",
       "      <td>C</td>\n",
       "    </tr>\n",
       "    <tr>\n",
       "      <th>890</th>\n",
       "      <td>891</td>\n",
       "      <td>0</td>\n",
       "      <td>3</td>\n",
       "      <td>Dooley, Mr. Patrick</td>\n",
       "      <td>male</td>\n",
       "      <td>32.0</td>\n",
       "      <td>0</td>\n",
       "      <td>0</td>\n",
       "      <td>370376</td>\n",
       "      <td>7.7500</td>\n",
       "      <td>NaN</td>\n",
       "      <td>Q</td>\n",
       "    </tr>\n",
       "  </tbody>\n",
       "</table>\n",
       "<p>891 rows × 12 columns</p>\n",
       "</div>"
      ],
      "text/plain": [
       "     PassengerId  Survived  Pclass  \\\n",
       "0              1         0       3   \n",
       "1              2         1       1   \n",
       "2              3         1       3   \n",
       "3              4         1       1   \n",
       "4              5         0       3   \n",
       "..           ...       ...     ...   \n",
       "886          887         0       2   \n",
       "887          888         1       1   \n",
       "888          889         0       3   \n",
       "889          890         1       1   \n",
       "890          891         0       3   \n",
       "\n",
       "                                                  Name     Sex   Age  SibSp  \\\n",
       "0                              Braund, Mr. Owen Harris    male  22.0      1   \n",
       "1    Cumings, Mrs. John Bradley (Florence Briggs Th...  female  38.0      1   \n",
       "2                               Heikkinen, Miss. Laina  female  26.0      0   \n",
       "3         Futrelle, Mrs. Jacques Heath (Lily May Peel)  female  35.0      1   \n",
       "4                             Allen, Mr. William Henry    male  35.0      0   \n",
       "..                                                 ...     ...   ...    ...   \n",
       "886                              Montvila, Rev. Juozas    male  27.0      0   \n",
       "887                       Graham, Miss. Margaret Edith  female  19.0      0   \n",
       "888           Johnston, Miss. Catherine Helen \"Carrie\"  female   NaN      1   \n",
       "889                              Behr, Mr. Karl Howell    male  26.0      0   \n",
       "890                                Dooley, Mr. Patrick    male  32.0      0   \n",
       "\n",
       "     Parch            Ticket     Fare Cabin Embarked  \n",
       "0        0         A/5 21171   7.2500   NaN        S  \n",
       "1        0          PC 17599  71.2833   C85        C  \n",
       "2        0  STON/O2. 3101282   7.9250   NaN        S  \n",
       "3        0            113803  53.1000  C123        S  \n",
       "4        0            373450   8.0500   NaN        S  \n",
       "..     ...               ...      ...   ...      ...  \n",
       "886      0            211536  13.0000   NaN        S  \n",
       "887      0            112053  30.0000   B42        S  \n",
       "888      2        W./C. 6607  23.4500   NaN        S  \n",
       "889      0            111369  30.0000  C148        C  \n",
       "890      0            370376   7.7500   NaN        Q  \n",
       "\n",
       "[891 rows x 12 columns]"
      ]
     },
     "execution_count": 2,
     "metadata": {},
     "output_type": "execute_result"
    }
   ],
   "source": [
    "df=pd.read_csv(\"https://raw.githubusercontent.com/dsrscientist/dataset1/master/titanic_train.csv\")\n",
    "df"
   ]
  },
  {
   "cell_type": "code",
   "execution_count": 3,
   "id": "fdd085c0",
   "metadata": {},
   "outputs": [
    {
     "data": {
      "text/plain": [
       "<bound method DataFrame.value_counts of      PassengerId  Survived  Pclass  \\\n",
       "0              1         0       3   \n",
       "1              2         1       1   \n",
       "2              3         1       3   \n",
       "3              4         1       1   \n",
       "4              5         0       3   \n",
       "..           ...       ...     ...   \n",
       "886          887         0       2   \n",
       "887          888         1       1   \n",
       "888          889         0       3   \n",
       "889          890         1       1   \n",
       "890          891         0       3   \n",
       "\n",
       "                                                  Name     Sex   Age  SibSp  \\\n",
       "0                              Braund, Mr. Owen Harris    male  22.0      1   \n",
       "1    Cumings, Mrs. John Bradley (Florence Briggs Th...  female  38.0      1   \n",
       "2                               Heikkinen, Miss. Laina  female  26.0      0   \n",
       "3         Futrelle, Mrs. Jacques Heath (Lily May Peel)  female  35.0      1   \n",
       "4                             Allen, Mr. William Henry    male  35.0      0   \n",
       "..                                                 ...     ...   ...    ...   \n",
       "886                              Montvila, Rev. Juozas    male  27.0      0   \n",
       "887                       Graham, Miss. Margaret Edith  female  19.0      0   \n",
       "888           Johnston, Miss. Catherine Helen \"Carrie\"  female   NaN      1   \n",
       "889                              Behr, Mr. Karl Howell    male  26.0      0   \n",
       "890                                Dooley, Mr. Patrick    male  32.0      0   \n",
       "\n",
       "     Parch            Ticket     Fare Cabin Embarked  \n",
       "0        0         A/5 21171   7.2500   NaN        S  \n",
       "1        0          PC 17599  71.2833   C85        C  \n",
       "2        0  STON/O2. 3101282   7.9250   NaN        S  \n",
       "3        0            113803  53.1000  C123        S  \n",
       "4        0            373450   8.0500   NaN        S  \n",
       "..     ...               ...      ...   ...      ...  \n",
       "886      0            211536  13.0000   NaN        S  \n",
       "887      0            112053  30.0000   B42        S  \n",
       "888      2        W./C. 6607  23.4500   NaN        S  \n",
       "889      0            111369  30.0000  C148        C  \n",
       "890      0            370376   7.7500   NaN        Q  \n",
       "\n",
       "[891 rows x 12 columns]>"
      ]
     },
     "execution_count": 3,
     "metadata": {},
     "output_type": "execute_result"
    }
   ],
   "source": [
    "df.value_counts"
   ]
  },
  {
   "cell_type": "markdown",
   "id": "68d90f4c",
   "metadata": {},
   "source": [
    "They give the counts of the data:-\n",
    "     891 Rows\n",
    "     12 Columns\n"
   ]
  },
  {
   "cell_type": "code",
   "execution_count": 4,
   "id": "e572fe62",
   "metadata": {},
   "outputs": [
    {
     "data": {
      "text/plain": [
       "PassengerId      int64\n",
       "Survived         int64\n",
       "Pclass           int64\n",
       "Name            object\n",
       "Sex             object\n",
       "Age            float64\n",
       "SibSp            int64\n",
       "Parch            int64\n",
       "Ticket          object\n",
       "Fare           float64\n",
       "Cabin           object\n",
       "Embarked        object\n",
       "dtype: object"
      ]
     },
     "execution_count": 4,
     "metadata": {},
     "output_type": "execute_result"
    }
   ],
   "source": [
    "df.dtypes"
   ]
  },
  {
   "cell_type": "markdown",
   "id": "5c274773",
   "metadata": {},
   "source": [
    "this code gives the type of the columns"
   ]
  },
  {
   "cell_type": "code",
   "execution_count": 5,
   "id": "99f897db",
   "metadata": {},
   "outputs": [
    {
     "data": {
      "text/plain": [
       "PassengerId      0\n",
       "Survived         0\n",
       "Pclass           0\n",
       "Name             0\n",
       "Sex              0\n",
       "Age            177\n",
       "SibSp            0\n",
       "Parch            0\n",
       "Ticket           0\n",
       "Fare             0\n",
       "Cabin          687\n",
       "Embarked         2\n",
       "dtype: int64"
      ]
     },
     "execution_count": 5,
     "metadata": {},
     "output_type": "execute_result"
    }
   ],
   "source": [
    "df.isnull().sum()"
   ]
  },
  {
   "cell_type": "markdown",
   "id": "19049ffb",
   "metadata": {},
   "source": [
    "With the help of this code we check the null values are present or not in the dataset"
   ]
  },
  {
   "cell_type": "code",
   "execution_count": 6,
   "id": "4f9cb9f1",
   "metadata": {},
   "outputs": [
    {
     "data": {
      "text/plain": [
       "<AxesSubplot:>"
      ]
     },
     "execution_count": 6,
     "metadata": {},
     "output_type": "execute_result"
    },
    {
     "data": {
      "image/png": "[encoded data removed]",
      "text/plain": [
       "<Figure size 432x288 with 2 Axes>"
      ]
     },
     "metadata": {
      "needs_background": "light"
     },
     "output_type": "display_data"
    }
   ],
   "source": [
    "sns.heatmap(df.isnull())"
   ]
  },
  {
   "cell_type": "code",
   "execution_count": 7,
   "id": "7e4ff2f8",
   "metadata": {},
   "outputs": [
    {
     "name": "stdout",
     "output_type": "stream",
     "text": [
      "<class 'pandas.core.frame.DataFrame'>\n",
      "RangeIndex: 891 entries, 0 to 890\n",
      "Data columns (total 12 columns):\n",
      " #   Column       Non-Null Count  Dtype  \n",
      "---  ------       --------------  -----  \n",
      " 0   PassengerId  891 non-null    int64  \n",
      " 1   Survived     891 non-null    int64  \n",
      " 2   Pclass       891 non-null    int64  \n",
      " 3   Name         891 non-null    object \n",
      " 4   Sex          891 non-null    object \n",
      " 5   Age          714 non-null    float64\n",
      " 6   SibSp        891 non-null    int64  \n",
      " 7   Parch        891 non-null    int64  \n",
      " 8   Ticket       891 non-null    object \n",
      " 9   Fare         891 non-null    float64\n",
      " 10  Cabin        204 non-null    object \n",
      " 11  Embarked     889 non-null    object \n",
      "dtypes: float64(2), int64(5), object(5)\n",
      "memory usage: 83.7+ KB\n"
     ]
    }
   ],
   "source": [
    "df.info()"
   ]
  },
  {
   "cell_type": "markdown",
   "id": "60fb2757",
   "metadata": {},
   "source": [
    "This code gives the info about the columns"
   ]
  },
  {
   "cell_type": "code",
   "execution_count": 8,
   "id": "d0358467",
   "metadata": {},
   "outputs": [
    {
     "data": {
      "text/plain": [
       "array([nan, 'C85', 'C123', 'E46', 'G6', 'C103', 'D56', 'A6',\n",
       "       'C23 C25 C27', 'B78', 'D33', 'B30', 'C52', 'B28', 'C83', 'F33',\n",
       "       'F G73', 'E31', 'A5', 'D10 D12', 'D26', 'C110', 'B58 B60', 'E101',\n",
       "       'F E69', 'D47', 'B86', 'F2', 'C2', 'E33', 'B19', 'A7', 'C49', 'F4',\n",
       "       'A32', 'B4', 'B80', 'A31', 'D36', 'D15', 'C93', 'C78', 'D35',\n",
       "       'C87', 'B77', 'E67', 'B94', 'C125', 'C99', 'C118', 'D7', 'A19',\n",
       "       'B49', 'D', 'C22 C26', 'C106', 'C65', 'E36', 'C54',\n",
       "       'B57 B59 B63 B66', 'C7', 'E34', 'C32', 'B18', 'C124', 'C91', 'E40',\n",
       "       'T', 'C128', 'D37', 'B35', 'E50', 'C82', 'B96 B98', 'E10', 'E44',\n",
       "       'A34', 'C104', 'C111', 'C92', 'E38', 'D21', 'E12', 'E63', 'A14',\n",
       "       'B37', 'C30', 'D20', 'B79', 'E25', 'D46', 'B73', 'C95', 'B38',\n",
       "       'B39', 'B22', 'C86', 'C70', 'A16', 'C101', 'C68', 'A10', 'E68',\n",
       "       'B41', 'A20', 'D19', 'D50', 'D9', 'A23', 'B50', 'A26', 'D48',\n",
       "       'E58', 'C126', 'B71', 'B51 B53 B55', 'D49', 'B5', 'B20', 'F G63',\n",
       "       'C62 C64', 'E24', 'C90', 'C45', 'E8', 'B101', 'D45', 'C46', 'D30',\n",
       "       'E121', 'D11', 'E77', 'F38', 'B3', 'D6', 'B82 B84', 'D17', 'A36',\n",
       "       'B102', 'B69', 'E49', 'C47', 'D28', 'E17', 'A24', 'C50', 'B42',\n",
       "       'C148'], dtype=object)"
      ]
     },
     "execution_count": 8,
     "metadata": {},
     "output_type": "execute_result"
    }
   ],
   "source": [
    "df['Cabin'].unique()"
   ]
  },
  {
   "cell_type": "markdown",
   "id": "5f4f4d4d",
   "metadata": {},
   "source": [
    "The unique values present in cabin column"
   ]
  },
  {
   "cell_type": "code",
   "execution_count": 9,
   "id": "e68fbe14",
   "metadata": {},
   "outputs": [
    {
     "name": "stdout",
     "output_type": "stream",
     "text": [
      "1      1\n",
      "599    1\n",
      "588    1\n",
      "589    1\n",
      "590    1\n",
      "      ..\n",
      "301    1\n",
      "302    1\n",
      "303    1\n",
      "304    1\n",
      "891    1\n",
      "Name: PassengerId, Length: 891, dtype: int64\n",
      "\n",
      "\n",
      "0    549\n",
      "1    342\n",
      "Name: Survived, dtype: int64\n",
      "\n",
      "\n",
      "3    491\n",
      "1    216\n",
      "2    184\n",
      "Name: Pclass, dtype: int64\n",
      "\n",
      "\n",
      "Braund, Mr. Owen Harris                     1\n",
      "Boulos, Mr. Hanna                           1\n",
      "Frolicher-Stehli, Mr. Maxmillian            1\n",
      "Gilinski, Mr. Eliezer                       1\n",
      "Murdlin, Mr. Joseph                         1\n",
      "                                           ..\n",
      "Kelly, Miss. Anna Katherine \"Annie Kate\"    1\n",
      "McCoy, Mr. Bernard                          1\n",
      "Johnson, Mr. William Cahoone Jr             1\n",
      "Keane, Miss. Nora A                         1\n",
      "Dooley, Mr. Patrick                         1\n",
      "Name: Name, Length: 891, dtype: int64\n",
      "\n",
      "\n",
      "male      577\n",
      "female    314\n",
      "Name: Sex, dtype: int64\n",
      "\n",
      "\n",
      "24.00    30\n",
      "22.00    27\n",
      "18.00    26\n",
      "19.00    25\n",
      "28.00    25\n",
      "         ..\n",
      "36.50     1\n",
      "55.50     1\n",
      "0.92      1\n",
      "23.50     1\n",
      "74.00     1\n",
      "Name: Age, Length: 88, dtype: int64\n",
      "\n",
      "\n",
      "0    608\n",
      "1    209\n",
      "2     28\n",
      "4     18\n",
      "3     16\n",
      "8      7\n",
      "5      5\n",
      "Name: SibSp, dtype: int64\n",
      "\n",
      "\n",
      "0    678\n",
      "1    118\n",
      "2     80\n",
      "5      5\n",
      "3      5\n",
      "4      4\n",
      "6      1\n",
      "Name: Parch, dtype: int64\n",
      "\n",
      "\n",
      "347082      7\n",
      "CA. 2343    7\n",
      "1601        7\n",
      "3101295     6\n",
      "CA 2144     6\n",
      "           ..\n",
      "9234        1\n",
      "19988       1\n",
      "2693        1\n",
      "PC 17612    1\n",
      "370376      1\n",
      "Name: Ticket, Length: 681, dtype: int64\n",
      "\n",
      "\n",
      "8.0500     43\n",
      "13.0000    42\n",
      "7.8958     38\n",
      "7.7500     34\n",
      "26.0000    31\n",
      "           ..\n",
      "35.0000     1\n",
      "28.5000     1\n",
      "6.2375      1\n",
      "14.0000     1\n",
      "10.5167     1\n",
      "Name: Fare, Length: 248, dtype: int64\n",
      "\n",
      "\n",
      "B96 B98        4\n",
      "G6             4\n",
      "C23 C25 C27    4\n",
      "C22 C26        3\n",
      "F33            3\n",
      "              ..\n",
      "E34            1\n",
      "C7             1\n",
      "C54            1\n",
      "E36            1\n",
      "C148           1\n",
      "Name: Cabin, Length: 147, dtype: int64\n",
      "\n",
      "\n",
      "S    644\n",
      "C    168\n",
      "Q     77\n",
      "Name: Embarked, dtype: int64\n",
      "\n",
      "\n"
     ]
    }
   ],
   "source": [
    "for i in df.columns:\n",
    "    print(df[i].value_counts())\n",
    "    print(\"\\n\")"
   ]
  },
  {
   "cell_type": "code",
   "execution_count": 10,
   "id": "d93c57a5",
   "metadata": {},
   "outputs": [
    {
     "data": {
      "text/plain": [
       "ModeResult(mode=array([nan]), count=array([177]))"
      ]
     },
     "execution_count": 10,
     "metadata": {},
     "output_type": "execute_result"
    }
   ],
   "source": [
    "import scipy.stats as st\n",
    "st.mode(df['Age'])"
   ]
  },
  {
   "cell_type": "markdown",
   "id": "b1f72ad9",
   "metadata": {},
   "source": [
    "With the help of mode we can replace  "
   ]
  },
  {
   "cell_type": "code",
   "execution_count": 12,
   "id": "e9a8d037",
   "metadata": {},
   "outputs": [
    {
     "data": {
      "text/plain": [
       "PassengerId      0\n",
       "Survived         0\n",
       "Pclass           0\n",
       "Name             0\n",
       "Sex              0\n",
       "Age            177\n",
       "SibSp            0\n",
       "Parch            0\n",
       "Ticket           0\n",
       "Fare             0\n",
       "Cabin          687\n",
       "Embarked         2\n",
       "dtype: int64"
      ]
     },
     "execution_count": 12,
     "metadata": {},
     "output_type": "execute_result"
    }
   ],
   "source": [
    "df.isnull().sum()"
   ]
  },
  {
   "cell_type": "code",
   "execution_count": 13,
   "id": "5cf9e22d",
   "metadata": {},
   "outputs": [],
   "source": [
    "df['Age'] = df['Age'].fillna(df['Age'].mean())"
   ]
  },
  {
   "cell_type": "markdown",
   "id": "05e94198",
   "metadata": {},
   "source": [
    "With the help of mean we can replace the null values of Age column because Age is numerical column so i can use mean"
   ]
  },
  {
   "cell_type": "code",
   "execution_count": 14,
   "id": "c66b4ec7",
   "metadata": {},
   "outputs": [
    {
     "data": {
      "text/plain": [
       "PassengerId      0\n",
       "Survived         0\n",
       "Pclass           0\n",
       "Name             0\n",
       "Sex              0\n",
       "Age              0\n",
       "SibSp            0\n",
       "Parch            0\n",
       "Ticket           0\n",
       "Fare             0\n",
       "Cabin          687\n",
       "Embarked         2\n",
       "dtype: int64"
      ]
     },
     "execution_count": 14,
     "metadata": {},
     "output_type": "execute_result"
    }
   ],
   "source": [
    "df.isnull().sum()"
   ]
  },
  {
   "cell_type": "code",
   "execution_count": 15,
   "id": "35ad1a7a",
   "metadata": {},
   "outputs": [
    {
     "data": {
      "text/plain": [
       "0.7710437710437711"
      ]
     },
     "execution_count": 15,
     "metadata": {},
     "output_type": "execute_result"
    }
   ],
   "source": [
    "df['Cabin'].isnull().mean()"
   ]
  },
  {
   "cell_type": "code",
   "execution_count": 16,
   "id": "2c198778",
   "metadata": {},
   "outputs": [
    {
     "data": {
      "text/plain": [
       "0        B96 B98\n",
       "1    C23 C25 C27\n",
       "2             G6\n",
       "Name: Cabin, dtype: object"
      ]
     },
     "execution_count": 16,
     "metadata": {},
     "output_type": "execute_result"
    }
   ],
   "source": [
    "df['Cabin'].mode()"
   ]
  },
  {
   "cell_type": "code",
   "execution_count": 17,
   "id": "c97087a3",
   "metadata": {},
   "outputs": [],
   "source": [
    "df['Cabin'].fillna('B96 B98',inplace= True)"
   ]
  },
  {
   "cell_type": "markdown",
   "id": "ba5b4864",
   "metadata": {},
   "source": [
    "with the help of mode we can fill null values"
   ]
  },
  {
   "cell_type": "code",
   "execution_count": 18,
   "id": "17d15b4e",
   "metadata": {},
   "outputs": [
    {
     "data": {
      "text/plain": [
       "PassengerId    0\n",
       "Survived       0\n",
       "Pclass         0\n",
       "Name           0\n",
       "Sex            0\n",
       "Age            0\n",
       "SibSp          0\n",
       "Parch          0\n",
       "Ticket         0\n",
       "Fare           0\n",
       "Cabin          0\n",
       "Embarked       2\n",
       "dtype: int64"
      ]
     },
     "execution_count": 18,
     "metadata": {},
     "output_type": "execute_result"
    }
   ],
   "source": [
    "df.isnull().sum()"
   ]
  },
  {
   "cell_type": "code",
   "execution_count": 19,
   "id": "7b2e41ac",
   "metadata": {},
   "outputs": [
    {
     "data": {
      "text/plain": [
       "0    S\n",
       "Name: Embarked, dtype: object"
      ]
     },
     "execution_count": 19,
     "metadata": {},
     "output_type": "execute_result"
    }
   ],
   "source": [
    "df['Embarked'].mode()"
   ]
  },
  {
   "cell_type": "code",
   "execution_count": 20,
   "id": "20132961",
   "metadata": {},
   "outputs": [],
   "source": [
    "df['Embarked'].fillna('S',inplace= True)"
   ]
  },
  {
   "cell_type": "code",
   "execution_count": 21,
   "id": "31127e5e",
   "metadata": {},
   "outputs": [
    {
     "data": {
      "text/plain": [
       "PassengerId    0\n",
       "Survived       0\n",
       "Pclass         0\n",
       "Name           0\n",
       "Sex            0\n",
       "Age            0\n",
       "SibSp          0\n",
       "Parch          0\n",
       "Ticket         0\n",
       "Fare           0\n",
       "Cabin          0\n",
       "Embarked       0\n",
       "dtype: int64"
      ]
     },
     "execution_count": 21,
     "metadata": {},
     "output_type": "execute_result"
    }
   ],
   "source": [
    "df.isnull().sum()"
   ]
  },
  {
   "cell_type": "markdown",
   "id": "f279592b",
   "metadata": {},
   "source": [
    "Now all the null values wil be fill"
   ]
  },
  {
   "cell_type": "code",
   "execution_count": 22,
   "id": "513c6fbd",
   "metadata": {},
   "outputs": [
    {
     "data": {
      "text/html": [
       "<div>\n",
       "<style scoped>\n",
       "    .dataframe tbody tr th:only-of-type {\n",
       "        vertical-align: middle;\n",
       "    }\n",
       "\n",
       "    .dataframe tbody tr th {\n",
       "        vertical-align: top;\n",
       "    }\n",
       "\n",
       "    .dataframe thead th {\n",
       "        text-align: right;\n",
       "    }\n",
       "</style>\n",
       "<table border=\"1\" class=\"dataframe\">\n",
       "  <thead>\n",
       "    <tr style=\"text-align: right;\">\n",
       "      <th></th>\n",
       "      <th>PassengerId</th>\n",
       "      <th>Survived</th>\n",
       "      <th>Pclass</th>\n",
       "      <th>Name</th>\n",
       "      <th>Sex</th>\n",
       "      <th>Age</th>\n",
       "      <th>SibSp</th>\n",
       "      <th>Parch</th>\n",
       "      <th>Ticket</th>\n",
       "      <th>Fare</th>\n",
       "      <th>Cabin</th>\n",
       "      <th>Embarked</th>\n",
       "    </tr>\n",
       "  </thead>\n",
       "  <tbody>\n",
       "    <tr>\n",
       "      <th>0</th>\n",
       "      <td>1</td>\n",
       "      <td>0</td>\n",
       "      <td>3</td>\n",
       "      <td>Braund, Mr. Owen Harris</td>\n",
       "      <td>male</td>\n",
       "      <td>22.000000</td>\n",
       "      <td>1</td>\n",
       "      <td>0</td>\n",
       "      <td>A/5 21171</td>\n",
       "      <td>7.2500</td>\n",
       "      <td>B96 B98</td>\n",
       "      <td>S</td>\n",
       "    </tr>\n",
       "    <tr>\n",
       "      <th>1</th>\n",
       "      <td>2</td>\n",
       "      <td>1</td>\n",
       "      <td>1</td>\n",
       "      <td>Cumings, Mrs. John Bradley (Florence Briggs Th...</td>\n",
       "      <td>female</td>\n",
       "      <td>38.000000</td>\n",
       "      <td>1</td>\n",
       "      <td>0</td>\n",
       "      <td>PC 17599</td>\n",
       "      <td>71.2833</td>\n",
       "      <td>C85</td>\n",
       "      <td>C</td>\n",
       "    </tr>\n",
       "    <tr>\n",
       "      <th>2</th>\n",
       "      <td>3</td>\n",
       "      <td>1</td>\n",
       "      <td>3</td>\n",
       "      <td>Heikkinen, Miss. Laina</td>\n",
       "      <td>female</td>\n",
       "      <td>26.000000</td>\n",
       "      <td>0</td>\n",
       "      <td>0</td>\n",
       "      <td>STON/O2. 3101282</td>\n",
       "      <td>7.9250</td>\n",
       "      <td>B96 B98</td>\n",
       "      <td>S</td>\n",
       "    </tr>\n",
       "    <tr>\n",
       "      <th>3</th>\n",
       "      <td>4</td>\n",
       "      <td>1</td>\n",
       "      <td>1</td>\n",
       "      <td>Futrelle, Mrs. Jacques Heath (Lily May Peel)</td>\n",
       "      <td>female</td>\n",
       "      <td>35.000000</td>\n",
       "      <td>1</td>\n",
       "      <td>0</td>\n",
       "      <td>113803</td>\n",
       "      <td>53.1000</td>\n",
       "      <td>C123</td>\n",
       "      <td>S</td>\n",
       "    </tr>\n",
       "    <tr>\n",
       "      <th>4</th>\n",
       "      <td>5</td>\n",
       "      <td>0</td>\n",
       "      <td>3</td>\n",
       "      <td>Allen, Mr. William Henry</td>\n",
       "      <td>male</td>\n",
       "      <td>35.000000</td>\n",
       "      <td>0</td>\n",
       "      <td>0</td>\n",
       "      <td>373450</td>\n",
       "      <td>8.0500</td>\n",
       "      <td>B96 B98</td>\n",
       "      <td>S</td>\n",
       "    </tr>\n",
       "    <tr>\n",
       "      <th>...</th>\n",
       "      <td>...</td>\n",
       "      <td>...</td>\n",
       "      <td>...</td>\n",
       "      <td>...</td>\n",
       "      <td>...</td>\n",
       "      <td>...</td>\n",
       "      <td>...</td>\n",
       "      <td>...</td>\n",
       "      <td>...</td>\n",
       "      <td>...</td>\n",
       "      <td>...</td>\n",
       "      <td>...</td>\n",
       "    </tr>\n",
       "    <tr>\n",
       "      <th>886</th>\n",
       "      <td>887</td>\n",
       "      <td>0</td>\n",
       "      <td>2</td>\n",
       "      <td>Montvila, Rev. Juozas</td>\n",
       "      <td>male</td>\n",
       "      <td>27.000000</td>\n",
       "      <td>0</td>\n",
       "      <td>0</td>\n",
       "      <td>211536</td>\n",
       "      <td>13.0000</td>\n",
       "      <td>B96 B98</td>\n",
       "      <td>S</td>\n",
       "    </tr>\n",
       "    <tr>\n",
       "      <th>887</th>\n",
       "      <td>888</td>\n",
       "      <td>1</td>\n",
       "      <td>1</td>\n",
       "      <td>Graham, Miss. Margaret Edith</td>\n",
       "      <td>female</td>\n",
       "      <td>19.000000</td>\n",
       "      <td>0</td>\n",
       "      <td>0</td>\n",
       "      <td>112053</td>\n",
       "      <td>30.0000</td>\n",
       "      <td>B42</td>\n",
       "      <td>S</td>\n",
       "    </tr>\n",
       "    <tr>\n",
       "      <th>888</th>\n",
       "      <td>889</td>\n",
       "      <td>0</td>\n",
       "      <td>3</td>\n",
       "      <td>Johnston, Miss. Catherine Helen \"Carrie\"</td>\n",
       "      <td>female</td>\n",
       "      <td>29.699118</td>\n",
       "      <td>1</td>\n",
       "      <td>2</td>\n",
       "      <td>W./C. 6607</td>\n",
       "      <td>23.4500</td>\n",
       "      <td>B96 B98</td>\n",
       "      <td>S</td>\n",
       "    </tr>\n",
       "    <tr>\n",
       "      <th>889</th>\n",
       "      <td>890</td>\n",
       "      <td>1</td>\n",
       "      <td>1</td>\n",
       "      <td>Behr, Mr. Karl Howell</td>\n",
       "      <td>male</td>\n",
       "      <td>26.000000</td>\n",
       "      <td>0</td>\n",
       "      <td>0</td>\n",
       "      <td>111369</td>\n",
       "      <td>30.0000</td>\n",
       "      <td>C148</td>\n",
       "      <td>C</td>\n",
       "    </tr>\n",
       "    <tr>\n",
       "      <th>890</th>\n",
       "      <td>891</td>\n",
       "      <td>0</td>\n",
       "      <td>3</td>\n",
       "      <td>Dooley, Mr. Patrick</td>\n",
       "      <td>male</td>\n",
       "      <td>32.000000</td>\n",
       "      <td>0</td>\n",
       "      <td>0</td>\n",
       "      <td>370376</td>\n",
       "      <td>7.7500</td>\n",
       "      <td>B96 B98</td>\n",
       "      <td>Q</td>\n",
       "    </tr>\n",
       "  </tbody>\n",
       "</table>\n",
       "<p>891 rows × 12 columns</p>\n",
       "</div>"
      ],
      "text/plain": [
       "     PassengerId  Survived  Pclass  \\\n",
       "0              1         0       3   \n",
       "1              2         1       1   \n",
       "2              3         1       3   \n",
       "3              4         1       1   \n",
       "4              5         0       3   \n",
       "..           ...       ...     ...   \n",
       "886          887         0       2   \n",
       "887          888         1       1   \n",
       "888          889         0       3   \n",
       "889          890         1       1   \n",
       "890          891         0       3   \n",
       "\n",
       "                                                  Name     Sex        Age  \\\n",
       "0                              Braund, Mr. Owen Harris    male  22.000000   \n",
       "1    Cumings, Mrs. John Bradley (Florence Briggs Th...  female  38.000000   \n",
       "2                               Heikkinen, Miss. Laina  female  26.000000   \n",
       "3         Futrelle, Mrs. Jacques Heath (Lily May Peel)  female  35.000000   \n",
       "4                             Allen, Mr. William Henry    male  35.000000   \n",
       "..                                                 ...     ...        ...   \n",
       "886                              Montvila, Rev. Juozas    male  27.000000   \n",
       "887                       Graham, Miss. Margaret Edith  female  19.000000   \n",
       "888           Johnston, Miss. Catherine Helen \"Carrie\"  female  29.699118   \n",
       "889                              Behr, Mr. Karl Howell    male  26.000000   \n",
       "890                                Dooley, Mr. Patrick    male  32.000000   \n",
       "\n",
       "     SibSp  Parch            Ticket     Fare    Cabin Embarked  \n",
       "0        1      0         A/5 21171   7.2500  B96 B98        S  \n",
       "1        1      0          PC 17599  71.2833      C85        C  \n",
       "2        0      0  STON/O2. 3101282   7.9250  B96 B98        S  \n",
       "3        1      0            113803  53.1000     C123        S  \n",
       "4        0      0            373450   8.0500  B96 B98        S  \n",
       "..     ...    ...               ...      ...      ...      ...  \n",
       "886      0      0            211536  13.0000  B96 B98        S  \n",
       "887      0      0            112053  30.0000      B42        S  \n",
       "888      1      2        W./C. 6607  23.4500  B96 B98        S  \n",
       "889      0      0            111369  30.0000     C148        C  \n",
       "890      0      0            370376   7.7500  B96 B98        Q  \n",
       "\n",
       "[891 rows x 12 columns]"
      ]
     },
     "execution_count": 22,
     "metadata": {},
     "output_type": "execute_result"
    }
   ],
   "source": [
    "df"
   ]
  },
  {
   "cell_type": "code",
   "execution_count": 23,
   "id": "e5853c24",
   "metadata": {},
   "outputs": [
    {
     "data": {
      "text/plain": [
       "<AxesSubplot:>"
      ]
     },
     "execution_count": 23,
     "metadata": {},
     "output_type": "execute_result"
    },
    {
     "data": {
      "image/png": "[encoded data removed]",
      "text/plain": [
       "<Figure size 432x288 with 2 Axes>"
      ]
     },
     "metadata": {
      "needs_background": "light"
     },
     "output_type": "display_data"
    }
   ],
   "source": [
    "sns.heatmap(df.isnull())"
   ]
  },
  {
   "cell_type": "code",
   "execution_count": 24,
   "id": "8610980b",
   "metadata": {},
   "outputs": [],
   "source": [
    "catagorical = []\n",
    "\n",
    "for i in df.dtypes.index:\n",
    "    if df.dtypes[i] == 'object':\n",
    "        catagorical.append(i)\n",
    "        "
   ]
  },
  {
   "cell_type": "markdown",
   "id": "aa64b514",
   "metadata": {},
   "source": [
    "Now we can seperate the catogorical and numerical columns"
   ]
  },
  {
   "cell_type": "code",
   "execution_count": 25,
   "id": "a0927ea7",
   "metadata": {},
   "outputs": [
    {
     "data": {
      "text/plain": [
       "['Name', 'Sex', 'Ticket', 'Cabin', 'Embarked']"
      ]
     },
     "execution_count": 25,
     "metadata": {},
     "output_type": "execute_result"
    }
   ],
   "source": [
    "catagorical"
   ]
  },
  {
   "cell_type": "code",
   "execution_count": 26,
   "id": "1a806f2c",
   "metadata": {},
   "outputs": [],
   "source": [
    "numerical = []\n",
    "\n",
    "for i in df.dtypes.index:\n",
    "    if df.dtypes[i] != 'object':\n",
    "        numerical.append(i)\n",
    "        "
   ]
  },
  {
   "cell_type": "code",
   "execution_count": 27,
   "id": "fa37eea8",
   "metadata": {},
   "outputs": [
    {
     "data": {
      "text/plain": [
       "['PassengerId', 'Survived', 'Pclass', 'Age', 'SibSp', 'Parch', 'Fare']"
      ]
     },
     "execution_count": 27,
     "metadata": {},
     "output_type": "execute_result"
    }
   ],
   "source": [
    "numerical"
   ]
  },
  {
   "cell_type": "code",
   "execution_count": 28,
   "id": "92a2cdb7",
   "metadata": {},
   "outputs": [
    {
     "data": {
      "text/html": [
       "<div>\n",
       "<style scoped>\n",
       "    .dataframe tbody tr th:only-of-type {\n",
       "        vertical-align: middle;\n",
       "    }\n",
       "\n",
       "    .dataframe tbody tr th {\n",
       "        vertical-align: top;\n",
       "    }\n",
       "\n",
       "    .dataframe thead th {\n",
       "        text-align: right;\n",
       "    }\n",
       "</style>\n",
       "<table border=\"1\" class=\"dataframe\">\n",
       "  <thead>\n",
       "    <tr style=\"text-align: right;\">\n",
       "      <th></th>\n",
       "      <th>unique values</th>\n",
       "    </tr>\n",
       "  </thead>\n",
       "  <tbody>\n",
       "    <tr>\n",
       "      <th>PassengerId</th>\n",
       "      <td>891</td>\n",
       "    </tr>\n",
       "    <tr>\n",
       "      <th>Survived</th>\n",
       "      <td>2</td>\n",
       "    </tr>\n",
       "    <tr>\n",
       "      <th>Pclass</th>\n",
       "      <td>3</td>\n",
       "    </tr>\n",
       "    <tr>\n",
       "      <th>Name</th>\n",
       "      <td>891</td>\n",
       "    </tr>\n",
       "    <tr>\n",
       "      <th>Sex</th>\n",
       "      <td>2</td>\n",
       "    </tr>\n",
       "    <tr>\n",
       "      <th>Age</th>\n",
       "      <td>89</td>\n",
       "    </tr>\n",
       "    <tr>\n",
       "      <th>SibSp</th>\n",
       "      <td>7</td>\n",
       "    </tr>\n",
       "    <tr>\n",
       "      <th>Parch</th>\n",
       "      <td>7</td>\n",
       "    </tr>\n",
       "    <tr>\n",
       "      <th>Ticket</th>\n",
       "      <td>681</td>\n",
       "    </tr>\n",
       "    <tr>\n",
       "      <th>Fare</th>\n",
       "      <td>248</td>\n",
       "    </tr>\n",
       "    <tr>\n",
       "      <th>Cabin</th>\n",
       "      <td>147</td>\n",
       "    </tr>\n",
       "    <tr>\n",
       "      <th>Embarked</th>\n",
       "      <td>3</td>\n",
       "    </tr>\n",
       "  </tbody>\n",
       "</table>\n",
       "</div>"
      ],
      "text/plain": [
       "             unique values\n",
       "PassengerId            891\n",
       "Survived                 2\n",
       "Pclass                   3\n",
       "Name                   891\n",
       "Sex                      2\n",
       "Age                     89\n",
       "SibSp                    7\n",
       "Parch                    7\n",
       "Ticket                 681\n",
       "Fare                   248\n",
       "Cabin                  147\n",
       "Embarked                 3"
      ]
     },
     "execution_count": 28,
     "metadata": {},
     "output_type": "execute_result"
    }
   ],
   "source": [
    "df.nunique().to_frame('unique values')"
   ]
  },
  {
   "cell_type": "code",
   "execution_count": 29,
   "id": "d9603aa3",
   "metadata": {},
   "outputs": [],
   "source": [
    "df.drop(\"PassengerId\",axis=1,inplace=True)\n",
    "df.drop(\"Name\",axis=1,inplace=True)"
   ]
  },
  {
   "cell_type": "markdown",
   "id": "24ba9ea8",
   "metadata": {},
   "source": [
    "We can drop PassengerId and Name column because in my dataset this is not very usefull to fit the model "
   ]
  },
  {
   "cell_type": "code",
   "execution_count": 30,
   "id": "b7fd67cc",
   "metadata": {},
   "outputs": [
    {
     "data": {
      "text/html": [
       "<div>\n",
       "<style scoped>\n",
       "    .dataframe tbody tr th:only-of-type {\n",
       "        vertical-align: middle;\n",
       "    }\n",
       "\n",
       "    .dataframe tbody tr th {\n",
       "        vertical-align: top;\n",
       "    }\n",
       "\n",
       "    .dataframe thead th {\n",
       "        text-align: right;\n",
       "    }\n",
       "</style>\n",
       "<table border=\"1\" class=\"dataframe\">\n",
       "  <thead>\n",
       "    <tr style=\"text-align: right;\">\n",
       "      <th></th>\n",
       "      <th>unique values</th>\n",
       "    </tr>\n",
       "  </thead>\n",
       "  <tbody>\n",
       "    <tr>\n",
       "      <th>Survived</th>\n",
       "      <td>2</td>\n",
       "    </tr>\n",
       "    <tr>\n",
       "      <th>Pclass</th>\n",
       "      <td>3</td>\n",
       "    </tr>\n",
       "    <tr>\n",
       "      <th>Sex</th>\n",
       "      <td>2</td>\n",
       "    </tr>\n",
       "    <tr>\n",
       "      <th>Age</th>\n",
       "      <td>89</td>\n",
       "    </tr>\n",
       "    <tr>\n",
       "      <th>SibSp</th>\n",
       "      <td>7</td>\n",
       "    </tr>\n",
       "    <tr>\n",
       "      <th>Parch</th>\n",
       "      <td>7</td>\n",
       "    </tr>\n",
       "    <tr>\n",
       "      <th>Ticket</th>\n",
       "      <td>681</td>\n",
       "    </tr>\n",
       "    <tr>\n",
       "      <th>Fare</th>\n",
       "      <td>248</td>\n",
       "    </tr>\n",
       "    <tr>\n",
       "      <th>Cabin</th>\n",
       "      <td>147</td>\n",
       "    </tr>\n",
       "    <tr>\n",
       "      <th>Embarked</th>\n",
       "      <td>3</td>\n",
       "    </tr>\n",
       "  </tbody>\n",
       "</table>\n",
       "</div>"
      ],
      "text/plain": [
       "          unique values\n",
       "Survived              2\n",
       "Pclass                3\n",
       "Sex                   2\n",
       "Age                  89\n",
       "SibSp                 7\n",
       "Parch                 7\n",
       "Ticket              681\n",
       "Fare                248\n",
       "Cabin               147\n",
       "Embarked              3"
      ]
     },
     "execution_count": 30,
     "metadata": {},
     "output_type": "execute_result"
    }
   ],
   "source": [
    "df.nunique().to_frame('unique values')"
   ]
  },
  {
   "cell_type": "code",
   "execution_count": 31,
   "id": "bfd24ce8",
   "metadata": {},
   "outputs": [
    {
     "data": {
      "text/plain": [
       "Survived      int64\n",
       "Pclass        int64\n",
       "Sex          object\n",
       "Age         float64\n",
       "SibSp         int64\n",
       "Parch         int64\n",
       "Ticket       object\n",
       "Fare        float64\n",
       "Cabin        object\n",
       "Embarked     object\n",
       "dtype: object"
      ]
     },
     "execution_count": 31,
     "metadata": {},
     "output_type": "execute_result"
    }
   ],
   "source": [
    "df.dtypes"
   ]
  },
  {
   "cell_type": "code",
   "execution_count": 32,
   "id": "25ffbece",
   "metadata": {},
   "outputs": [
    {
     "data": {
      "text/plain": [
       "array([0, 1], dtype=int64)"
      ]
     },
     "execution_count": 32,
     "metadata": {},
     "output_type": "execute_result"
    }
   ],
   "source": [
    "df['Survived'].unique()"
   ]
  },
  {
   "cell_type": "markdown",
   "id": "5dd4fe08",
   "metadata": {},
   "source": [
    "In my target variable two values are present_______________\n",
    " 0 represent not survived___\n",
    " 1 represent survived"
   ]
  },
  {
   "cell_type": "markdown",
   "id": "7eda60a8",
   "metadata": {},
   "source": [
    "# Description of DataSet"
   ]
  },
  {
   "cell_type": "code",
   "execution_count": 33,
   "id": "aed3c51e",
   "metadata": {},
   "outputs": [
    {
     "data": {
      "text/html": [
       "<div>\n",
       "<style scoped>\n",
       "    .dataframe tbody tr th:only-of-type {\n",
       "        vertical-align: middle;\n",
       "    }\n",
       "\n",
       "    .dataframe tbody tr th {\n",
       "        vertical-align: top;\n",
       "    }\n",
       "\n",
       "    .dataframe thead th {\n",
       "        text-align: right;\n",
       "    }\n",
       "</style>\n",
       "<table border=\"1\" class=\"dataframe\">\n",
       "  <thead>\n",
       "    <tr style=\"text-align: right;\">\n",
       "      <th></th>\n",
       "      <th>Survived</th>\n",
       "      <th>Pclass</th>\n",
       "      <th>Age</th>\n",
       "      <th>SibSp</th>\n",
       "      <th>Parch</th>\n",
       "      <th>Fare</th>\n",
       "    </tr>\n",
       "  </thead>\n",
       "  <tbody>\n",
       "    <tr>\n",
       "      <th>count</th>\n",
       "      <td>891.000000</td>\n",
       "      <td>891.000000</td>\n",
       "      <td>891.000000</td>\n",
       "      <td>891.000000</td>\n",
       "      <td>891.000000</td>\n",
       "      <td>891.000000</td>\n",
       "    </tr>\n",
       "    <tr>\n",
       "      <th>mean</th>\n",
       "      <td>0.383838</td>\n",
       "      <td>2.308642</td>\n",
       "      <td>29.699118</td>\n",
       "      <td>0.523008</td>\n",
       "      <td>0.381594</td>\n",
       "      <td>32.204208</td>\n",
       "    </tr>\n",
       "    <tr>\n",
       "      <th>std</th>\n",
       "      <td>0.486592</td>\n",
       "      <td>0.836071</td>\n",
       "      <td>13.002015</td>\n",
       "      <td>1.102743</td>\n",
       "      <td>0.806057</td>\n",
       "      <td>49.693429</td>\n",
       "    </tr>\n",
       "    <tr>\n",
       "      <th>min</th>\n",
       "      <td>0.000000</td>\n",
       "      <td>1.000000</td>\n",
       "      <td>0.420000</td>\n",
       "      <td>0.000000</td>\n",
       "      <td>0.000000</td>\n",
       "      <td>0.000000</td>\n",
       "    </tr>\n",
       "    <tr>\n",
       "      <th>25%</th>\n",
       "      <td>0.000000</td>\n",
       "      <td>2.000000</td>\n",
       "      <td>22.000000</td>\n",
       "      <td>0.000000</td>\n",
       "      <td>0.000000</td>\n",
       "      <td>7.910400</td>\n",
       "    </tr>\n",
       "    <tr>\n",
       "      <th>50%</th>\n",
       "      <td>0.000000</td>\n",
       "      <td>3.000000</td>\n",
       "      <td>29.699118</td>\n",
       "      <td>0.000000</td>\n",
       "      <td>0.000000</td>\n",
       "      <td>14.454200</td>\n",
       "    </tr>\n",
       "    <tr>\n",
       "      <th>75%</th>\n",
       "      <td>1.000000</td>\n",
       "      <td>3.000000</td>\n",
       "      <td>35.000000</td>\n",
       "      <td>1.000000</td>\n",
       "      <td>0.000000</td>\n",
       "      <td>31.000000</td>\n",
       "    </tr>\n",
       "    <tr>\n",
       "      <th>max</th>\n",
       "      <td>1.000000</td>\n",
       "      <td>3.000000</td>\n",
       "      <td>80.000000</td>\n",
       "      <td>8.000000</td>\n",
       "      <td>6.000000</td>\n",
       "      <td>512.329200</td>\n",
       "    </tr>\n",
       "  </tbody>\n",
       "</table>\n",
       "</div>"
      ],
      "text/plain": [
       "         Survived      Pclass         Age       SibSp       Parch        Fare\n",
       "count  891.000000  891.000000  891.000000  891.000000  891.000000  891.000000\n",
       "mean     0.383838    2.308642   29.699118    0.523008    0.381594   32.204208\n",
       "std      0.486592    0.836071   13.002015    1.102743    0.806057   49.693429\n",
       "min      0.000000    1.000000    0.420000    0.000000    0.000000    0.000000\n",
       "25%      0.000000    2.000000   22.000000    0.000000    0.000000    7.910400\n",
       "50%      0.000000    3.000000   29.699118    0.000000    0.000000   14.454200\n",
       "75%      1.000000    3.000000   35.000000    1.000000    0.000000   31.000000\n",
       "max      1.000000    3.000000   80.000000    8.000000    6.000000  512.329200"
      ]
     },
     "execution_count": 33,
     "metadata": {},
     "output_type": "execute_result"
    }
   ],
   "source": [
    "df.describe()"
   ]
  },
  {
   "cell_type": "markdown",
   "id": "bbc63e9a",
   "metadata": {},
   "source": [
    "This gives the statistical information of the numerical column.\n",
    "\n",
    "From the above description we can observe the following:\n",
    "\n",
    "The count of all the columns are same means there are no missing values\n",
    "The mean value is greater then the median in SibSp, Parch,Fare, means the data is skewed in right side\n",
    "The data in the column Pclass, means the data is skewed in left side\n",
    "we can observe there is a difference between 75% and max in some columns hence there are outlyers are present in the data\n"
   ]
  },
  {
   "cell_type": "code",
   "execution_count": 34,
   "id": "6eb34e4c",
   "metadata": {},
   "outputs": [
    {
     "data": {
      "text/html": [
       "<div>\n",
       "<style scoped>\n",
       "    .dataframe tbody tr th:only-of-type {\n",
       "        vertical-align: middle;\n",
       "    }\n",
       "\n",
       "    .dataframe tbody tr th {\n",
       "        vertical-align: top;\n",
       "    }\n",
       "\n",
       "    .dataframe thead th {\n",
       "        text-align: right;\n",
       "    }\n",
       "</style>\n",
       "<table border=\"1\" class=\"dataframe\">\n",
       "  <thead>\n",
       "    <tr style=\"text-align: right;\">\n",
       "      <th></th>\n",
       "      <th>Survived</th>\n",
       "      <th>Pclass</th>\n",
       "      <th>Sex</th>\n",
       "      <th>Age</th>\n",
       "      <th>SibSp</th>\n",
       "      <th>Parch</th>\n",
       "      <th>Ticket</th>\n",
       "      <th>Fare</th>\n",
       "      <th>Cabin</th>\n",
       "      <th>Embarked</th>\n",
       "    </tr>\n",
       "  </thead>\n",
       "  <tbody>\n",
       "    <tr>\n",
       "      <th>0</th>\n",
       "      <td>0</td>\n",
       "      <td>3</td>\n",
       "      <td>male</td>\n",
       "      <td>22.000000</td>\n",
       "      <td>1</td>\n",
       "      <td>0</td>\n",
       "      <td>A/5 21171</td>\n",
       "      <td>7.2500</td>\n",
       "      <td>B96 B98</td>\n",
       "      <td>S</td>\n",
       "    </tr>\n",
       "    <tr>\n",
       "      <th>1</th>\n",
       "      <td>1</td>\n",
       "      <td>1</td>\n",
       "      <td>female</td>\n",
       "      <td>38.000000</td>\n",
       "      <td>1</td>\n",
       "      <td>0</td>\n",
       "      <td>PC 17599</td>\n",
       "      <td>71.2833</td>\n",
       "      <td>C85</td>\n",
       "      <td>C</td>\n",
       "    </tr>\n",
       "    <tr>\n",
       "      <th>2</th>\n",
       "      <td>1</td>\n",
       "      <td>3</td>\n",
       "      <td>female</td>\n",
       "      <td>26.000000</td>\n",
       "      <td>0</td>\n",
       "      <td>0</td>\n",
       "      <td>STON/O2. 3101282</td>\n",
       "      <td>7.9250</td>\n",
       "      <td>B96 B98</td>\n",
       "      <td>S</td>\n",
       "    </tr>\n",
       "    <tr>\n",
       "      <th>3</th>\n",
       "      <td>1</td>\n",
       "      <td>1</td>\n",
       "      <td>female</td>\n",
       "      <td>35.000000</td>\n",
       "      <td>1</td>\n",
       "      <td>0</td>\n",
       "      <td>113803</td>\n",
       "      <td>53.1000</td>\n",
       "      <td>C123</td>\n",
       "      <td>S</td>\n",
       "    </tr>\n",
       "    <tr>\n",
       "      <th>4</th>\n",
       "      <td>0</td>\n",
       "      <td>3</td>\n",
       "      <td>male</td>\n",
       "      <td>35.000000</td>\n",
       "      <td>0</td>\n",
       "      <td>0</td>\n",
       "      <td>373450</td>\n",
       "      <td>8.0500</td>\n",
       "      <td>B96 B98</td>\n",
       "      <td>S</td>\n",
       "    </tr>\n",
       "    <tr>\n",
       "      <th>...</th>\n",
       "      <td>...</td>\n",
       "      <td>...</td>\n",
       "      <td>...</td>\n",
       "      <td>...</td>\n",
       "      <td>...</td>\n",
       "      <td>...</td>\n",
       "      <td>...</td>\n",
       "      <td>...</td>\n",
       "      <td>...</td>\n",
       "      <td>...</td>\n",
       "    </tr>\n",
       "    <tr>\n",
       "      <th>886</th>\n",
       "      <td>0</td>\n",
       "      <td>2</td>\n",
       "      <td>male</td>\n",
       "      <td>27.000000</td>\n",
       "      <td>0</td>\n",
       "      <td>0</td>\n",
       "      <td>211536</td>\n",
       "      <td>13.0000</td>\n",
       "      <td>B96 B98</td>\n",
       "      <td>S</td>\n",
       "    </tr>\n",
       "    <tr>\n",
       "      <th>887</th>\n",
       "      <td>1</td>\n",
       "      <td>1</td>\n",
       "      <td>female</td>\n",
       "      <td>19.000000</td>\n",
       "      <td>0</td>\n",
       "      <td>0</td>\n",
       "      <td>112053</td>\n",
       "      <td>30.0000</td>\n",
       "      <td>B42</td>\n",
       "      <td>S</td>\n",
       "    </tr>\n",
       "    <tr>\n",
       "      <th>888</th>\n",
       "      <td>0</td>\n",
       "      <td>3</td>\n",
       "      <td>female</td>\n",
       "      <td>29.699118</td>\n",
       "      <td>1</td>\n",
       "      <td>2</td>\n",
       "      <td>W./C. 6607</td>\n",
       "      <td>23.4500</td>\n",
       "      <td>B96 B98</td>\n",
       "      <td>S</td>\n",
       "    </tr>\n",
       "    <tr>\n",
       "      <th>889</th>\n",
       "      <td>1</td>\n",
       "      <td>1</td>\n",
       "      <td>male</td>\n",
       "      <td>26.000000</td>\n",
       "      <td>0</td>\n",
       "      <td>0</td>\n",
       "      <td>111369</td>\n",
       "      <td>30.0000</td>\n",
       "      <td>C148</td>\n",
       "      <td>C</td>\n",
       "    </tr>\n",
       "    <tr>\n",
       "      <th>890</th>\n",
       "      <td>0</td>\n",
       "      <td>3</td>\n",
       "      <td>male</td>\n",
       "      <td>32.000000</td>\n",
       "      <td>0</td>\n",
       "      <td>0</td>\n",
       "      <td>370376</td>\n",
       "      <td>7.7500</td>\n",
       "      <td>B96 B98</td>\n",
       "      <td>Q</td>\n",
       "    </tr>\n",
       "  </tbody>\n",
       "</table>\n",
       "<p>891 rows × 10 columns</p>\n",
       "</div>"
      ],
      "text/plain": [
       "     Survived  Pclass     Sex        Age  SibSp  Parch            Ticket  \\\n",
       "0           0       3    male  22.000000      1      0         A/5 21171   \n",
       "1           1       1  female  38.000000      1      0          PC 17599   \n",
       "2           1       3  female  26.000000      0      0  STON/O2. 3101282   \n",
       "3           1       1  female  35.000000      1      0            113803   \n",
       "4           0       3    male  35.000000      0      0            373450   \n",
       "..        ...     ...     ...        ...    ...    ...               ...   \n",
       "886         0       2    male  27.000000      0      0            211536   \n",
       "887         1       1  female  19.000000      0      0            112053   \n",
       "888         0       3  female  29.699118      1      2        W./C. 6607   \n",
       "889         1       1    male  26.000000      0      0            111369   \n",
       "890         0       3    male  32.000000      0      0            370376   \n",
       "\n",
       "        Fare    Cabin Embarked  \n",
       "0     7.2500  B96 B98        S  \n",
       "1    71.2833      C85        C  \n",
       "2     7.9250  B96 B98        S  \n",
       "3    53.1000     C123        S  \n",
       "4     8.0500  B96 B98        S  \n",
       "..       ...      ...      ...  \n",
       "886  13.0000  B96 B98        S  \n",
       "887  30.0000      B42        S  \n",
       "888  23.4500  B96 B98        S  \n",
       "889  30.0000     C148        C  \n",
       "890   7.7500  B96 B98        Q  \n",
       "\n",
       "[891 rows x 10 columns]"
      ]
     },
     "execution_count": 34,
     "metadata": {},
     "output_type": "execute_result"
    }
   ],
   "source": [
    "df"
   ]
  },
  {
   "cell_type": "markdown",
   "id": "da88f681",
   "metadata": {},
   "source": [
    "# Univariant Analysis"
   ]
  },
  {
   "cell_type": "code",
   "execution_count": 35,
   "id": "552bf25d",
   "metadata": {},
   "outputs": [
    {
     "name": "stdout",
     "output_type": "stream",
     "text": [
      "male      577\n",
      "female    314\n",
      "Name: Sex, dtype: int64\n"
     ]
    },
    {
     "data": {
      "image/png": "[encoded data removed]",
      "text/plain": [
       "<Figure size 432x288 with 1 Axes>"
      ]
     },
     "metadata": {
      "needs_background": "light"
     },
     "output_type": "display_data"
    }
   ],
   "source": [
    "sns.countplot(x='Sex',data=df)\n",
    "print(df['Sex'].value_counts())"
   ]
  },
  {
   "cell_type": "code",
   "execution_count": 36,
   "id": "fa35e2ab",
   "metadata": {
    "scrolled": true
   },
   "outputs": [
    {
     "name": "stdout",
     "output_type": "stream",
     "text": [
      "347082      7\n",
      "CA. 2343    7\n",
      "1601        7\n",
      "3101295     6\n",
      "CA 2144     6\n",
      "           ..\n",
      "9234        1\n",
      "19988       1\n",
      "2693        1\n",
      "PC 17612    1\n",
      "370376      1\n",
      "Name: Ticket, Length: 681, dtype: int64\n"
     ]
    },
    {
     "data": {
      "image/png": "[encoded data removed]",
      "text/plain": [
       "<Figure size 360x360 with 1 Axes>"
      ]
     },
     "metadata": {
      "needs_background": "light"
     },
     "output_type": "display_data"
    }
   ],
   "source": [
    "sns.displot(x='Ticket',data=df)\n",
    "print(df['Ticket'].value_counts())"
   ]
  },
  {
   "cell_type": "code",
   "execution_count": 37,
   "id": "a6148816",
   "metadata": {},
   "outputs": [
    {
     "data": {
      "image/png": "[encoded data removed]",
      "text/plain": [
       "<Figure size 432x288 with 1 Axes>"
      ]
     },
     "metadata": {
      "needs_background": "light"
     },
     "output_type": "display_data"
    }
   ],
   "source": [
    "#sns.countplot(x='Cabin',data=df)\n",
    "#print(df['Cabin'].value_counts())\n",
    "plt.hist(df['Cabin'])\n",
    "plt.show()"
   ]
  },
  {
   "cell_type": "code",
   "execution_count": 38,
   "id": "a0458425",
   "metadata": {},
   "outputs": [
    {
     "name": "stdout",
     "output_type": "stream",
     "text": [
      "S    646\n",
      "C    168\n",
      "Q     77\n",
      "Name: Embarked, dtype: int64\n"
     ]
    },
    {
     "data": {
      "image/png": "[encoded data removed]",
      "text/plain": [
       "<Figure size 432x288 with 1 Axes>"
      ]
     },
     "metadata": {
      "needs_background": "light"
     },
     "output_type": "display_data"
    }
   ],
   "source": [
    "sns.countplot(x='Embarked',data=df)\n",
    "print(df['Embarked'].value_counts())"
   ]
  },
  {
   "cell_type": "markdown",
   "id": "5e697afc",
   "metadata": {},
   "source": [
    "# Bivariate Analysis"
   ]
  },
  {
   "cell_type": "code",
   "execution_count": 39,
   "id": "7b0b07ec",
   "metadata": {},
   "outputs": [
    {
     "data": {
      "text/plain": [
       "<AxesSubplot:>"
      ]
     },
     "execution_count": 39,
     "metadata": {},
     "output_type": "execute_result"
    },
    {
     "data": {
      "image/png": "[encoded data removed]",
      "text/plain": [
       "<Figure size 1008x432 with 2 Axes>"
      ]
     },
     "metadata": {
      "needs_background": "light"
     },
     "output_type": "display_data"
    }
   ],
   "source": [
    "plt.figure(figsize=(14,6))\n",
    "sns.heatmap(df.corr(),annot=True)"
   ]
  },
  {
   "cell_type": "code",
   "execution_count": 40,
   "id": "c4dd68e5",
   "metadata": {},
   "outputs": [
    {
     "data": {
      "text/plain": [
       "<AxesSubplot:xlabel='Pclass', ylabel='Fare'>"
      ]
     },
     "execution_count": 40,
     "metadata": {},
     "output_type": "execute_result"
    },
    {
     "data": {
      "image/png": "[encoded data removed]",
      "text/plain": [
       "<Figure size 432x288 with 1 Axes>"
      ]
     },
     "metadata": {
      "needs_background": "light"
     },
     "output_type": "display_data"
    }
   ],
   "source": [
    "sns.lineplot(x='Pclass',y='Fare',data=df)"
   ]
  },
  {
   "cell_type": "code",
   "execution_count": 41,
   "id": "064ecbe2",
   "metadata": {},
   "outputs": [
    {
     "data": {
      "text/plain": [
       "<AxesSubplot:xlabel='Pclass', ylabel='Survived'>"
      ]
     },
     "execution_count": 41,
     "metadata": {},
     "output_type": "execute_result"
    },
    {
     "data": {
      "image/png": "[encoded data removed]",
      "text/plain": [
       "<Figure size 432x288 with 1 Axes>"
      ]
     },
     "metadata": {
      "needs_background": "light"
     },
     "output_type": "display_data"
    }
   ],
   "source": [
    "sns.lineplot(x='Pclass',y='Survived',data=df)"
   ]
  },
  {
   "cell_type": "code",
   "execution_count": 42,
   "id": "98336399",
   "metadata": {},
   "outputs": [
    {
     "data": {
      "text/plain": [
       "<AxesSubplot:xlabel='Parch', ylabel='SibSp'>"
      ]
     },
     "execution_count": 42,
     "metadata": {},
     "output_type": "execute_result"
    },
    {
     "data": {
      "image/png": "[encoded data removed]",
      "text/plain": [
       "<Figure size 432x288 with 1 Axes>"
      ]
     },
     "metadata": {
      "needs_background": "light"
     },
     "output_type": "display_data"
    }
   ],
   "source": [
    "sns.scatterplot(x='Parch',y='SibSp',data=df)"
   ]
  },
  {
   "cell_type": "code",
   "execution_count": 43,
   "id": "79aaa5f7",
   "metadata": {},
   "outputs": [
    {
     "data": {
      "text/plain": [
       "<AxesSubplot:xlabel='Age', ylabel='Fare'>"
      ]
     },
     "execution_count": 43,
     "metadata": {},
     "output_type": "execute_result"
    },
    {
     "data": {
      "image/png": "[encoded data removed]",
      "text/plain": [
       "<Figure size 432x288 with 1 Axes>"
      ]
     },
     "metadata": {
      "needs_background": "light"
     },
     "output_type": "display_data"
    }
   ],
   "source": [
    "sns.scatterplot(x='Age',y='Fare',hue='Survived',data=df)"
   ]
  },
  {
   "cell_type": "code",
   "execution_count": 44,
   "id": "3b3e7a76",
   "metadata": {},
   "outputs": [
    {
     "data": {
      "text/plain": [
       "<AxesSubplot:xlabel='Pclass', ylabel='SibSp'>"
      ]
     },
     "execution_count": 44,
     "metadata": {},
     "output_type": "execute_result"
    },
    {
     "data": {
      "image/png": "[encoded data removed]",
      "text/plain": [
       "<Figure size 432x288 with 1 Axes>"
      ]
     },
     "metadata": {
      "needs_background": "light"
     },
     "output_type": "display_data"
    }
   ],
   "source": [
    "sns.scatterplot(x='Pclass',y='SibSp',hue='Survived',data=df)"
   ]
  },
  {
   "cell_type": "code",
   "execution_count": 45,
   "id": "725dab8e",
   "metadata": {},
   "outputs": [
    {
     "data": {
      "text/plain": [
       "<AxesSubplot:xlabel='Pclass', ylabel='Sex'>"
      ]
     },
     "execution_count": 45,
     "metadata": {},
     "output_type": "execute_result"
    },
    {
     "data": {
      "image/png": "[encoded data removed]",
      "text/plain": [
       "<Figure size 432x288 with 1 Axes>"
      ]
     },
     "metadata": {
      "needs_background": "light"
     },
     "output_type": "display_data"
    }
   ],
   "source": [
    "sns.scatterplot(x='Pclass',y='Sex',hue='Survived',data=df)"
   ]
  },
  {
   "cell_type": "code",
   "execution_count": 46,
   "id": "8f7d4722",
   "metadata": {},
   "outputs": [
    {
     "data": {
      "image/png": "[encoded data removed]",
      "text/plain": [
       "<Figure size 720x360 with 2 Axes>"
      ]
     },
     "metadata": {
      "needs_background": "light"
     },
     "output_type": "display_data"
    }
   ],
   "source": [
    "sns.catplot(x='Age',col='Survived',data=df,kind='count')\n",
    "plt.show()"
   ]
  },
  {
   "cell_type": "code",
   "execution_count": 47,
   "id": "9e145446",
   "metadata": {},
   "outputs": [
    {
     "name": "stdout",
     "output_type": "stream",
     "text": [
      "3    491\n",
      "1    216\n",
      "2    184\n",
      "Name: Pclass, dtype: int64\n"
     ]
    },
    {
     "data": {
      "image/png": "[encoded data removed]",
      "text/plain": [
       "<Figure size 720x360 with 2 Axes>"
      ]
     },
     "metadata": {
      "needs_background": "light"
     },
     "output_type": "display_data"
    }
   ],
   "source": [
    "sns.catplot(x='Pclass',col='Survived',data=df,kind='count')\n",
    "print(df['Pclass'].value_counts())"
   ]
  },
  {
   "cell_type": "code",
   "execution_count": 48,
   "id": "831fc9d3",
   "metadata": {},
   "outputs": [
    {
     "name": "stdout",
     "output_type": "stream",
     "text": [
      "male      577\n",
      "female    314\n",
      "Name: Sex, dtype: int64\n"
     ]
    },
    {
     "data": {
      "image/png": "[encoded data removed]",
      "text/plain": [
       "<Figure size 720x360 with 2 Axes>"
      ]
     },
     "metadata": {
      "needs_background": "light"
     },
     "output_type": "display_data"
    }
   ],
   "source": [
    "sns.catplot(x='Sex',col='Survived',data=df,kind='count')\n",
    "print(df['Sex'].value_counts())"
   ]
  },
  {
   "cell_type": "code",
   "execution_count": 49,
   "id": "6bff1adb",
   "metadata": {},
   "outputs": [
    {
     "name": "stdout",
     "output_type": "stream",
     "text": [
      "0    608\n",
      "1    209\n",
      "2     28\n",
      "4     18\n",
      "3     16\n",
      "8      7\n",
      "5      5\n",
      "Name: SibSp, dtype: int64\n"
     ]
    },
    {
     "data": {
      "image/png": "[encoded data removed]",
      "text/plain": [
       "<Figure size 720x360 with 2 Axes>"
      ]
     },
     "metadata": {
      "needs_background": "light"
     },
     "output_type": "display_data"
    }
   ],
   "source": [
    "sns.catplot(x='SibSp',col='Survived',data=df,kind='count')\n",
    "print(df['SibSp'].value_counts())"
   ]
  },
  {
   "cell_type": "code",
   "execution_count": 50,
   "id": "8ace1bcb",
   "metadata": {},
   "outputs": [
    {
     "name": "stdout",
     "output_type": "stream",
     "text": [
      "0    678\n",
      "1    118\n",
      "2     80\n",
      "5      5\n",
      "3      5\n",
      "4      4\n",
      "6      1\n",
      "Name: Parch, dtype: int64\n"
     ]
    },
    {
     "data": {
      "image/png": "[encoded data removed]",
      "text/plain": [
       "<Figure size 720x360 with 2 Axes>"
      ]
     },
     "metadata": {
      "needs_background": "light"
     },
     "output_type": "display_data"
    }
   ],
   "source": [
    "sns.catplot(x='Parch',col='Survived',data=df,kind='count')\n",
    "print(df['Parch'].value_counts())"
   ]
  },
  {
   "cell_type": "code",
   "execution_count": 51,
   "id": "8f76f26d",
   "metadata": {},
   "outputs": [
    {
     "name": "stdout",
     "output_type": "stream",
     "text": [
      "347082      7\n",
      "CA. 2343    7\n",
      "1601        7\n",
      "3101295     6\n",
      "CA 2144     6\n",
      "           ..\n",
      "9234        1\n",
      "19988       1\n",
      "2693        1\n",
      "PC 17612    1\n",
      "370376      1\n",
      "Name: Ticket, Length: 681, dtype: int64\n"
     ]
    },
    {
     "data": {
      "image/png": "[encoded data removed]",
      "text/plain": [
       "<Figure size 720x360 with 2 Axes>"
      ]
     },
     "metadata": {
      "needs_background": "light"
     },
     "output_type": "display_data"
    }
   ],
   "source": [
    "sns.catplot(x='Ticket',col='Survived',data=df,kind='count')\n",
    "print(df['Ticket'].value_counts())"
   ]
  },
  {
   "cell_type": "code",
   "execution_count": 52,
   "id": "93d98609",
   "metadata": {},
   "outputs": [
    {
     "name": "stdout",
     "output_type": "stream",
     "text": [
      "8.0500     43\n",
      "13.0000    42\n",
      "7.8958     38\n",
      "7.7500     34\n",
      "26.0000    31\n",
      "           ..\n",
      "35.0000     1\n",
      "28.5000     1\n",
      "6.2375      1\n",
      "14.0000     1\n",
      "10.5167     1\n",
      "Name: Fare, Length: 248, dtype: int64\n"
     ]
    },
    {
     "data": {
      "image/png": "[encoded data removed]",
      "text/plain": [
       "<Figure size 720x360 with 2 Axes>"
      ]
     },
     "metadata": {
      "needs_background": "light"
     },
     "output_type": "display_data"
    }
   ],
   "source": [
    "sns.catplot(x='Fare',col='Survived',data=df,kind='count')\n",
    "print(df['Fare'].value_counts())"
   ]
  },
  {
   "cell_type": "code",
   "execution_count": 53,
   "id": "e9c118ed",
   "metadata": {},
   "outputs": [
    {
     "name": "stdout",
     "output_type": "stream",
     "text": [
      "S    646\n",
      "C    168\n",
      "Q     77\n",
      "Name: Embarked, dtype: int64\n"
     ]
    },
    {
     "data": {
      "image/png": "[encoded data removed]",
      "text/plain": [
       "<Figure size 720x360 with 2 Axes>"
      ]
     },
     "metadata": {
      "needs_background": "light"
     },
     "output_type": "display_data"
    }
   ],
   "source": [
    "sns.catplot(x='Embarked',col='Survived',data=df,kind='count')\n",
    "print(df['Embarked'].value_counts())"
   ]
  },
  {
   "cell_type": "markdown",
   "id": "2d3c7934",
   "metadata": {},
   "source": [
    "# Multivariant Analysis"
   ]
  },
  {
   "cell_type": "code",
   "execution_count": 54,
   "id": "6fd266e9",
   "metadata": {},
   "outputs": [
    {
     "data": {
      "image/png": "[encoded data removed]",
      "text/plain": [
       "<Figure size 951.875x900 with 30 Axes>"
      ]
     },
     "metadata": {
      "needs_background": "light"
     },
     "output_type": "display_data"
    }
   ],
   "source": [
    "sns.pairplot(df,hue='Survived')\n",
    "plt.show()"
   ]
  },
  {
   "cell_type": "markdown",
   "id": "54f2a235",
   "metadata": {},
   "source": [
    "# Checking Skewness And Removed It"
   ]
  },
  {
   "cell_type": "code",
   "execution_count": 55,
   "id": "6032454a",
   "metadata": {},
   "outputs": [
    {
     "data": {
      "text/html": [
       "<div>\n",
       "<style scoped>\n",
       "    .dataframe tbody tr th:only-of-type {\n",
       "        vertical-align: middle;\n",
       "    }\n",
       "\n",
       "    .dataframe tbody tr th {\n",
       "        vertical-align: top;\n",
       "    }\n",
       "\n",
       "    .dataframe thead th {\n",
       "        text-align: right;\n",
       "    }\n",
       "</style>\n",
       "<table border=\"1\" class=\"dataframe\">\n",
       "  <thead>\n",
       "    <tr style=\"text-align: right;\">\n",
       "      <th></th>\n",
       "      <th>Survived</th>\n",
       "      <th>Pclass</th>\n",
       "      <th>Age</th>\n",
       "      <th>SibSp</th>\n",
       "      <th>Parch</th>\n",
       "      <th>Fare</th>\n",
       "    </tr>\n",
       "  </thead>\n",
       "  <tbody>\n",
       "    <tr>\n",
       "      <th>count</th>\n",
       "      <td>891.000000</td>\n",
       "      <td>891.000000</td>\n",
       "      <td>891.000000</td>\n",
       "      <td>891.000000</td>\n",
       "      <td>891.000000</td>\n",
       "      <td>891.000000</td>\n",
       "    </tr>\n",
       "    <tr>\n",
       "      <th>mean</th>\n",
       "      <td>0.383838</td>\n",
       "      <td>2.308642</td>\n",
       "      <td>29.699118</td>\n",
       "      <td>0.523008</td>\n",
       "      <td>0.381594</td>\n",
       "      <td>32.204208</td>\n",
       "    </tr>\n",
       "    <tr>\n",
       "      <th>std</th>\n",
       "      <td>0.486592</td>\n",
       "      <td>0.836071</td>\n",
       "      <td>13.002015</td>\n",
       "      <td>1.102743</td>\n",
       "      <td>0.806057</td>\n",
       "      <td>49.693429</td>\n",
       "    </tr>\n",
       "    <tr>\n",
       "      <th>min</th>\n",
       "      <td>0.000000</td>\n",
       "      <td>1.000000</td>\n",
       "      <td>0.420000</td>\n",
       "      <td>0.000000</td>\n",
       "      <td>0.000000</td>\n",
       "      <td>0.000000</td>\n",
       "    </tr>\n",
       "    <tr>\n",
       "      <th>25%</th>\n",
       "      <td>0.000000</td>\n",
       "      <td>2.000000</td>\n",
       "      <td>22.000000</td>\n",
       "      <td>0.000000</td>\n",
       "      <td>0.000000</td>\n",
       "      <td>7.910400</td>\n",
       "    </tr>\n",
       "    <tr>\n",
       "      <th>50%</th>\n",
       "      <td>0.000000</td>\n",
       "      <td>3.000000</td>\n",
       "      <td>29.699118</td>\n",
       "      <td>0.000000</td>\n",
       "      <td>0.000000</td>\n",
       "      <td>14.454200</td>\n",
       "    </tr>\n",
       "    <tr>\n",
       "      <th>75%</th>\n",
       "      <td>1.000000</td>\n",
       "      <td>3.000000</td>\n",
       "      <td>35.000000</td>\n",
       "      <td>1.000000</td>\n",
       "      <td>0.000000</td>\n",
       "      <td>31.000000</td>\n",
       "    </tr>\n",
       "    <tr>\n",
       "      <th>max</th>\n",
       "      <td>1.000000</td>\n",
       "      <td>3.000000</td>\n",
       "      <td>80.000000</td>\n",
       "      <td>8.000000</td>\n",
       "      <td>6.000000</td>\n",
       "      <td>512.329200</td>\n",
       "    </tr>\n",
       "  </tbody>\n",
       "</table>\n",
       "</div>"
      ],
      "text/plain": [
       "         Survived      Pclass         Age       SibSp       Parch        Fare\n",
       "count  891.000000  891.000000  891.000000  891.000000  891.000000  891.000000\n",
       "mean     0.383838    2.308642   29.699118    0.523008    0.381594   32.204208\n",
       "std      0.486592    0.836071   13.002015    1.102743    0.806057   49.693429\n",
       "min      0.000000    1.000000    0.420000    0.000000    0.000000    0.000000\n",
       "25%      0.000000    2.000000   22.000000    0.000000    0.000000    7.910400\n",
       "50%      0.000000    3.000000   29.699118    0.000000    0.000000   14.454200\n",
       "75%      1.000000    3.000000   35.000000    1.000000    0.000000   31.000000\n",
       "max      1.000000    3.000000   80.000000    8.000000    6.000000  512.329200"
      ]
     },
     "execution_count": 55,
     "metadata": {},
     "output_type": "execute_result"
    }
   ],
   "source": [
    "df.describe()"
   ]
  },
  {
   "cell_type": "markdown",
   "id": "c3e7279d",
   "metadata": {},
   "source": [
    "outlyers present in Age, SibSp, Parch, Fare columns because the difference of 75% and max is very high so firstly we can remove the outlyers from the data to filter it and get best prediction"
   ]
  },
  {
   "cell_type": "code",
   "execution_count": 56,
   "id": "9a337e04",
   "metadata": {},
   "outputs": [
    {
     "data": {
      "text/plain": [
       "Survived    0.478523\n",
       "Pclass     -0.630548\n",
       "Age         0.434488\n",
       "SibSp       3.695352\n",
       "Parch       2.749117\n",
       "Fare        4.787317\n",
       "dtype: float64"
      ]
     },
     "execution_count": 56,
     "metadata": {},
     "output_type": "execute_result"
    }
   ],
   "source": [
    "df.skew()"
   ]
  },
  {
   "cell_type": "code",
   "execution_count": 57,
   "id": "162f3297",
   "metadata": {},
   "outputs": [],
   "source": [
    "from scipy.stats import skew"
   ]
  },
  {
   "cell_type": "code",
   "execution_count": 58,
   "id": "c813cae7",
   "metadata": {},
   "outputs": [],
   "source": [
    "df['Pclass']=np.cbrt(df['Pclass'])"
   ]
  },
  {
   "cell_type": "code",
   "execution_count": 59,
   "id": "b65196d3",
   "metadata": {},
   "outputs": [],
   "source": [
    "df['SibSp']=np.cbrt(df['SibSp'])"
   ]
  },
  {
   "cell_type": "code",
   "execution_count": 60,
   "id": "e08ae50a",
   "metadata": {},
   "outputs": [],
   "source": [
    "df['Parch']=np.cbrt(df['Parch'])"
   ]
  },
  {
   "cell_type": "code",
   "execution_count": 61,
   "id": "2f56cfa6",
   "metadata": {},
   "outputs": [],
   "source": [
    "df['Fare']=np.cbrt(df['Fare'])"
   ]
  },
  {
   "cell_type": "markdown",
   "id": "6b5c4aeb",
   "metadata": {},
   "source": [
    "We can remove the skewness in Pclass, SibSp, Parch, Fare column with the help of CBRT method "
   ]
  },
  {
   "cell_type": "code",
   "execution_count": 62,
   "id": "944618f3",
   "metadata": {},
   "outputs": [
    {
     "data": {
      "text/plain": [
       "Survived    0.478523\n",
       "Pclass     -0.776838\n",
       "Age         0.434488\n",
       "SibSp       1.033059\n",
       "Parch       1.348334\n",
       "Fare        1.230382\n",
       "dtype: float64"
      ]
     },
     "execution_count": 62,
     "metadata": {},
     "output_type": "execute_result"
    }
   ],
   "source": [
    "df.skew()"
   ]
  },
  {
   "cell_type": "markdown",
   "id": "9c700458",
   "metadata": {},
   "source": [
    "Now skewness will bew removed"
   ]
  },
  {
   "cell_type": "markdown",
   "id": "0975efa1",
   "metadata": {},
   "source": [
    "# Encoding The Sex Column Through One Hot Encoder"
   ]
  },
  {
   "cell_type": "code",
   "execution_count": 63,
   "id": "873d087c",
   "metadata": {},
   "outputs": [],
   "source": [
    "from sklearn.preprocessing import OrdinalEncoder"
   ]
  },
  {
   "cell_type": "code",
   "execution_count": 64,
   "id": "99750c3b",
   "metadata": {},
   "outputs": [
    {
     "data": {
      "text/html": [
       "<div>\n",
       "<style scoped>\n",
       "    .dataframe tbody tr th:only-of-type {\n",
       "        vertical-align: middle;\n",
       "    }\n",
       "\n",
       "    .dataframe tbody tr th {\n",
       "        vertical-align: top;\n",
       "    }\n",
       "\n",
       "    .dataframe thead th {\n",
       "        text-align: right;\n",
       "    }\n",
       "</style>\n",
       "<table border=\"1\" class=\"dataframe\">\n",
       "  <thead>\n",
       "    <tr style=\"text-align: right;\">\n",
       "      <th></th>\n",
       "      <th>Survived</th>\n",
       "      <th>Pclass</th>\n",
       "      <th>Sex</th>\n",
       "      <th>Age</th>\n",
       "      <th>SibSp</th>\n",
       "      <th>Parch</th>\n",
       "      <th>Ticket</th>\n",
       "      <th>Fare</th>\n",
       "      <th>Cabin</th>\n",
       "      <th>Embarked</th>\n",
       "    </tr>\n",
       "  </thead>\n",
       "  <tbody>\n",
       "    <tr>\n",
       "      <th>0</th>\n",
       "      <td>0</td>\n",
       "      <td>1.442250</td>\n",
       "      <td>1.0</td>\n",
       "      <td>22.000000</td>\n",
       "      <td>1.0</td>\n",
       "      <td>0.000000</td>\n",
       "      <td>523.0</td>\n",
       "      <td>1.935438</td>\n",
       "      <td>47.0</td>\n",
       "      <td>2.0</td>\n",
       "    </tr>\n",
       "    <tr>\n",
       "      <th>1</th>\n",
       "      <td>1</td>\n",
       "      <td>1.000000</td>\n",
       "      <td>0.0</td>\n",
       "      <td>38.000000</td>\n",
       "      <td>1.0</td>\n",
       "      <td>0.000000</td>\n",
       "      <td>596.0</td>\n",
       "      <td>4.146318</td>\n",
       "      <td>81.0</td>\n",
       "      <td>0.0</td>\n",
       "    </tr>\n",
       "    <tr>\n",
       "      <th>2</th>\n",
       "      <td>1</td>\n",
       "      <td>1.442250</td>\n",
       "      <td>0.0</td>\n",
       "      <td>26.000000</td>\n",
       "      <td>0.0</td>\n",
       "      <td>0.000000</td>\n",
       "      <td>669.0</td>\n",
       "      <td>1.993730</td>\n",
       "      <td>47.0</td>\n",
       "      <td>2.0</td>\n",
       "    </tr>\n",
       "    <tr>\n",
       "      <th>3</th>\n",
       "      <td>1</td>\n",
       "      <td>1.000000</td>\n",
       "      <td>0.0</td>\n",
       "      <td>35.000000</td>\n",
       "      <td>1.0</td>\n",
       "      <td>0.000000</td>\n",
       "      <td>49.0</td>\n",
       "      <td>3.758647</td>\n",
       "      <td>55.0</td>\n",
       "      <td>2.0</td>\n",
       "    </tr>\n",
       "    <tr>\n",
       "      <th>4</th>\n",
       "      <td>0</td>\n",
       "      <td>1.442250</td>\n",
       "      <td>1.0</td>\n",
       "      <td>35.000000</td>\n",
       "      <td>0.0</td>\n",
       "      <td>0.000000</td>\n",
       "      <td>472.0</td>\n",
       "      <td>2.004158</td>\n",
       "      <td>47.0</td>\n",
       "      <td>2.0</td>\n",
       "    </tr>\n",
       "    <tr>\n",
       "      <th>...</th>\n",
       "      <td>...</td>\n",
       "      <td>...</td>\n",
       "      <td>...</td>\n",
       "      <td>...</td>\n",
       "      <td>...</td>\n",
       "      <td>...</td>\n",
       "      <td>...</td>\n",
       "      <td>...</td>\n",
       "      <td>...</td>\n",
       "      <td>...</td>\n",
       "    </tr>\n",
       "    <tr>\n",
       "      <th>886</th>\n",
       "      <td>0</td>\n",
       "      <td>1.259921</td>\n",
       "      <td>1.0</td>\n",
       "      <td>27.000000</td>\n",
       "      <td>0.0</td>\n",
       "      <td>0.000000</td>\n",
       "      <td>101.0</td>\n",
       "      <td>2.351335</td>\n",
       "      <td>47.0</td>\n",
       "      <td>2.0</td>\n",
       "    </tr>\n",
       "    <tr>\n",
       "      <th>887</th>\n",
       "      <td>1</td>\n",
       "      <td>1.000000</td>\n",
       "      <td>0.0</td>\n",
       "      <td>19.000000</td>\n",
       "      <td>0.0</td>\n",
       "      <td>0.000000</td>\n",
       "      <td>14.0</td>\n",
       "      <td>3.107233</td>\n",
       "      <td>30.0</td>\n",
       "      <td>2.0</td>\n",
       "    </tr>\n",
       "    <tr>\n",
       "      <th>888</th>\n",
       "      <td>0</td>\n",
       "      <td>1.442250</td>\n",
       "      <td>0.0</td>\n",
       "      <td>29.699118</td>\n",
       "      <td>1.0</td>\n",
       "      <td>1.259921</td>\n",
       "      <td>675.0</td>\n",
       "      <td>2.862294</td>\n",
       "      <td>47.0</td>\n",
       "      <td>2.0</td>\n",
       "    </tr>\n",
       "    <tr>\n",
       "      <th>889</th>\n",
       "      <td>1</td>\n",
       "      <td>1.000000</td>\n",
       "      <td>1.0</td>\n",
       "      <td>26.000000</td>\n",
       "      <td>0.0</td>\n",
       "      <td>0.000000</td>\n",
       "      <td>8.0</td>\n",
       "      <td>3.107233</td>\n",
       "      <td>60.0</td>\n",
       "      <td>0.0</td>\n",
       "    </tr>\n",
       "    <tr>\n",
       "      <th>890</th>\n",
       "      <td>0</td>\n",
       "      <td>1.442250</td>\n",
       "      <td>1.0</td>\n",
       "      <td>32.000000</td>\n",
       "      <td>0.0</td>\n",
       "      <td>0.000000</td>\n",
       "      <td>466.0</td>\n",
       "      <td>1.978946</td>\n",
       "      <td>47.0</td>\n",
       "      <td>1.0</td>\n",
       "    </tr>\n",
       "  </tbody>\n",
       "</table>\n",
       "<p>891 rows × 10 columns</p>\n",
       "</div>"
      ],
      "text/plain": [
       "     Survived    Pclass  Sex        Age  SibSp     Parch  Ticket      Fare  \\\n",
       "0           0  1.442250  1.0  22.000000    1.0  0.000000   523.0  1.935438   \n",
       "1           1  1.000000  0.0  38.000000    1.0  0.000000   596.0  4.146318   \n",
       "2           1  1.442250  0.0  26.000000    0.0  0.000000   669.0  1.993730   \n",
       "3           1  1.000000  0.0  35.000000    1.0  0.000000    49.0  3.758647   \n",
       "4           0  1.442250  1.0  35.000000    0.0  0.000000   472.0  2.004158   \n",
       "..        ...       ...  ...        ...    ...       ...     ...       ...   \n",
       "886         0  1.259921  1.0  27.000000    0.0  0.000000   101.0  2.351335   \n",
       "887         1  1.000000  0.0  19.000000    0.0  0.000000    14.0  3.107233   \n",
       "888         0  1.442250  0.0  29.699118    1.0  1.259921   675.0  2.862294   \n",
       "889         1  1.000000  1.0  26.000000    0.0  0.000000     8.0  3.107233   \n",
       "890         0  1.442250  1.0  32.000000    0.0  0.000000   466.0  1.978946   \n",
       "\n",
       "     Cabin  Embarked  \n",
       "0     47.0       2.0  \n",
       "1     81.0       0.0  \n",
       "2     47.0       2.0  \n",
       "3     55.0       2.0  \n",
       "4     47.0       2.0  \n",
       "..     ...       ...  \n",
       "886   47.0       2.0  \n",
       "887   30.0       2.0  \n",
       "888   47.0       2.0  \n",
       "889   60.0       0.0  \n",
       "890   47.0       1.0  \n",
       "\n",
       "[891 rows x 10 columns]"
      ]
     },
     "execution_count": 64,
     "metadata": {},
     "output_type": "execute_result"
    }
   ],
   "source": [
    "OE=OrdinalEncoder()    \n",
    "for i in df.columns:\n",
    "    if df[i].dtypes=='object':\n",
    "        df[i] = OE.fit_transform(df[i].values.reshape(-1,1))\n",
    "df\n"
   ]
  },
  {
   "cell_type": "markdown",
   "id": "ce2b10fe",
   "metadata": {},
   "source": [
    "Here we can encode the Sex column through object to int value with the help of one hot encoder"
   ]
  },
  {
   "cell_type": "markdown",
   "id": "e4b23514",
   "metadata": {},
   "source": [
    "# Removing Outlyers"
   ]
  },
  {
   "cell_type": "code",
   "execution_count": 65,
   "id": "14ffe7b1",
   "metadata": {},
   "outputs": [],
   "source": [
    "from scipy.stats import zscore"
   ]
  },
  {
   "cell_type": "code",
   "execution_count": 66,
   "id": "c5482a4e",
   "metadata": {},
   "outputs": [
    {
     "data": {
      "text/html": [
       "<div>\n",
       "<style scoped>\n",
       "    .dataframe tbody tr th:only-of-type {\n",
       "        vertical-align: middle;\n",
       "    }\n",
       "\n",
       "    .dataframe tbody tr th {\n",
       "        vertical-align: top;\n",
       "    }\n",
       "\n",
       "    .dataframe thead th {\n",
       "        text-align: right;\n",
       "    }\n",
       "</style>\n",
       "<table border=\"1\" class=\"dataframe\">\n",
       "  <thead>\n",
       "    <tr style=\"text-align: right;\">\n",
       "      <th></th>\n",
       "      <th>Survived</th>\n",
       "      <th>Pclass</th>\n",
       "      <th>Sex</th>\n",
       "      <th>Age</th>\n",
       "      <th>SibSp</th>\n",
       "      <th>Parch</th>\n",
       "      <th>Ticket</th>\n",
       "      <th>Fare</th>\n",
       "      <th>Cabin</th>\n",
       "      <th>Embarked</th>\n",
       "    </tr>\n",
       "  </thead>\n",
       "  <tbody>\n",
       "    <tr>\n",
       "      <th>0</th>\n",
       "      <td>0</td>\n",
       "      <td>1.442250</td>\n",
       "      <td>1.0</td>\n",
       "      <td>22.000000</td>\n",
       "      <td>1.0</td>\n",
       "      <td>0.000000</td>\n",
       "      <td>523.0</td>\n",
       "      <td>1.935438</td>\n",
       "      <td>47.0</td>\n",
       "      <td>2.0</td>\n",
       "    </tr>\n",
       "    <tr>\n",
       "      <th>1</th>\n",
       "      <td>1</td>\n",
       "      <td>1.000000</td>\n",
       "      <td>0.0</td>\n",
       "      <td>38.000000</td>\n",
       "      <td>1.0</td>\n",
       "      <td>0.000000</td>\n",
       "      <td>596.0</td>\n",
       "      <td>4.146318</td>\n",
       "      <td>81.0</td>\n",
       "      <td>0.0</td>\n",
       "    </tr>\n",
       "    <tr>\n",
       "      <th>2</th>\n",
       "      <td>1</td>\n",
       "      <td>1.442250</td>\n",
       "      <td>0.0</td>\n",
       "      <td>26.000000</td>\n",
       "      <td>0.0</td>\n",
       "      <td>0.000000</td>\n",
       "      <td>669.0</td>\n",
       "      <td>1.993730</td>\n",
       "      <td>47.0</td>\n",
       "      <td>2.0</td>\n",
       "    </tr>\n",
       "    <tr>\n",
       "      <th>3</th>\n",
       "      <td>1</td>\n",
       "      <td>1.000000</td>\n",
       "      <td>0.0</td>\n",
       "      <td>35.000000</td>\n",
       "      <td>1.0</td>\n",
       "      <td>0.000000</td>\n",
       "      <td>49.0</td>\n",
       "      <td>3.758647</td>\n",
       "      <td>55.0</td>\n",
       "      <td>2.0</td>\n",
       "    </tr>\n",
       "    <tr>\n",
       "      <th>4</th>\n",
       "      <td>0</td>\n",
       "      <td>1.442250</td>\n",
       "      <td>1.0</td>\n",
       "      <td>35.000000</td>\n",
       "      <td>0.0</td>\n",
       "      <td>0.000000</td>\n",
       "      <td>472.0</td>\n",
       "      <td>2.004158</td>\n",
       "      <td>47.0</td>\n",
       "      <td>2.0</td>\n",
       "    </tr>\n",
       "    <tr>\n",
       "      <th>...</th>\n",
       "      <td>...</td>\n",
       "      <td>...</td>\n",
       "      <td>...</td>\n",
       "      <td>...</td>\n",
       "      <td>...</td>\n",
       "      <td>...</td>\n",
       "      <td>...</td>\n",
       "      <td>...</td>\n",
       "      <td>...</td>\n",
       "      <td>...</td>\n",
       "    </tr>\n",
       "    <tr>\n",
       "      <th>886</th>\n",
       "      <td>0</td>\n",
       "      <td>1.259921</td>\n",
       "      <td>1.0</td>\n",
       "      <td>27.000000</td>\n",
       "      <td>0.0</td>\n",
       "      <td>0.000000</td>\n",
       "      <td>101.0</td>\n",
       "      <td>2.351335</td>\n",
       "      <td>47.0</td>\n",
       "      <td>2.0</td>\n",
       "    </tr>\n",
       "    <tr>\n",
       "      <th>887</th>\n",
       "      <td>1</td>\n",
       "      <td>1.000000</td>\n",
       "      <td>0.0</td>\n",
       "      <td>19.000000</td>\n",
       "      <td>0.0</td>\n",
       "      <td>0.000000</td>\n",
       "      <td>14.0</td>\n",
       "      <td>3.107233</td>\n",
       "      <td>30.0</td>\n",
       "      <td>2.0</td>\n",
       "    </tr>\n",
       "    <tr>\n",
       "      <th>888</th>\n",
       "      <td>0</td>\n",
       "      <td>1.442250</td>\n",
       "      <td>0.0</td>\n",
       "      <td>29.699118</td>\n",
       "      <td>1.0</td>\n",
       "      <td>1.259921</td>\n",
       "      <td>675.0</td>\n",
       "      <td>2.862294</td>\n",
       "      <td>47.0</td>\n",
       "      <td>2.0</td>\n",
       "    </tr>\n",
       "    <tr>\n",
       "      <th>889</th>\n",
       "      <td>1</td>\n",
       "      <td>1.000000</td>\n",
       "      <td>1.0</td>\n",
       "      <td>26.000000</td>\n",
       "      <td>0.0</td>\n",
       "      <td>0.000000</td>\n",
       "      <td>8.0</td>\n",
       "      <td>3.107233</td>\n",
       "      <td>60.0</td>\n",
       "      <td>0.0</td>\n",
       "    </tr>\n",
       "    <tr>\n",
       "      <th>890</th>\n",
       "      <td>0</td>\n",
       "      <td>1.442250</td>\n",
       "      <td>1.0</td>\n",
       "      <td>32.000000</td>\n",
       "      <td>0.0</td>\n",
       "      <td>0.000000</td>\n",
       "      <td>466.0</td>\n",
       "      <td>1.978946</td>\n",
       "      <td>47.0</td>\n",
       "      <td>1.0</td>\n",
       "    </tr>\n",
       "  </tbody>\n",
       "</table>\n",
       "<p>891 rows × 10 columns</p>\n",
       "</div>"
      ],
      "text/plain": [
       "     Survived    Pclass  Sex        Age  SibSp     Parch  Ticket      Fare  \\\n",
       "0           0  1.442250  1.0  22.000000    1.0  0.000000   523.0  1.935438   \n",
       "1           1  1.000000  0.0  38.000000    1.0  0.000000   596.0  4.146318   \n",
       "2           1  1.442250  0.0  26.000000    0.0  0.000000   669.0  1.993730   \n",
       "3           1  1.000000  0.0  35.000000    1.0  0.000000    49.0  3.758647   \n",
       "4           0  1.442250  1.0  35.000000    0.0  0.000000   472.0  2.004158   \n",
       "..        ...       ...  ...        ...    ...       ...     ...       ...   \n",
       "886         0  1.259921  1.0  27.000000    0.0  0.000000   101.0  2.351335   \n",
       "887         1  1.000000  0.0  19.000000    0.0  0.000000    14.0  3.107233   \n",
       "888         0  1.442250  0.0  29.699118    1.0  1.259921   675.0  2.862294   \n",
       "889         1  1.000000  1.0  26.000000    0.0  0.000000     8.0  3.107233   \n",
       "890         0  1.442250  1.0  32.000000    0.0  0.000000   466.0  1.978946   \n",
       "\n",
       "     Cabin  Embarked  \n",
       "0     47.0       2.0  \n",
       "1     81.0       0.0  \n",
       "2     47.0       2.0  \n",
       "3     55.0       2.0  \n",
       "4     47.0       2.0  \n",
       "..     ...       ...  \n",
       "886   47.0       2.0  \n",
       "887   30.0       2.0  \n",
       "888   47.0       2.0  \n",
       "889   60.0       0.0  \n",
       "890   47.0       1.0  \n",
       "\n",
       "[891 rows x 10 columns]"
      ]
     },
     "execution_count": 66,
     "metadata": {},
     "output_type": "execute_result"
    }
   ],
   "source": [
    "df"
   ]
  },
  {
   "cell_type": "code",
   "execution_count": 67,
   "id": "5af0232c",
   "metadata": {},
   "outputs": [
    {
     "data": {
      "text/html": [
       "<div>\n",
       "<style scoped>\n",
       "    .dataframe tbody tr th:only-of-type {\n",
       "        vertical-align: middle;\n",
       "    }\n",
       "\n",
       "    .dataframe tbody tr th {\n",
       "        vertical-align: top;\n",
       "    }\n",
       "\n",
       "    .dataframe thead th {\n",
       "        text-align: right;\n",
       "    }\n",
       "</style>\n",
       "<table border=\"1\" class=\"dataframe\">\n",
       "  <thead>\n",
       "    <tr style=\"text-align: right;\">\n",
       "      <th></th>\n",
       "      <th>Survived</th>\n",
       "      <th>Pclass</th>\n",
       "      <th>Sex</th>\n",
       "      <th>Age</th>\n",
       "      <th>SibSp</th>\n",
       "      <th>Parch</th>\n",
       "      <th>Ticket</th>\n",
       "      <th>Fare</th>\n",
       "      <th>Cabin</th>\n",
       "      <th>Embarked</th>\n",
       "    </tr>\n",
       "  </thead>\n",
       "  <tbody>\n",
       "    <tr>\n",
       "      <th>0</th>\n",
       "      <td>0.789272</td>\n",
       "      <td>0.793926</td>\n",
       "      <td>0.737695</td>\n",
       "      <td>0.592481</td>\n",
       "      <td>1.187523</td>\n",
       "      <td>0.551654</td>\n",
       "      <td>0.918966</td>\n",
       "      <td>0.774708</td>\n",
       "      <td>0.281881</td>\n",
       "      <td>0.585954</td>\n",
       "    </tr>\n",
       "    <tr>\n",
       "      <th>1</th>\n",
       "      <td>1.266990</td>\n",
       "      <td>1.629810</td>\n",
       "      <td>1.355574</td>\n",
       "      <td>0.638789</td>\n",
       "      <td>1.187523</td>\n",
       "      <td>0.551654</td>\n",
       "      <td>1.282625</td>\n",
       "      <td>1.287903</td>\n",
       "      <td>1.161545</td>\n",
       "      <td>1.942303</td>\n",
       "    </tr>\n",
       "    <tr>\n",
       "      <th>2</th>\n",
       "      <td>1.266990</td>\n",
       "      <td>0.793926</td>\n",
       "      <td>1.355574</td>\n",
       "      <td>0.284663</td>\n",
       "      <td>0.660582</td>\n",
       "      <td>0.551654</td>\n",
       "      <td>1.646283</td>\n",
       "      <td>0.720325</td>\n",
       "      <td>0.281881</td>\n",
       "      <td>0.585954</td>\n",
       "    </tr>\n",
       "    <tr>\n",
       "      <th>3</th>\n",
       "      <td>1.266990</td>\n",
       "      <td>1.629810</td>\n",
       "      <td>1.355574</td>\n",
       "      <td>0.407926</td>\n",
       "      <td>1.187523</td>\n",
       "      <td>0.551654</td>\n",
       "      <td>1.442322</td>\n",
       "      <td>0.926230</td>\n",
       "      <td>0.057748</td>\n",
       "      <td>0.585954</td>\n",
       "    </tr>\n",
       "    <tr>\n",
       "      <th>4</th>\n",
       "      <td>0.789272</td>\n",
       "      <td>0.793926</td>\n",
       "      <td>0.737695</td>\n",
       "      <td>0.407926</td>\n",
       "      <td>0.660582</td>\n",
       "      <td>0.551654</td>\n",
       "      <td>0.664904</td>\n",
       "      <td>0.710596</td>\n",
       "      <td>0.281881</td>\n",
       "      <td>0.585954</td>\n",
       "    </tr>\n",
       "    <tr>\n",
       "      <th>...</th>\n",
       "      <td>...</td>\n",
       "      <td>...</td>\n",
       "      <td>...</td>\n",
       "      <td>...</td>\n",
       "      <td>...</td>\n",
       "      <td>...</td>\n",
       "      <td>...</td>\n",
       "      <td>...</td>\n",
       "      <td>...</td>\n",
       "      <td>...</td>\n",
       "    </tr>\n",
       "    <tr>\n",
       "      <th>886</th>\n",
       "      <td>0.789272</td>\n",
       "      <td>0.205320</td>\n",
       "      <td>0.737695</td>\n",
       "      <td>0.207709</td>\n",
       "      <td>0.660582</td>\n",
       "      <td>0.551654</td>\n",
       "      <td>1.183277</td>\n",
       "      <td>0.386703</td>\n",
       "      <td>0.281881</td>\n",
       "      <td>0.585954</td>\n",
       "    </tr>\n",
       "    <tr>\n",
       "      <th>887</th>\n",
       "      <td>1.266990</td>\n",
       "      <td>1.629810</td>\n",
       "      <td>1.355574</td>\n",
       "      <td>0.823344</td>\n",
       "      <td>0.660582</td>\n",
       "      <td>0.551654</td>\n",
       "      <td>1.616678</td>\n",
       "      <td>0.318502</td>\n",
       "      <td>1.003594</td>\n",
       "      <td>0.585954</td>\n",
       "    </tr>\n",
       "    <tr>\n",
       "      <th>888</th>\n",
       "      <td>0.789272</td>\n",
       "      <td>0.793926</td>\n",
       "      <td>1.355574</td>\n",
       "      <td>0.000000</td>\n",
       "      <td>1.187523</td>\n",
       "      <td>1.999751</td>\n",
       "      <td>1.676173</td>\n",
       "      <td>0.089990</td>\n",
       "      <td>0.281881</td>\n",
       "      <td>0.585954</td>\n",
       "    </tr>\n",
       "    <tr>\n",
       "      <th>889</th>\n",
       "      <td>1.266990</td>\n",
       "      <td>1.629810</td>\n",
       "      <td>0.737695</td>\n",
       "      <td>0.284663</td>\n",
       "      <td>0.660582</td>\n",
       "      <td>0.551654</td>\n",
       "      <td>1.646568</td>\n",
       "      <td>0.318502</td>\n",
       "      <td>0.270017</td>\n",
       "      <td>1.942303</td>\n",
       "    </tr>\n",
       "    <tr>\n",
       "      <th>890</th>\n",
       "      <td>0.789272</td>\n",
       "      <td>0.793926</td>\n",
       "      <td>0.737695</td>\n",
       "      <td>0.177063</td>\n",
       "      <td>0.660582</td>\n",
       "      <td>0.551654</td>\n",
       "      <td>0.635014</td>\n",
       "      <td>0.734118</td>\n",
       "      <td>0.281881</td>\n",
       "      <td>0.678175</td>\n",
       "    </tr>\n",
       "  </tbody>\n",
       "</table>\n",
       "<p>891 rows × 10 columns</p>\n",
       "</div>"
      ],
      "text/plain": [
       "     Survived    Pclass       Sex       Age     SibSp     Parch    Ticket  \\\n",
       "0    0.789272  0.793926  0.737695  0.592481  1.187523  0.551654  0.918966   \n",
       "1    1.266990  1.629810  1.355574  0.638789  1.187523  0.551654  1.282625   \n",
       "2    1.266990  0.793926  1.355574  0.284663  0.660582  0.551654  1.646283   \n",
       "3    1.266990  1.629810  1.355574  0.407926  1.187523  0.551654  1.442322   \n",
       "4    0.789272  0.793926  0.737695  0.407926  0.660582  0.551654  0.664904   \n",
       "..        ...       ...       ...       ...       ...       ...       ...   \n",
       "886  0.789272  0.205320  0.737695  0.207709  0.660582  0.551654  1.183277   \n",
       "887  1.266990  1.629810  1.355574  0.823344  0.660582  0.551654  1.616678   \n",
       "888  0.789272  0.793926  1.355574  0.000000  1.187523  1.999751  1.676173   \n",
       "889  1.266990  1.629810  0.737695  0.284663  0.660582  0.551654  1.646568   \n",
       "890  0.789272  0.793926  0.737695  0.177063  0.660582  0.551654  0.635014   \n",
       "\n",
       "         Fare     Cabin  Embarked  \n",
       "0    0.774708  0.281881  0.585954  \n",
       "1    1.287903  1.161545  1.942303  \n",
       "2    0.720325  0.281881  0.585954  \n",
       "3    0.926230  0.057748  0.585954  \n",
       "4    0.710596  0.281881  0.585954  \n",
       "..        ...       ...       ...  \n",
       "886  0.386703  0.281881  0.585954  \n",
       "887  0.318502  1.003594  0.585954  \n",
       "888  0.089990  0.281881  0.585954  \n",
       "889  0.318502  0.270017  1.942303  \n",
       "890  0.734118  0.281881  0.678175  \n",
       "\n",
       "[891 rows x 10 columns]"
      ]
     },
     "execution_count": 67,
     "metadata": {},
     "output_type": "execute_result"
    }
   ],
   "source": [
    "z=np.abs(zscore(df))\n",
    "z"
   ]
  },
  {
   "cell_type": "code",
   "execution_count": 68,
   "id": "82bd5895",
   "metadata": {},
   "outputs": [
    {
     "name": "stdout",
     "output_type": "stream",
     "text": [
      "(array([  6,  10,  27,  66,  75,  88,  96, 116, 118, 128, 148, 159, 180,\n",
      "       183, 193, 201, 205, 251, 258, 262, 299, 309, 311, 324, 337, 339,\n",
      "       340, 341, 345, 370, 380, 394, 434, 438, 456, 462, 493, 516, 527,\n",
      "       557, 558, 577, 585, 618, 630, 662, 672, 678, 679, 699, 700, 715,\n",
      "       716, 724, 737, 742, 745, 772, 776, 792, 809, 835, 846, 851, 863],\n",
      "      dtype=int64), array([8, 8, 7, 8, 8, 7, 3, 3, 7, 8, 8, 4, 4, 8, 8, 4, 8, 8, 7, 8, 7, 8,\n",
      "       7, 4, 8, 8, 8, 7, 8, 8, 7, 8, 8, 7, 8, 8, 3, 8, 7, 7, 8, 8, 8, 8,\n",
      "       3, 8, 3, 5, 7, 8, 7, 8, 7, 8, 7, 7, 3, 8, 8, 4, 8, 8, 4, 3, 4],\n",
      "      dtype=int64))\n"
     ]
    }
   ],
   "source": [
    "threshold=3\n",
    "print(np.where(z>3))"
   ]
  },
  {
   "cell_type": "code",
   "execution_count": 69,
   "id": "fbe29014",
   "metadata": {},
   "outputs": [],
   "source": [
    "df1=df[(z<3).all(axis=1)]"
   ]
  },
  {
   "cell_type": "markdown",
   "id": "d1836df0",
   "metadata": {},
   "source": [
    "Here we can remove the outlyers with the help of Zscore now our data will be filtered and refined"
   ]
  },
  {
   "cell_type": "code",
   "execution_count": 70,
   "id": "3eda532c",
   "metadata": {},
   "outputs": [
    {
     "data": {
      "text/plain": [
       "(826, 10)"
      ]
     },
     "execution_count": 70,
     "metadata": {},
     "output_type": "execute_result"
    }
   ],
   "source": [
    "df1.shape\n"
   ]
  },
  {
   "cell_type": "code",
   "execution_count": 71,
   "id": "75086911",
   "metadata": {},
   "outputs": [
    {
     "data": {
      "text/plain": [
       "(891, 10)"
      ]
     },
     "execution_count": 71,
     "metadata": {},
     "output_type": "execute_result"
    }
   ],
   "source": [
    "df.shape"
   ]
  },
  {
   "cell_type": "code",
   "execution_count": 72,
   "id": "39ab88f3",
   "metadata": {},
   "outputs": [
    {
     "name": "stdout",
     "output_type": "stream",
     "text": [
      "7.295173961840629\n"
     ]
    }
   ],
   "source": [
    "loss_percent=(891-826)/891*100\n",
    "print(loss_percent)"
   ]
  },
  {
   "cell_type": "markdown",
   "id": "4ed36bad",
   "metadata": {},
   "source": [
    "after removing outlyers we can loss only 7.3% data and this loss is acceptable"
   ]
  },
  {
   "cell_type": "code",
   "execution_count": 73,
   "id": "84e96f3e",
   "metadata": {},
   "outputs": [
    {
     "data": {
      "text/html": [
       "<div>\n",
       "<style scoped>\n",
       "    .dataframe tbody tr th:only-of-type {\n",
       "        vertical-align: middle;\n",
       "    }\n",
       "\n",
       "    .dataframe tbody tr th {\n",
       "        vertical-align: top;\n",
       "    }\n",
       "\n",
       "    .dataframe thead th {\n",
       "        text-align: right;\n",
       "    }\n",
       "</style>\n",
       "<table border=\"1\" class=\"dataframe\">\n",
       "  <thead>\n",
       "    <tr style=\"text-align: right;\">\n",
       "      <th></th>\n",
       "      <th>Survived</th>\n",
       "      <th>Pclass</th>\n",
       "      <th>Sex</th>\n",
       "      <th>Age</th>\n",
       "      <th>SibSp</th>\n",
       "      <th>Parch</th>\n",
       "      <th>Ticket</th>\n",
       "      <th>Fare</th>\n",
       "      <th>Cabin</th>\n",
       "      <th>Embarked</th>\n",
       "    </tr>\n",
       "  </thead>\n",
       "  <tbody>\n",
       "    <tr>\n",
       "      <th>count</th>\n",
       "      <td>826.000000</td>\n",
       "      <td>826.000000</td>\n",
       "      <td>826.000000</td>\n",
       "      <td>826.000000</td>\n",
       "      <td>826.000000</td>\n",
       "      <td>826.000000</td>\n",
       "      <td>826.000000</td>\n",
       "      <td>826.000000</td>\n",
       "      <td>826.000000</td>\n",
       "      <td>826.000000</td>\n",
       "    </tr>\n",
       "    <tr>\n",
       "      <th>mean</th>\n",
       "      <td>0.376513</td>\n",
       "      <td>1.307467</td>\n",
       "      <td>0.656174</td>\n",
       "      <td>29.239980</td>\n",
       "      <td>0.336695</td>\n",
       "      <td>0.248690</td>\n",
       "      <td>336.238499</td>\n",
       "      <td>2.663247</td>\n",
       "      <td>50.503632</td>\n",
       "      <td>1.546005</td>\n",
       "    </tr>\n",
       "    <tr>\n",
       "      <th>std</th>\n",
       "      <td>0.484805</td>\n",
       "      <td>0.177472</td>\n",
       "      <td>0.475272</td>\n",
       "      <td>12.314597</td>\n",
       "      <td>0.520463</td>\n",
       "      <td>0.476954</td>\n",
       "      <td>197.353263</td>\n",
       "      <td>0.938406</td>\n",
       "      <td>16.924234</td>\n",
       "      <td>0.782189</td>\n",
       "    </tr>\n",
       "    <tr>\n",
       "      <th>min</th>\n",
       "      <td>0.000000</td>\n",
       "      <td>1.000000</td>\n",
       "      <td>0.000000</td>\n",
       "      <td>0.420000</td>\n",
       "      <td>0.000000</td>\n",
       "      <td>0.000000</td>\n",
       "      <td>0.000000</td>\n",
       "      <td>0.000000</td>\n",
       "      <td>0.000000</td>\n",
       "      <td>0.000000</td>\n",
       "    </tr>\n",
       "    <tr>\n",
       "      <th>25%</th>\n",
       "      <td>0.000000</td>\n",
       "      <td>1.259921</td>\n",
       "      <td>0.000000</td>\n",
       "      <td>22.000000</td>\n",
       "      <td>0.000000</td>\n",
       "      <td>0.000000</td>\n",
       "      <td>164.000000</td>\n",
       "      <td>1.991279</td>\n",
       "      <td>47.000000</td>\n",
       "      <td>1.000000</td>\n",
       "    </tr>\n",
       "    <tr>\n",
       "      <th>50%</th>\n",
       "      <td>0.000000</td>\n",
       "      <td>1.442250</td>\n",
       "      <td>1.000000</td>\n",
       "      <td>29.699118</td>\n",
       "      <td>0.000000</td>\n",
       "      <td>0.000000</td>\n",
       "      <td>333.000000</td>\n",
       "      <td>2.351335</td>\n",
       "      <td>47.000000</td>\n",
       "      <td>2.000000</td>\n",
       "    </tr>\n",
       "    <tr>\n",
       "      <th>75%</th>\n",
       "      <td>1.000000</td>\n",
       "      <td>1.442250</td>\n",
       "      <td>1.000000</td>\n",
       "      <td>34.375000</td>\n",
       "      <td>1.000000</td>\n",
       "      <td>0.000000</td>\n",
       "      <td>505.750000</td>\n",
       "      <td>3.060237</td>\n",
       "      <td>47.000000</td>\n",
       "      <td>2.000000</td>\n",
       "    </tr>\n",
       "    <tr>\n",
       "      <th>max</th>\n",
       "      <td>1.000000</td>\n",
       "      <td>1.442250</td>\n",
       "      <td>1.000000</td>\n",
       "      <td>66.000000</td>\n",
       "      <td>1.709976</td>\n",
       "      <td>1.709976</td>\n",
       "      <td>680.000000</td>\n",
       "      <td>5.958041</td>\n",
       "      <td>124.000000</td>\n",
       "      <td>2.000000</td>\n",
       "    </tr>\n",
       "  </tbody>\n",
       "</table>\n",
       "</div>"
      ],
      "text/plain": [
       "         Survived      Pclass         Sex         Age       SibSp       Parch  \\\n",
       "count  826.000000  826.000000  826.000000  826.000000  826.000000  826.000000   \n",
       "mean     0.376513    1.307467    0.656174   29.239980    0.336695    0.248690   \n",
       "std      0.484805    0.177472    0.475272   12.314597    0.520463    0.476954   \n",
       "min      0.000000    1.000000    0.000000    0.420000    0.000000    0.000000   \n",
       "25%      0.000000    1.259921    0.000000   22.000000    0.000000    0.000000   \n",
       "50%      0.000000    1.442250    1.000000   29.699118    0.000000    0.000000   \n",
       "75%      1.000000    1.442250    1.000000   34.375000    1.000000    0.000000   \n",
       "max      1.000000    1.442250    1.000000   66.000000    1.709976    1.709976   \n",
       "\n",
       "           Ticket        Fare       Cabin    Embarked  \n",
       "count  826.000000  826.000000  826.000000  826.000000  \n",
       "mean   336.238499    2.663247   50.503632    1.546005  \n",
       "std    197.353263    0.938406   16.924234    0.782189  \n",
       "min      0.000000    0.000000    0.000000    0.000000  \n",
       "25%    164.000000    1.991279   47.000000    1.000000  \n",
       "50%    333.000000    2.351335   47.000000    2.000000  \n",
       "75%    505.750000    3.060237   47.000000    2.000000  \n",
       "max    680.000000    5.958041  124.000000    2.000000  "
      ]
     },
     "execution_count": 73,
     "metadata": {},
     "output_type": "execute_result"
    }
   ],
   "source": [
    "df1.describe()"
   ]
  },
  {
   "cell_type": "markdown",
   "id": "70908b25",
   "metadata": {},
   "source": [
    "the count of all the columns are same that means no null values have been present in data set,\n",
    "the describe method show mean,std,min,IQR and max value of the column"
   ]
  },
  {
   "cell_type": "markdown",
   "id": "92d1e9aa",
   "metadata": {},
   "source": [
    "# Corelation between Target Variable and independent variable"
   ]
  },
  {
   "cell_type": "code",
   "execution_count": 74,
   "id": "0ea4491e",
   "metadata": {},
   "outputs": [
    {
     "data": {
      "text/html": [
       "<div>\n",
       "<style scoped>\n",
       "    .dataframe tbody tr th:only-of-type {\n",
       "        vertical-align: middle;\n",
       "    }\n",
       "\n",
       "    .dataframe tbody tr th {\n",
       "        vertical-align: top;\n",
       "    }\n",
       "\n",
       "    .dataframe thead th {\n",
       "        text-align: right;\n",
       "    }\n",
       "</style>\n",
       "<table border=\"1\" class=\"dataframe\">\n",
       "  <thead>\n",
       "    <tr style=\"text-align: right;\">\n",
       "      <th></th>\n",
       "      <th>Survived</th>\n",
       "      <th>Pclass</th>\n",
       "      <th>Sex</th>\n",
       "      <th>Age</th>\n",
       "      <th>SibSp</th>\n",
       "      <th>Parch</th>\n",
       "      <th>Ticket</th>\n",
       "      <th>Fare</th>\n",
       "      <th>Cabin</th>\n",
       "      <th>Embarked</th>\n",
       "    </tr>\n",
       "  </thead>\n",
       "  <tbody>\n",
       "    <tr>\n",
       "      <th>Survived</th>\n",
       "      <td>1.000000</td>\n",
       "      <td>-0.331459</td>\n",
       "      <td>-0.542214</td>\n",
       "      <td>-0.039653</td>\n",
       "      <td>0.073373</td>\n",
       "      <td>0.139079</td>\n",
       "      <td>-0.172513</td>\n",
       "      <td>0.334643</td>\n",
       "      <td>0.192695</td>\n",
       "      <td>-0.149618</td>\n",
       "    </tr>\n",
       "    <tr>\n",
       "      <th>Pclass</th>\n",
       "      <td>-0.331459</td>\n",
       "      <td>1.000000</td>\n",
       "      <td>0.131673</td>\n",
       "      <td>-0.331255</td>\n",
       "      <td>-0.026599</td>\n",
       "      <td>-0.005186</td>\n",
       "      <td>0.341310</td>\n",
       "      <td>-0.672921</td>\n",
       "      <td>-0.279655</td>\n",
       "      <td>0.150478</td>\n",
       "    </tr>\n",
       "    <tr>\n",
       "      <th>Sex</th>\n",
       "      <td>-0.542214</td>\n",
       "      <td>0.131673</td>\n",
       "      <td>1.000000</td>\n",
       "      <td>0.066458</td>\n",
       "      <td>-0.187150</td>\n",
       "      <td>-0.254273</td>\n",
       "      <td>0.082910</td>\n",
       "      <td>-0.267787</td>\n",
       "      <td>-0.080767</td>\n",
       "      <td>0.101291</td>\n",
       "    </tr>\n",
       "    <tr>\n",
       "      <th>Age</th>\n",
       "      <td>-0.039653</td>\n",
       "      <td>-0.331255</td>\n",
       "      <td>0.066458</td>\n",
       "      <td>1.000000</td>\n",
       "      <td>-0.197617</td>\n",
       "      <td>-0.264285</td>\n",
       "      <td>-0.097757</td>\n",
       "      <td>0.100709</td>\n",
       "      <td>0.118265</td>\n",
       "      <td>-0.017459</td>\n",
       "    </tr>\n",
       "    <tr>\n",
       "      <th>SibSp</th>\n",
       "      <td>0.073373</td>\n",
       "      <td>-0.026599</td>\n",
       "      <td>-0.187150</td>\n",
       "      <td>-0.197617</td>\n",
       "      <td>1.000000</td>\n",
       "      <td>0.425405</td>\n",
       "      <td>0.025311</td>\n",
       "      <td>0.360234</td>\n",
       "      <td>0.042786</td>\n",
       "      <td>-0.008777</td>\n",
       "    </tr>\n",
       "    <tr>\n",
       "      <th>Parch</th>\n",
       "      <td>0.139079</td>\n",
       "      <td>-0.005186</td>\n",
       "      <td>-0.254273</td>\n",
       "      <td>-0.264285</td>\n",
       "      <td>0.425405</td>\n",
       "      <td>1.000000</td>\n",
       "      <td>-0.007812</td>\n",
       "      <td>0.324767</td>\n",
       "      <td>0.023914</td>\n",
       "      <td>0.003790</td>\n",
       "    </tr>\n",
       "    <tr>\n",
       "      <th>Ticket</th>\n",
       "      <td>-0.172513</td>\n",
       "      <td>0.341310</td>\n",
       "      <td>0.082910</td>\n",
       "      <td>-0.097757</td>\n",
       "      <td>0.025311</td>\n",
       "      <td>-0.007812</td>\n",
       "      <td>1.000000</td>\n",
       "      <td>-0.155170</td>\n",
       "      <td>0.003913</td>\n",
       "      <td>0.044957</td>\n",
       "    </tr>\n",
       "    <tr>\n",
       "      <th>Fare</th>\n",
       "      <td>0.334643</td>\n",
       "      <td>-0.672921</td>\n",
       "      <td>-0.267787</td>\n",
       "      <td>0.100709</td>\n",
       "      <td>0.360234</td>\n",
       "      <td>0.324767</td>\n",
       "      <td>-0.155170</td>\n",
       "      <td>1.000000</td>\n",
       "      <td>0.241885</td>\n",
       "      <td>-0.173415</td>\n",
       "    </tr>\n",
       "    <tr>\n",
       "      <th>Cabin</th>\n",
       "      <td>0.192695</td>\n",
       "      <td>-0.279655</td>\n",
       "      <td>-0.080767</td>\n",
       "      <td>0.118265</td>\n",
       "      <td>0.042786</td>\n",
       "      <td>0.023914</td>\n",
       "      <td>0.003913</td>\n",
       "      <td>0.241885</td>\n",
       "      <td>1.000000</td>\n",
       "      <td>-0.024460</td>\n",
       "    </tr>\n",
       "    <tr>\n",
       "      <th>Embarked</th>\n",
       "      <td>-0.149618</td>\n",
       "      <td>0.150478</td>\n",
       "      <td>0.101291</td>\n",
       "      <td>-0.017459</td>\n",
       "      <td>-0.008777</td>\n",
       "      <td>0.003790</td>\n",
       "      <td>0.044957</td>\n",
       "      <td>-0.173415</td>\n",
       "      <td>-0.024460</td>\n",
       "      <td>1.000000</td>\n",
       "    </tr>\n",
       "  </tbody>\n",
       "</table>\n",
       "</div>"
      ],
      "text/plain": [
       "          Survived    Pclass       Sex       Age     SibSp     Parch  \\\n",
       "Survived  1.000000 -0.331459 -0.542214 -0.039653  0.073373  0.139079   \n",
       "Pclass   -0.331459  1.000000  0.131673 -0.331255 -0.026599 -0.005186   \n",
       "Sex      -0.542214  0.131673  1.000000  0.066458 -0.187150 -0.254273   \n",
       "Age      -0.039653 -0.331255  0.066458  1.000000 -0.197617 -0.264285   \n",
       "SibSp     0.073373 -0.026599 -0.187150 -0.197617  1.000000  0.425405   \n",
       "Parch     0.139079 -0.005186 -0.254273 -0.264285  0.425405  1.000000   \n",
       "Ticket   -0.172513  0.341310  0.082910 -0.097757  0.025311 -0.007812   \n",
       "Fare      0.334643 -0.672921 -0.267787  0.100709  0.360234  0.324767   \n",
       "Cabin     0.192695 -0.279655 -0.080767  0.118265  0.042786  0.023914   \n",
       "Embarked -0.149618  0.150478  0.101291 -0.017459 -0.008777  0.003790   \n",
       "\n",
       "            Ticket      Fare     Cabin  Embarked  \n",
       "Survived -0.172513  0.334643  0.192695 -0.149618  \n",
       "Pclass    0.341310 -0.672921 -0.279655  0.150478  \n",
       "Sex       0.082910 -0.267787 -0.080767  0.101291  \n",
       "Age      -0.097757  0.100709  0.118265 -0.017459  \n",
       "SibSp     0.025311  0.360234  0.042786 -0.008777  \n",
       "Parch    -0.007812  0.324767  0.023914  0.003790  \n",
       "Ticket    1.000000 -0.155170  0.003913  0.044957  \n",
       "Fare     -0.155170  1.000000  0.241885 -0.173415  \n",
       "Cabin     0.003913  0.241885  1.000000 -0.024460  \n",
       "Embarked  0.044957 -0.173415 -0.024460  1.000000  "
      ]
     },
     "execution_count": 74,
     "metadata": {},
     "output_type": "execute_result"
    }
   ],
   "source": [
    "cor=df1.corr()\n",
    "cor"
   ]
  },
  {
   "cell_type": "markdown",
   "id": "b300d5ba",
   "metadata": {},
   "source": [
    "we can observe the relation between target and independent variable this method contains both positive and negative corelation\n",
    "        1. there is no highly positive corelation between the target and independent variable\n",
    "        2. the column SibSp,Parch,Fare,Cabin have positive corelation with survived column\n",
    "        3. the column Pclass,Sex,Age,Ticket,Embarked have negative corelation with survived column\n",
    "        4. the column fare and cabin,ticket and pclass,parch and sibsp and many more columns are positive corelation with each other\n",
    "    "
   ]
  },
  {
   "cell_type": "code",
   "execution_count": 75,
   "id": "75bebaeb",
   "metadata": {},
   "outputs": [
    {
     "data": {
      "text/plain": [
       "Survived    1.000000\n",
       "Fare        0.334643\n",
       "Cabin       0.192695\n",
       "Parch       0.139079\n",
       "SibSp       0.073373\n",
       "Age        -0.039653\n",
       "Embarked   -0.149618\n",
       "Ticket     -0.172513\n",
       "Pclass     -0.331459\n",
       "Sex        -0.542214\n",
       "Name: Survived, dtype: float64"
      ]
     },
     "execution_count": 75,
     "metadata": {},
     "output_type": "execute_result"
    }
   ],
   "source": [
    "cor['Survived'].sort_values(ascending=False)"
   ]
  },
  {
   "cell_type": "markdown",
   "id": "56c494a0",
   "metadata": {},
   "source": [
    "we can observe the positive and negative corelation with target"
   ]
  },
  {
   "cell_type": "markdown",
   "id": "89fcfc09",
   "metadata": {},
   "source": [
    "# Seperating Target And Independent Variable"
   ]
  },
  {
   "cell_type": "code",
   "execution_count": 76,
   "id": "c030753c",
   "metadata": {},
   "outputs": [],
   "source": [
    "x=df1.iloc[:,1:]\n",
    "y=df1.iloc[:,0:1]"
   ]
  },
  {
   "cell_type": "code",
   "execution_count": 77,
   "id": "76fb8b46",
   "metadata": {},
   "outputs": [
    {
     "data": {
      "text/html": [
       "<div>\n",
       "<style scoped>\n",
       "    .dataframe tbody tr th:only-of-type {\n",
       "        vertical-align: middle;\n",
       "    }\n",
       "\n",
       "    .dataframe tbody tr th {\n",
       "        vertical-align: top;\n",
       "    }\n",
       "\n",
       "    .dataframe thead th {\n",
       "        text-align: right;\n",
       "    }\n",
       "</style>\n",
       "<table border=\"1\" class=\"dataframe\">\n",
       "  <thead>\n",
       "    <tr style=\"text-align: right;\">\n",
       "      <th></th>\n",
       "      <th>Pclass</th>\n",
       "      <th>Sex</th>\n",
       "      <th>Age</th>\n",
       "      <th>SibSp</th>\n",
       "      <th>Parch</th>\n",
       "      <th>Ticket</th>\n",
       "      <th>Fare</th>\n",
       "      <th>Cabin</th>\n",
       "      <th>Embarked</th>\n",
       "    </tr>\n",
       "  </thead>\n",
       "  <tbody>\n",
       "    <tr>\n",
       "      <th>0</th>\n",
       "      <td>1.44225</td>\n",
       "      <td>1.0</td>\n",
       "      <td>22.0</td>\n",
       "      <td>1.0</td>\n",
       "      <td>0.0</td>\n",
       "      <td>523.0</td>\n",
       "      <td>1.935438</td>\n",
       "      <td>47.0</td>\n",
       "      <td>2.0</td>\n",
       "    </tr>\n",
       "    <tr>\n",
       "      <th>1</th>\n",
       "      <td>1.00000</td>\n",
       "      <td>0.0</td>\n",
       "      <td>38.0</td>\n",
       "      <td>1.0</td>\n",
       "      <td>0.0</td>\n",
       "      <td>596.0</td>\n",
       "      <td>4.146318</td>\n",
       "      <td>81.0</td>\n",
       "      <td>0.0</td>\n",
       "    </tr>\n",
       "    <tr>\n",
       "      <th>2</th>\n",
       "      <td>1.44225</td>\n",
       "      <td>0.0</td>\n",
       "      <td>26.0</td>\n",
       "      <td>0.0</td>\n",
       "      <td>0.0</td>\n",
       "      <td>669.0</td>\n",
       "      <td>1.993730</td>\n",
       "      <td>47.0</td>\n",
       "      <td>2.0</td>\n",
       "    </tr>\n",
       "    <tr>\n",
       "      <th>3</th>\n",
       "      <td>1.00000</td>\n",
       "      <td>0.0</td>\n",
       "      <td>35.0</td>\n",
       "      <td>1.0</td>\n",
       "      <td>0.0</td>\n",
       "      <td>49.0</td>\n",
       "      <td>3.758647</td>\n",
       "      <td>55.0</td>\n",
       "      <td>2.0</td>\n",
       "    </tr>\n",
       "    <tr>\n",
       "      <th>4</th>\n",
       "      <td>1.44225</td>\n",
       "      <td>1.0</td>\n",
       "      <td>35.0</td>\n",
       "      <td>0.0</td>\n",
       "      <td>0.0</td>\n",
       "      <td>472.0</td>\n",
       "      <td>2.004158</td>\n",
       "      <td>47.0</td>\n",
       "      <td>2.0</td>\n",
       "    </tr>\n",
       "  </tbody>\n",
       "</table>\n",
       "</div>"
      ],
      "text/plain": [
       "    Pclass  Sex   Age  SibSp  Parch  Ticket      Fare  Cabin  Embarked\n",
       "0  1.44225  1.0  22.0    1.0    0.0   523.0  1.935438   47.0       2.0\n",
       "1  1.00000  0.0  38.0    1.0    0.0   596.0  4.146318   81.0       0.0\n",
       "2  1.44225  0.0  26.0    0.0    0.0   669.0  1.993730   47.0       2.0\n",
       "3  1.00000  0.0  35.0    1.0    0.0    49.0  3.758647   55.0       2.0\n",
       "4  1.44225  1.0  35.0    0.0    0.0   472.0  2.004158   47.0       2.0"
      ]
     },
     "execution_count": 77,
     "metadata": {},
     "output_type": "execute_result"
    }
   ],
   "source": [
    "x.head()"
   ]
  },
  {
   "cell_type": "markdown",
   "id": "d083d364",
   "metadata": {},
   "source": [
    "y.head()"
   ]
  },
  {
   "cell_type": "markdown",
   "id": "884a47e3",
   "metadata": {},
   "source": [
    "# feature scaling using standard scalarization"
   ]
  },
  {
   "cell_type": "code",
   "execution_count": 78,
   "id": "1549be60",
   "metadata": {},
   "outputs": [
    {
     "data": {
      "text/html": [
       "<div>\n",
       "<style scoped>\n",
       "    .dataframe tbody tr th:only-of-type {\n",
       "        vertical-align: middle;\n",
       "    }\n",
       "\n",
       "    .dataframe tbody tr th {\n",
       "        vertical-align: top;\n",
       "    }\n",
       "\n",
       "    .dataframe thead th {\n",
       "        text-align: right;\n",
       "    }\n",
       "</style>\n",
       "<table border=\"1\" class=\"dataframe\">\n",
       "  <thead>\n",
       "    <tr style=\"text-align: right;\">\n",
       "      <th></th>\n",
       "      <th>0</th>\n",
       "      <th>1</th>\n",
       "      <th>2</th>\n",
       "      <th>3</th>\n",
       "      <th>4</th>\n",
       "      <th>5</th>\n",
       "      <th>6</th>\n",
       "      <th>7</th>\n",
       "      <th>8</th>\n",
       "    </tr>\n",
       "  </thead>\n",
       "  <tbody>\n",
       "    <tr>\n",
       "      <th>0</th>\n",
       "      <td>1.000000</td>\n",
       "      <td>1.0</td>\n",
       "      <td>0.329064</td>\n",
       "      <td>0.584804</td>\n",
       "      <td>0.000000</td>\n",
       "      <td>0.769118</td>\n",
       "      <td>0.324845</td>\n",
       "      <td>0.379032</td>\n",
       "      <td>1.0</td>\n",
       "    </tr>\n",
       "    <tr>\n",
       "      <th>1</th>\n",
       "      <td>0.000000</td>\n",
       "      <td>0.0</td>\n",
       "      <td>0.573041</td>\n",
       "      <td>0.584804</td>\n",
       "      <td>0.000000</td>\n",
       "      <td>0.876471</td>\n",
       "      <td>0.695920</td>\n",
       "      <td>0.653226</td>\n",
       "      <td>0.0</td>\n",
       "    </tr>\n",
       "    <tr>\n",
       "      <th>2</th>\n",
       "      <td>1.000000</td>\n",
       "      <td>0.0</td>\n",
       "      <td>0.390058</td>\n",
       "      <td>0.000000</td>\n",
       "      <td>0.000000</td>\n",
       "      <td>0.983824</td>\n",
       "      <td>0.334629</td>\n",
       "      <td>0.379032</td>\n",
       "      <td>1.0</td>\n",
       "    </tr>\n",
       "    <tr>\n",
       "      <th>3</th>\n",
       "      <td>0.000000</td>\n",
       "      <td>0.0</td>\n",
       "      <td>0.527295</td>\n",
       "      <td>0.584804</td>\n",
       "      <td>0.000000</td>\n",
       "      <td>0.072059</td>\n",
       "      <td>0.630853</td>\n",
       "      <td>0.443548</td>\n",
       "      <td>1.0</td>\n",
       "    </tr>\n",
       "    <tr>\n",
       "      <th>4</th>\n",
       "      <td>1.000000</td>\n",
       "      <td>1.0</td>\n",
       "      <td>0.527295</td>\n",
       "      <td>0.000000</td>\n",
       "      <td>0.000000</td>\n",
       "      <td>0.694118</td>\n",
       "      <td>0.336379</td>\n",
       "      <td>0.379032</td>\n",
       "      <td>1.0</td>\n",
       "    </tr>\n",
       "    <tr>\n",
       "      <th>...</th>\n",
       "      <td>...</td>\n",
       "      <td>...</td>\n",
       "      <td>...</td>\n",
       "      <td>...</td>\n",
       "      <td>...</td>\n",
       "      <td>...</td>\n",
       "      <td>...</td>\n",
       "      <td>...</td>\n",
       "      <td>...</td>\n",
       "    </tr>\n",
       "    <tr>\n",
       "      <th>821</th>\n",
       "      <td>0.587725</td>\n",
       "      <td>1.0</td>\n",
       "      <td>0.405306</td>\n",
       "      <td>0.000000</td>\n",
       "      <td>0.000000</td>\n",
       "      <td>0.148529</td>\n",
       "      <td>0.394649</td>\n",
       "      <td>0.379032</td>\n",
       "      <td>1.0</td>\n",
       "    </tr>\n",
       "    <tr>\n",
       "      <th>822</th>\n",
       "      <td>0.000000</td>\n",
       "      <td>0.0</td>\n",
       "      <td>0.283318</td>\n",
       "      <td>0.000000</td>\n",
       "      <td>0.000000</td>\n",
       "      <td>0.020588</td>\n",
       "      <td>0.521519</td>\n",
       "      <td>0.241935</td>\n",
       "      <td>1.0</td>\n",
       "    </tr>\n",
       "    <tr>\n",
       "      <th>823</th>\n",
       "      <td>1.000000</td>\n",
       "      <td>0.0</td>\n",
       "      <td>0.446464</td>\n",
       "      <td>0.584804</td>\n",
       "      <td>0.736806</td>\n",
       "      <td>0.992647</td>\n",
       "      <td>0.480409</td>\n",
       "      <td>0.379032</td>\n",
       "      <td>1.0</td>\n",
       "    </tr>\n",
       "    <tr>\n",
       "      <th>824</th>\n",
       "      <td>0.000000</td>\n",
       "      <td>1.0</td>\n",
       "      <td>0.390058</td>\n",
       "      <td>0.000000</td>\n",
       "      <td>0.000000</td>\n",
       "      <td>0.011765</td>\n",
       "      <td>0.521519</td>\n",
       "      <td>0.483871</td>\n",
       "      <td>0.0</td>\n",
       "    </tr>\n",
       "    <tr>\n",
       "      <th>825</th>\n",
       "      <td>1.000000</td>\n",
       "      <td>1.0</td>\n",
       "      <td>0.481549</td>\n",
       "      <td>0.000000</td>\n",
       "      <td>0.000000</td>\n",
       "      <td>0.685294</td>\n",
       "      <td>0.332147</td>\n",
       "      <td>0.379032</td>\n",
       "      <td>0.5</td>\n",
       "    </tr>\n",
       "  </tbody>\n",
       "</table>\n",
       "<p>826 rows × 9 columns</p>\n",
       "</div>"
      ],
      "text/plain": [
       "            0    1         2         3         4         5         6  \\\n",
       "0    1.000000  1.0  0.329064  0.584804  0.000000  0.769118  0.324845   \n",
       "1    0.000000  0.0  0.573041  0.584804  0.000000  0.876471  0.695920   \n",
       "2    1.000000  0.0  0.390058  0.000000  0.000000  0.983824  0.334629   \n",
       "3    0.000000  0.0  0.527295  0.584804  0.000000  0.072059  0.630853   \n",
       "4    1.000000  1.0  0.527295  0.000000  0.000000  0.694118  0.336379   \n",
       "..        ...  ...       ...       ...       ...       ...       ...   \n",
       "821  0.587725  1.0  0.405306  0.000000  0.000000  0.148529  0.394649   \n",
       "822  0.000000  0.0  0.283318  0.000000  0.000000  0.020588  0.521519   \n",
       "823  1.000000  0.0  0.446464  0.584804  0.736806  0.992647  0.480409   \n",
       "824  0.000000  1.0  0.390058  0.000000  0.000000  0.011765  0.521519   \n",
       "825  1.000000  1.0  0.481549  0.000000  0.000000  0.685294  0.332147   \n",
       "\n",
       "            7    8  \n",
       "0    0.379032  1.0  \n",
       "1    0.653226  0.0  \n",
       "2    0.379032  1.0  \n",
       "3    0.443548  1.0  \n",
       "4    0.379032  1.0  \n",
       "..        ...  ...  \n",
       "821  0.379032  1.0  \n",
       "822  0.241935  1.0  \n",
       "823  0.379032  1.0  \n",
       "824  0.483871  0.0  \n",
       "825  0.379032  0.5  \n",
       "\n",
       "[826 rows x 9 columns]"
      ]
     },
     "execution_count": 78,
     "metadata": {},
     "output_type": "execute_result"
    }
   ],
   "source": [
    "from sklearn.preprocessing import MinMaxScaler\n",
    "st = MinMaxScaler()\n",
    "x = st.fit_transform(x)\n",
    "x = pd.DataFrame(x)\n",
    "x"
   ]
  },
  {
   "cell_type": "markdown",
   "id": "0f191210",
   "metadata": {},
   "source": [
    "now our data has been standard and refined"
   ]
  },
  {
   "cell_type": "markdown",
   "id": "9324ea03",
   "metadata": {},
   "source": [
    "# checking variance inflation factor(VIF)"
   ]
  },
  {
   "cell_type": "code",
   "execution_count": 79,
   "id": "e292799b",
   "metadata": {},
   "outputs": [],
   "source": [
    "import statsmodels.api as sm\n",
    "from scipy import stats\n",
    "from statsmodels.stats.outliers_influence import variance_inflation_factor"
   ]
  },
  {
   "cell_type": "code",
   "execution_count": 80,
   "id": "42e33652",
   "metadata": {},
   "outputs": [
    {
     "data": {
      "text/html": [
       "<div>\n",
       "<style scoped>\n",
       "    .dataframe tbody tr th:only-of-type {\n",
       "        vertical-align: middle;\n",
       "    }\n",
       "\n",
       "    .dataframe tbody tr th {\n",
       "        vertical-align: top;\n",
       "    }\n",
       "\n",
       "    .dataframe thead th {\n",
       "        text-align: right;\n",
       "    }\n",
       "</style>\n",
       "<table border=\"1\" class=\"dataframe\">\n",
       "  <thead>\n",
       "    <tr style=\"text-align: right;\">\n",
       "      <th></th>\n",
       "      <th>Survived</th>\n",
       "      <th>Pclass</th>\n",
       "      <th>Sex</th>\n",
       "      <th>Age</th>\n",
       "      <th>SibSp</th>\n",
       "      <th>Parch</th>\n",
       "      <th>Ticket</th>\n",
       "      <th>Fare</th>\n",
       "      <th>Cabin</th>\n",
       "      <th>Embarked</th>\n",
       "    </tr>\n",
       "  </thead>\n",
       "  <tbody>\n",
       "    <tr>\n",
       "      <th>0</th>\n",
       "      <td>0</td>\n",
       "      <td>1.442250</td>\n",
       "      <td>1.0</td>\n",
       "      <td>22.000000</td>\n",
       "      <td>1.0</td>\n",
       "      <td>0.000000</td>\n",
       "      <td>523.0</td>\n",
       "      <td>1.935438</td>\n",
       "      <td>47.0</td>\n",
       "      <td>2.0</td>\n",
       "    </tr>\n",
       "    <tr>\n",
       "      <th>1</th>\n",
       "      <td>1</td>\n",
       "      <td>1.000000</td>\n",
       "      <td>0.0</td>\n",
       "      <td>38.000000</td>\n",
       "      <td>1.0</td>\n",
       "      <td>0.000000</td>\n",
       "      <td>596.0</td>\n",
       "      <td>4.146318</td>\n",
       "      <td>81.0</td>\n",
       "      <td>0.0</td>\n",
       "    </tr>\n",
       "    <tr>\n",
       "      <th>2</th>\n",
       "      <td>1</td>\n",
       "      <td>1.442250</td>\n",
       "      <td>0.0</td>\n",
       "      <td>26.000000</td>\n",
       "      <td>0.0</td>\n",
       "      <td>0.000000</td>\n",
       "      <td>669.0</td>\n",
       "      <td>1.993730</td>\n",
       "      <td>47.0</td>\n",
       "      <td>2.0</td>\n",
       "    </tr>\n",
       "    <tr>\n",
       "      <th>3</th>\n",
       "      <td>1</td>\n",
       "      <td>1.000000</td>\n",
       "      <td>0.0</td>\n",
       "      <td>35.000000</td>\n",
       "      <td>1.0</td>\n",
       "      <td>0.000000</td>\n",
       "      <td>49.0</td>\n",
       "      <td>3.758647</td>\n",
       "      <td>55.0</td>\n",
       "      <td>2.0</td>\n",
       "    </tr>\n",
       "    <tr>\n",
       "      <th>4</th>\n",
       "      <td>0</td>\n",
       "      <td>1.442250</td>\n",
       "      <td>1.0</td>\n",
       "      <td>35.000000</td>\n",
       "      <td>0.0</td>\n",
       "      <td>0.000000</td>\n",
       "      <td>472.0</td>\n",
       "      <td>2.004158</td>\n",
       "      <td>47.0</td>\n",
       "      <td>2.0</td>\n",
       "    </tr>\n",
       "    <tr>\n",
       "      <th>...</th>\n",
       "      <td>...</td>\n",
       "      <td>...</td>\n",
       "      <td>...</td>\n",
       "      <td>...</td>\n",
       "      <td>...</td>\n",
       "      <td>...</td>\n",
       "      <td>...</td>\n",
       "      <td>...</td>\n",
       "      <td>...</td>\n",
       "      <td>...</td>\n",
       "    </tr>\n",
       "    <tr>\n",
       "      <th>886</th>\n",
       "      <td>0</td>\n",
       "      <td>1.259921</td>\n",
       "      <td>1.0</td>\n",
       "      <td>27.000000</td>\n",
       "      <td>0.0</td>\n",
       "      <td>0.000000</td>\n",
       "      <td>101.0</td>\n",
       "      <td>2.351335</td>\n",
       "      <td>47.0</td>\n",
       "      <td>2.0</td>\n",
       "    </tr>\n",
       "    <tr>\n",
       "      <th>887</th>\n",
       "      <td>1</td>\n",
       "      <td>1.000000</td>\n",
       "      <td>0.0</td>\n",
       "      <td>19.000000</td>\n",
       "      <td>0.0</td>\n",
       "      <td>0.000000</td>\n",
       "      <td>14.0</td>\n",
       "      <td>3.107233</td>\n",
       "      <td>30.0</td>\n",
       "      <td>2.0</td>\n",
       "    </tr>\n",
       "    <tr>\n",
       "      <th>888</th>\n",
       "      <td>0</td>\n",
       "      <td>1.442250</td>\n",
       "      <td>0.0</td>\n",
       "      <td>29.699118</td>\n",
       "      <td>1.0</td>\n",
       "      <td>1.259921</td>\n",
       "      <td>675.0</td>\n",
       "      <td>2.862294</td>\n",
       "      <td>47.0</td>\n",
       "      <td>2.0</td>\n",
       "    </tr>\n",
       "    <tr>\n",
       "      <th>889</th>\n",
       "      <td>1</td>\n",
       "      <td>1.000000</td>\n",
       "      <td>1.0</td>\n",
       "      <td>26.000000</td>\n",
       "      <td>0.0</td>\n",
       "      <td>0.000000</td>\n",
       "      <td>8.0</td>\n",
       "      <td>3.107233</td>\n",
       "      <td>60.0</td>\n",
       "      <td>0.0</td>\n",
       "    </tr>\n",
       "    <tr>\n",
       "      <th>890</th>\n",
       "      <td>0</td>\n",
       "      <td>1.442250</td>\n",
       "      <td>1.0</td>\n",
       "      <td>32.000000</td>\n",
       "      <td>0.0</td>\n",
       "      <td>0.000000</td>\n",
       "      <td>466.0</td>\n",
       "      <td>1.978946</td>\n",
       "      <td>47.0</td>\n",
       "      <td>1.0</td>\n",
       "    </tr>\n",
       "  </tbody>\n",
       "</table>\n",
       "<p>826 rows × 10 columns</p>\n",
       "</div>"
      ],
      "text/plain": [
       "     Survived    Pclass  Sex        Age  SibSp     Parch  Ticket      Fare  \\\n",
       "0           0  1.442250  1.0  22.000000    1.0  0.000000   523.0  1.935438   \n",
       "1           1  1.000000  0.0  38.000000    1.0  0.000000   596.0  4.146318   \n",
       "2           1  1.442250  0.0  26.000000    0.0  0.000000   669.0  1.993730   \n",
       "3           1  1.000000  0.0  35.000000    1.0  0.000000    49.0  3.758647   \n",
       "4           0  1.442250  1.0  35.000000    0.0  0.000000   472.0  2.004158   \n",
       "..        ...       ...  ...        ...    ...       ...     ...       ...   \n",
       "886         0  1.259921  1.0  27.000000    0.0  0.000000   101.0  2.351335   \n",
       "887         1  1.000000  0.0  19.000000    0.0  0.000000    14.0  3.107233   \n",
       "888         0  1.442250  0.0  29.699118    1.0  1.259921   675.0  2.862294   \n",
       "889         1  1.000000  1.0  26.000000    0.0  0.000000     8.0  3.107233   \n",
       "890         0  1.442250  1.0  32.000000    0.0  0.000000   466.0  1.978946   \n",
       "\n",
       "     Cabin  Embarked  \n",
       "0     47.0       2.0  \n",
       "1     81.0       0.0  \n",
       "2     47.0       2.0  \n",
       "3     55.0       2.0  \n",
       "4     47.0       2.0  \n",
       "..     ...       ...  \n",
       "886   47.0       2.0  \n",
       "887   30.0       2.0  \n",
       "888   47.0       2.0  \n",
       "889   60.0       0.0  \n",
       "890   47.0       1.0  \n",
       "\n",
       "[826 rows x 10 columns]"
      ]
     },
     "execution_count": 80,
     "metadata": {},
     "output_type": "execute_result"
    }
   ],
   "source": [
    "df1"
   ]
  },
  {
   "cell_type": "code",
   "execution_count": 81,
   "id": "9fefa519",
   "metadata": {},
   "outputs": [
    {
     "data": {
      "text/plain": [
       "9"
      ]
     },
     "execution_count": 81,
     "metadata": {},
     "output_type": "execute_result"
    }
   ],
   "source": [
    "x.shape[1]"
   ]
  },
  {
   "cell_type": "code",
   "execution_count": 82,
   "id": "b4a6efda",
   "metadata": {},
   "outputs": [
    {
     "data": {
      "text/html": [
       "<div>\n",
       "<style scoped>\n",
       "    .dataframe tbody tr th:only-of-type {\n",
       "        vertical-align: middle;\n",
       "    }\n",
       "\n",
       "    .dataframe tbody tr th {\n",
       "        vertical-align: top;\n",
       "    }\n",
       "\n",
       "    .dataframe thead th {\n",
       "        text-align: right;\n",
       "    }\n",
       "</style>\n",
       "<table border=\"1\" class=\"dataframe\">\n",
       "  <thead>\n",
       "    <tr style=\"text-align: right;\">\n",
       "      <th></th>\n",
       "      <th>VIF values</th>\n",
       "      <th>features</th>\n",
       "    </tr>\n",
       "  </thead>\n",
       "  <tbody>\n",
       "    <tr>\n",
       "      <th>0</th>\n",
       "      <td>4.773443</td>\n",
       "      <td>0</td>\n",
       "    </tr>\n",
       "    <tr>\n",
       "      <th>1</th>\n",
       "      <td>3.100198</td>\n",
       "      <td>1</td>\n",
       "    </tr>\n",
       "    <tr>\n",
       "      <th>2</th>\n",
       "      <td>6.809134</td>\n",
       "      <td>2</td>\n",
       "    </tr>\n",
       "    <tr>\n",
       "      <th>3</th>\n",
       "      <td>1.946460</td>\n",
       "      <td>3</td>\n",
       "    </tr>\n",
       "    <tr>\n",
       "      <th>4</th>\n",
       "      <td>1.811301</td>\n",
       "      <td>4</td>\n",
       "    </tr>\n",
       "    <tr>\n",
       "      <th>5</th>\n",
       "      <td>4.555881</td>\n",
       "      <td>5</td>\n",
       "    </tr>\n",
       "    <tr>\n",
       "      <th>6</th>\n",
       "      <td>11.203730</td>\n",
       "      <td>6</td>\n",
       "    </tr>\n",
       "    <tr>\n",
       "      <th>7</th>\n",
       "      <td>9.540864</td>\n",
       "      <td>7</td>\n",
       "    </tr>\n",
       "    <tr>\n",
       "      <th>8</th>\n",
       "      <td>4.814279</td>\n",
       "      <td>8</td>\n",
       "    </tr>\n",
       "  </tbody>\n",
       "</table>\n",
       "</div>"
      ],
      "text/plain": [
       "   VIF values  features\n",
       "0    4.773443         0\n",
       "1    3.100198         1\n",
       "2    6.809134         2\n",
       "3    1.946460         3\n",
       "4    1.811301         4\n",
       "5    4.555881         5\n",
       "6   11.203730         6\n",
       "7    9.540864         7\n",
       "8    4.814279         8"
      ]
     },
     "execution_count": 82,
     "metadata": {},
     "output_type": "execute_result"
    }
   ],
   "source": [
    "vif=pd.DataFrame()\n",
    "vif[\"VIF values\"]= [variance_inflation_factor(x.values, i)\n",
    "              for i in range(len(x.columns))]\n",
    "vif[\"features\"] = x.columns      \n",
    "\n",
    "vif"
   ]
  },
  {
   "cell_type": "code",
   "execution_count": 83,
   "id": "d8fa8a63",
   "metadata": {},
   "outputs": [],
   "source": [
    "x = x.drop([6], axis=1)"
   ]
  },
  {
   "cell_type": "markdown",
   "id": "b6d3c691",
   "metadata": {},
   "source": [
    "Here i am remove the Ticket column because the VIF of this column is very high"
   ]
  },
  {
   "cell_type": "code",
   "execution_count": 84,
   "id": "fd280961",
   "metadata": {},
   "outputs": [
    {
     "data": {
      "text/html": [
       "<div>\n",
       "<style scoped>\n",
       "    .dataframe tbody tr th:only-of-type {\n",
       "        vertical-align: middle;\n",
       "    }\n",
       "\n",
       "    .dataframe tbody tr th {\n",
       "        vertical-align: top;\n",
       "    }\n",
       "\n",
       "    .dataframe thead th {\n",
       "        text-align: right;\n",
       "    }\n",
       "</style>\n",
       "<table border=\"1\" class=\"dataframe\">\n",
       "  <thead>\n",
       "    <tr style=\"text-align: right;\">\n",
       "      <th></th>\n",
       "      <th>VIF values</th>\n",
       "      <th>features</th>\n",
       "    </tr>\n",
       "  </thead>\n",
       "  <tbody>\n",
       "    <tr>\n",
       "      <th>0</th>\n",
       "      <td>4.366968</td>\n",
       "      <td>0</td>\n",
       "    </tr>\n",
       "    <tr>\n",
       "      <th>1</th>\n",
       "      <td>3.083590</td>\n",
       "      <td>1</td>\n",
       "    </tr>\n",
       "    <tr>\n",
       "      <th>2</th>\n",
       "      <td>5.552652</td>\n",
       "      <td>2</td>\n",
       "    </tr>\n",
       "    <tr>\n",
       "      <th>3</th>\n",
       "      <td>1.733872</td>\n",
       "      <td>3</td>\n",
       "    </tr>\n",
       "    <tr>\n",
       "      <th>4</th>\n",
       "      <td>1.621601</td>\n",
       "      <td>4</td>\n",
       "    </tr>\n",
       "    <tr>\n",
       "      <th>5</th>\n",
       "      <td>4.433610</td>\n",
       "      <td>5</td>\n",
       "    </tr>\n",
       "    <tr>\n",
       "      <th>6</th>\n",
       "      <td>7.144910</td>\n",
       "      <td>7</td>\n",
       "    </tr>\n",
       "    <tr>\n",
       "      <th>7</th>\n",
       "      <td>4.750683</td>\n",
       "      <td>8</td>\n",
       "    </tr>\n",
       "  </tbody>\n",
       "</table>\n",
       "</div>"
      ],
      "text/plain": [
       "   VIF values  features\n",
       "0    4.366968         0\n",
       "1    3.083590         1\n",
       "2    5.552652         2\n",
       "3    1.733872         3\n",
       "4    1.621601         4\n",
       "5    4.433610         5\n",
       "6    7.144910         7\n",
       "7    4.750683         8"
      ]
     },
     "execution_count": 84,
     "metadata": {},
     "output_type": "execute_result"
    }
   ],
   "source": [
    "vif=pd.DataFrame()\n",
    "vif[\"VIF values\"]= [variance_inflation_factor(x.values, i)\n",
    "              for i in range(len(x.columns))]\n",
    "vif[\"features\"] = x.columns      \n",
    "\n",
    "vif"
   ]
  },
  {
   "cell_type": "markdown",
   "id": "0e8ca6aa",
   "metadata": {},
   "source": [
    "Now here the VIF values of those columns have been acceptable"
   ]
  },
  {
   "cell_type": "code",
   "execution_count": 85,
   "id": "f22ba2fc",
   "metadata": {},
   "outputs": [
    {
     "data": {
      "text/plain": [
       "Survived\n",
       "0           515\n",
       "1           311\n",
       "dtype: int64"
      ]
     },
     "execution_count": 85,
     "metadata": {},
     "output_type": "execute_result"
    }
   ],
   "source": [
    "y.value_counts()"
   ]
  },
  {
   "cell_type": "markdown",
   "id": "2934d1c9",
   "metadata": {},
   "source": [
    "our data is not balanced we can use over sampling method for balanced the data"
   ]
  },
  {
   "cell_type": "code",
   "execution_count": 86,
   "id": "c9f8fbce",
   "metadata": {},
   "outputs": [
    {
     "data": {
      "text/plain": [
       "'1.21.5'"
      ]
     },
     "execution_count": 86,
     "metadata": {},
     "output_type": "execute_result"
    }
   ],
   "source": [
    "import numpy\n",
    "numpy.__version__"
   ]
  },
  {
   "cell_type": "code",
   "execution_count": 87,
   "id": "e1b7cfd0",
   "metadata": {},
   "outputs": [
    {
     "name": "stdout",
     "output_type": "stream",
     "text": [
      "Requirement already satisfied: imbalanced-learn in c:\\users\\asus\\anaconda3\\lib\\site-packages (0.10.1)\n",
      "Requirement already satisfied: scikit-learn>=1.0.2 in c:\\users\\asus\\anaconda3\\lib\\site-packages (from imbalanced-learn) (1.0.2)\n",
      "Requirement already satisfied: scipy>=1.3.2 in c:\\users\\asus\\anaconda3\\lib\\site-packages (from imbalanced-learn) (1.7.3)\n",
      "Requirement already satisfied: threadpoolctl>=2.0.0 in c:\\users\\asus\\anaconda3\\lib\\site-packages (from imbalanced-learn) (2.2.0)\n",
      "Requirement already satisfied: joblib>=1.1.1 in c:\\users\\asus\\anaconda3\\lib\\site-packages (from imbalanced-learn) (1.2.0)\n",
      "Requirement already satisfied: numpy>=1.17.3 in c:\\users\\asus\\anaconda3\\lib\\site-packages (from imbalanced-learn) (1.21.5)\n"
     ]
    }
   ],
   "source": [
    "!pip install imbalanced-learn"
   ]
  },
  {
   "cell_type": "code",
   "execution_count": 88,
   "id": "9873844a",
   "metadata": {},
   "outputs": [],
   "source": [
    "from imblearn.over_sampling import SMOTE\n",
    "st=SMOTE()\n",
    "x,y=st.fit_resample(x,y)"
   ]
  },
  {
   "cell_type": "code",
   "execution_count": 89,
   "id": "862556e1",
   "metadata": {},
   "outputs": [
    {
     "data": {
      "text/plain": [
       "Survived\n",
       "0           515\n",
       "1           515\n",
       "dtype: int64"
      ]
     },
     "execution_count": 89,
     "metadata": {},
     "output_type": "execute_result"
    }
   ],
   "source": [
    "y.value_counts()"
   ]
  },
  {
   "cell_type": "markdown",
   "id": "a7ccbb2b",
   "metadata": {},
   "source": [
    "# Now we go for data modelling"
   ]
  },
  {
   "cell_type": "markdown",
   "id": "844a086a",
   "metadata": {},
   "source": [
    "# Finding the best random state"
   ]
  },
  {
   "cell_type": "code",
   "execution_count": 90,
   "id": "f111e9b6",
   "metadata": {},
   "outputs": [
    {
     "name": "stdout",
     "output_type": "stream",
     "text": [
      "best accuracy is: 0.889967637540453 at random_state 195\n"
     ]
    }
   ],
   "source": [
    "from sklearn.model_selection import train_test_split\n",
    "from sklearn.ensemble import RandomForestClassifier\n",
    "from sklearn.metrics import accuracy_score\n",
    "maxAccu = 0\n",
    "maxRs = 0\n",
    "for i in range (1,200):\n",
    "    x_train, x_test, y_train, y_test = train_test_split(x, y, test_size = 0.30,random_state = i)\n",
    "    RFR=RandomForestClassifier()\n",
    "    RFR.fit(x_train, y_train)\n",
    "    pred = RFR.predict(x_test)\n",
    "    acc = accuracy_score(y_test, pred)\n",
    "    if acc>maxAccu:\n",
    "        maxAccu = acc\n",
    "        maxRs = i\n",
    "print('best accuracy is:', maxAccu, 'at random_state', maxRs)"
   ]
  },
  {
   "cell_type": "markdown",
   "id": "b191f6a6",
   "metadata": {},
   "source": [
    "# Creating Train Test Split"
   ]
  },
  {
   "cell_type": "code",
   "execution_count": 91,
   "id": "eeecb762",
   "metadata": {},
   "outputs": [],
   "source": [
    "x_train, x_test, y_train, y_test = train_test_split(x, y, test_size = 0.30,random_state = maxRs)"
   ]
  },
  {
   "cell_type": "markdown",
   "id": "605f2955",
   "metadata": {},
   "source": [
    "# Classification Algorithums &  Cross Validation Score"
   ]
  },
  {
   "cell_type": "code",
   "execution_count": 92,
   "id": "e93caeaa",
   "metadata": {},
   "outputs": [],
   "source": [
    "from sklearn.naive_bayes import MultinomialNB,GaussianNB\n",
    "from sklearn.ensemble import RandomForestClassifier,ExtraTreesClassifier\n",
    "from sklearn.svm import SVC\n",
    "from sklearn.tree import DecisionTreeClassifier\n",
    "from sklearn.neighbors import KNeighborsClassifier\n",
    "from sklearn.metrics import classification_report, accuracy_score,confusion_matrix\n",
    "from sklearn.model_selection import cross_val_score\n",
    "from sklearn.linear_model import LogisticRegression\n",
    "import warnings\n",
    "warnings.filterwarnings('ignore')"
   ]
  },
  {
   "cell_type": "code",
   "execution_count": 93,
   "id": "473686e7",
   "metadata": {},
   "outputs": [
    {
     "name": "stdout",
     "output_type": "stream",
     "text": [
      "accuracy score of  LogisticRegression() is\n",
      "0.8025889967637541\n",
      "[[120  30]\n",
      " [ 31 128]]\n",
      "              precision    recall  f1-score   support\n",
      "\n",
      "           0       0.79      0.80      0.80       150\n",
      "           1       0.81      0.81      0.81       159\n",
      "\n",
      "    accuracy                           0.80       309\n",
      "   macro avg       0.80      0.80      0.80       309\n",
      "weighted avg       0.80      0.80      0.80       309\n",
      "\n",
      "[0.75242718 0.7815534  0.76213592 0.76699029 0.81553398]\n",
      "0.7757281553398059\n",
      "difference between and cross validation score is 0.02686084142394818\n",
      "\n",
      "\n",
      "accuracy score of  GaussianNB() is\n",
      "0.7961165048543689\n",
      "[[118  32]\n",
      " [ 31 128]]\n",
      "              precision    recall  f1-score   support\n",
      "\n",
      "           0       0.79      0.79      0.79       150\n",
      "           1       0.80      0.81      0.80       159\n",
      "\n",
      "    accuracy                           0.80       309\n",
      "   macro avg       0.80      0.80      0.80       309\n",
      "weighted avg       0.80      0.80      0.80       309\n",
      "\n",
      "[0.73300971 0.7815534  0.77184466 0.76699029 0.80582524]\n",
      "0.7718446601941749\n",
      "difference between and cross validation score is 0.024271844660194053\n",
      "\n",
      "\n",
      "accuracy score of  MultinomialNB() is\n",
      "0.7766990291262136\n",
      "[[123  27]\n",
      " [ 42 117]]\n",
      "              precision    recall  f1-score   support\n",
      "\n",
      "           0       0.75      0.82      0.78       150\n",
      "           1       0.81      0.74      0.77       159\n",
      "\n",
      "    accuracy                           0.78       309\n",
      "   macro avg       0.78      0.78      0.78       309\n",
      "weighted avg       0.78      0.78      0.78       309\n",
      "\n",
      "[0.72330097 0.76213592 0.72815534 0.73300971 0.77669903]\n",
      "0.7446601941747573\n",
      "difference between and cross validation score is 0.03203883495145632\n",
      "\n",
      "\n",
      "accuracy score of  DecisionTreeClassifier() is\n",
      "0.8284789644012945\n",
      "[[128  22]\n",
      " [ 31 128]]\n",
      "              precision    recall  f1-score   support\n",
      "\n",
      "           0       0.81      0.85      0.83       150\n",
      "           1       0.85      0.81      0.83       159\n",
      "\n",
      "    accuracy                           0.83       309\n",
      "   macro avg       0.83      0.83      0.83       309\n",
      "weighted avg       0.83      0.83      0.83       309\n",
      "\n",
      "[0.75242718 0.7815534  0.82524272 0.80582524 0.7815534 ]\n",
      "0.7893203883495146\n",
      "difference between and cross validation score is 0.03915857605177997\n",
      "\n",
      "\n",
      "accuracy score of  SVC() is\n",
      "0.8090614886731392\n",
      "[[131  19]\n",
      " [ 40 119]]\n",
      "              precision    recall  f1-score   support\n",
      "\n",
      "           0       0.77      0.87      0.82       150\n",
      "           1       0.86      0.75      0.80       159\n",
      "\n",
      "    accuracy                           0.81       309\n",
      "   macro avg       0.81      0.81      0.81       309\n",
      "weighted avg       0.82      0.81      0.81       309\n",
      "\n",
      "[0.77669903 0.81553398 0.80097087 0.82524272 0.82524272]\n",
      "0.8087378640776699\n",
      "difference between and cross validation score is 0.00032362459546930733\n",
      "\n",
      "\n",
      "accuracy score of  KNeighborsClassifier() is\n",
      "0.8155339805825242\n",
      "[[126  24]\n",
      " [ 33 126]]\n",
      "              precision    recall  f1-score   support\n",
      "\n",
      "           0       0.79      0.84      0.82       150\n",
      "           1       0.84      0.79      0.82       159\n",
      "\n",
      "    accuracy                           0.82       309\n",
      "   macro avg       0.82      0.82      0.82       309\n",
      "weighted avg       0.82      0.82      0.82       309\n",
      "\n",
      "[0.74757282 0.7815534  0.78640777 0.85436893 0.81067961]\n",
      "0.7961165048543689\n",
      "difference between and cross validation score is 0.01941747572815533\n",
      "\n",
      "\n",
      "accuracy score of  RandomForestClassifier() is\n",
      "0.8802588996763754\n",
      "[[136  14]\n",
      " [ 23 136]]\n",
      "              precision    recall  f1-score   support\n",
      "\n",
      "           0       0.86      0.91      0.88       150\n",
      "           1       0.91      0.86      0.88       159\n",
      "\n",
      "    accuracy                           0.88       309\n",
      "   macro avg       0.88      0.88      0.88       309\n",
      "weighted avg       0.88      0.88      0.88       309\n",
      "\n",
      "[0.75728155 0.82524272 0.83495146 0.83495146 0.86893204]\n",
      "0.8242718446601941\n",
      "difference between and cross validation score is 0.055987055016181286\n",
      "\n",
      "\n",
      "accuracy score of  ExtraTreesClassifier() is\n",
      "0.8543689320388349\n",
      "[[132  18]\n",
      " [ 27 132]]\n",
      "              precision    recall  f1-score   support\n",
      "\n",
      "           0       0.83      0.88      0.85       150\n",
      "           1       0.88      0.83      0.85       159\n",
      "\n",
      "    accuracy                           0.85       309\n",
      "   macro avg       0.86      0.86      0.85       309\n",
      "weighted avg       0.86      0.85      0.85       309\n",
      "\n",
      "[0.75728155 0.83009709 0.83009709 0.86893204 0.85436893]\n",
      "0.8281553398058252\n",
      "difference between and cross validation score is 0.026213592233009675\n",
      "\n",
      "\n"
     ]
    }
   ],
   "source": [
    "lg=LogisticRegression()\n",
    "gnb=GaussianNB()\n",
    "mnb= MultinomialNB()\n",
    "dtc= DecisionTreeClassifier()\n",
    "svm=SVC()\n",
    "knn=KNeighborsClassifier()\n",
    "RFC=RandomForestClassifier()\n",
    "ETC=ExtraTreesClassifier()\n",
    "model=[lg,gnb,mnb,dtc,svm,knn,RFC,ETC]\n",
    "\n",
    "for M in model:\n",
    "    M.fit(x_train,y_train)\n",
    "    pred=M.predict(x_test)\n",
    "    print('accuracy score of ',M,'is',)\n",
    "    print(accuracy_score(y_test,pred))\n",
    "    print(confusion_matrix(y_test,pred))\n",
    "    print(classification_report(y_test,pred))\n",
    "    score=cross_val_score(M,x,y,cv=5)\n",
    "    print(score)\n",
    "    print(score.mean())\n",
    "    print('difference between and cross validation score is',accuracy_score(y_test,pred) - score.mean())\n",
    "    print(\"\\n\")"
   ]
  },
  {
   "cell_type": "markdown",
   "id": "6de0839e",
   "metadata": {},
   "source": [
    "Random forest classifier give very high accuracy compare to other algorithums with low cross validation score______________________accuracy is 88% and CVS is .05%"
   ]
  },
  {
   "cell_type": "markdown",
   "id": "61bff0d0",
   "metadata": {},
   "source": [
    "# Hyper Parametyer Tuning"
   ]
  },
  {
   "cell_type": "code",
   "execution_count": 94,
   "id": "bc23cb85",
   "metadata": {},
   "outputs": [],
   "source": [
    "from sklearn.model_selection import GridSearchCV"
   ]
  },
  {
   "cell_type": "code",
   "execution_count": 120,
   "id": "9f3ec077",
   "metadata": {},
   "outputs": [],
   "source": [
    "parameters = {'criterion':['gini', 'entropy'],\n",
    "             'n_estimators':[50,75,100,125,150,175,200,225,235,250,275,300,325,350],\n",
    "             'max_depth':[0,5,10,15,20,25,30]}"
   ]
  },
  {
   "cell_type": "code",
   "execution_count": 121,
   "id": "933a3782",
   "metadata": {},
   "outputs": [],
   "source": [
    "GCV=GridSearchCV(RandomForestClassifier(),parameters,cv=5)"
   ]
  },
  {
   "cell_type": "code",
   "execution_count": 123,
   "id": "a53aa0af",
   "metadata": {},
   "outputs": [
    {
     "data": {
      "text/plain": [
       "GridSearchCV(cv=5, estimator=RandomForestClassifier(),\n",
       "             param_grid={'criterion': ['gini', 'entropy'],\n",
       "                         'max_depth': [0, 5, 10, 15, 20, 25, 30],\n",
       "                         'n_estimators': [50, 75, 100, 125, 150, 175, 200, 225,\n",
       "                                          235, 250, 275, 300, 325, 350]})"
      ]
     },
     "execution_count": 123,
     "metadata": {},
     "output_type": "execute_result"
    }
   ],
   "source": [
    "GCV.fit(x_train,y_train)"
   ]
  },
  {
   "cell_type": "code",
   "execution_count": 124,
   "id": "c088731a",
   "metadata": {},
   "outputs": [
    {
     "data": {
      "text/plain": [
       "{'criterion': 'gini', 'max_depth': 10, 'n_estimators': 50}"
      ]
     },
     "execution_count": 124,
     "metadata": {},
     "output_type": "execute_result"
    }
   ],
   "source": [
    "GCV.best_params_"
   ]
  },
  {
   "cell_type": "code",
   "execution_count": 119,
   "id": "15af329f",
   "metadata": {},
   "outputs": [
    {
     "data": {
      "text/plain": [
       "89.32038834951457"
      ]
     },
     "execution_count": 119,
     "metadata": {},
     "output_type": "execute_result"
    }
   ],
   "source": [
    "final= RandomForestClassifier(criterion='entropy', max_depth=15, n_estimators=233)\n",
    "final.fit(x_train,y_train)\n",
    "pred=final.predict(x_test)\n",
    "acc= accuracy_score(y_test,pred)\n",
    "acc*100"
   ]
  },
  {
   "cell_type": "code",
   "execution_count": 134,
   "id": "906900bf",
   "metadata": {},
   "outputs": [
    {
     "data": {
      "text/plain": [
       "87.70226537216828"
      ]
     },
     "execution_count": 134,
     "metadata": {},
     "output_type": "execute_result"
    }
   ],
   "source": [
    "final= RandomForestClassifier(criterion='gini', max_depth=10, n_estimators=50)\n",
    "final.fit(x_train,y_train)\n",
    "pred=final.predict(x_test)\n",
    "acc= accuracy_score(y_test,pred)\n",
    "acc*100"
   ]
  },
  {
   "cell_type": "markdown",
   "id": "6ecf4939",
   "metadata": {},
   "source": [
    "With the help of hyper parameter tuning accuracy of my model have been increased by 1.3% now my new accuracy is 89.32%\n",
    "\n",
    "\n",
    "\n"
   ]
  },
  {
   "cell_type": "markdown",
   "id": "59f0c21a",
   "metadata": {},
   "source": [
    "# Ploting AUC and Compare ROC curve for all the models used"
   ]
  },
  {
   "cell_type": "code",
   "execution_count": 125,
   "id": "55affe07",
   "metadata": {},
   "outputs": [],
   "source": [
    "from sklearn.metrics import roc_curve,auc\n",
    "from sklearn.metrics import roc_auc_score"
   ]
  },
  {
   "cell_type": "code",
   "execution_count": 126,
   "id": "a0b7a1a7",
   "metadata": {},
   "outputs": [],
   "source": [
    "y_pred_prob = final.predict_proba (x_test)[:,1]\n",
    "fpr, tpr, thresholds = roc_curve (y_test,y_pred_prob)\n",
    "roc_auc = auc(fpr,tpr)"
   ]
  },
  {
   "cell_type": "code",
   "execution_count": 127,
   "id": "a6b0203e",
   "metadata": {},
   "outputs": [
    {
     "data": {
      "text/plain": [
       "array([0.        , 0.        , 0.        , 0.        , 0.        ,\n",
       "       0.        , 0.        , 0.        , 0.        , 0.        ,\n",
       "       0.        , 0.        , 0.00666667, 0.00666667, 0.00666667,\n",
       "       0.00666667, 0.00666667, 0.00666667, 0.00666667, 0.00666667,\n",
       "       0.00666667, 0.00666667, 0.01333333, 0.01333333, 0.01333333,\n",
       "       0.01333333, 0.01333333, 0.01333333, 0.01333333, 0.02      ,\n",
       "       0.02      , 0.02666667, 0.02666667, 0.02666667, 0.02666667,\n",
       "       0.03333333, 0.03333333, 0.04      , 0.04      , 0.05333333,\n",
       "       0.05333333, 0.06      , 0.06      , 0.08      , 0.08      ,\n",
       "       0.11333333, 0.11333333, 0.17333333, 0.17333333, 0.19333333,\n",
       "       0.19333333, 0.2       , 0.2       , 0.22666667, 0.22666667,\n",
       "       0.24666667, 0.24666667, 0.26      , 0.26      , 0.29333333,\n",
       "       0.29333333, 0.39333333, 0.39333333, 0.42666667, 0.42666667,\n",
       "       0.44      , 0.44      , 0.44666667, 0.44666667, 0.69333333,\n",
       "       0.70666667, 0.71333333, 0.71333333, 0.72666667, 0.72666667,\n",
       "       0.78666667, 0.78666667, 0.79333333, 0.80666667, 0.83333333,\n",
       "       0.83333333, 0.92      , 0.92      , 0.92666667, 0.95333333,\n",
       "       1.        ])"
      ]
     },
     "execution_count": 127,
     "metadata": {},
     "output_type": "execute_result"
    }
   ],
   "source": [
    "fpr"
   ]
  },
  {
   "cell_type": "code",
   "execution_count": 128,
   "id": "efa0e415",
   "metadata": {},
   "outputs": [
    {
     "data": {
      "text/plain": [
       "array([0.        , 0.00628931, 0.03144654, 0.04402516, 0.06918239,\n",
       "       0.08176101, 0.08805031, 0.10062893, 0.11320755, 0.13207547,\n",
       "       0.14465409, 0.16352201, 0.16352201, 0.18867925, 0.20125786,\n",
       "       0.22641509, 0.23899371, 0.24528302, 0.25786164, 0.26415094,\n",
       "       0.27672956, 0.37735849, 0.37735849, 0.38993711, 0.41509434,\n",
       "       0.42767296, 0.50314465, 0.51572327, 0.54716981, 0.54716981,\n",
       "       0.55345912, 0.55345912, 0.59119497, 0.60377358, 0.63522013,\n",
       "       0.63522013, 0.65408805, 0.65408805, 0.74842767, 0.74842767,\n",
       "       0.76100629, 0.76100629, 0.81761006, 0.81761006, 0.88050314,\n",
       "       0.88050314, 0.88679245, 0.88679245, 0.89308176, 0.89308176,\n",
       "       0.89937107, 0.89937107, 0.91194969, 0.91194969, 0.91823899,\n",
       "       0.91823899, 0.9245283 , 0.9245283 , 0.93081761, 0.93081761,\n",
       "       0.94339623, 0.94339623, 0.94968553, 0.94968553, 0.95597484,\n",
       "       0.95597484, 0.96226415, 0.96226415, 0.96855346, 0.96855346,\n",
       "       0.96855346, 0.96855346, 0.97484277, 0.97484277, 0.98113208,\n",
       "       0.98113208, 0.98742138, 0.98742138, 0.98742138, 0.98742138,\n",
       "       0.99371069, 0.99371069, 1.        , 1.        , 1.        ,\n",
       "       1.        ])"
      ]
     },
     "execution_count": 128,
     "metadata": {},
     "output_type": "execute_result"
    }
   ],
   "source": [
    "tpr"
   ]
  },
  {
   "cell_type": "code",
   "execution_count": 129,
   "id": "4ce5209e",
   "metadata": {},
   "outputs": [
    {
     "data": {
      "text/plain": [
       "array([2.        , 1.        , 0.99141631, 0.99137565, 0.98654448,\n",
       "       0.98283262, 0.98145745, 0.97854077, 0.9745458 , 0.97424893,\n",
       "       0.97299298, 0.96995708, 0.96852647, 0.96596211, 0.96566524,\n",
       "       0.95341058, 0.9527897 , 0.95172971, 0.94849785, 0.94509477,\n",
       "       0.94420601, 0.91451537, 0.91445997, 0.91416309, 0.90617902,\n",
       "       0.9055794 , 0.86266094, 0.8583691 , 0.84549356, 0.83431037,\n",
       "       0.82832618, 0.82403433, 0.80748879, 0.80686695, 0.77682403,\n",
       "       0.76102522, 0.74661381, 0.72700696, 0.63688568, 0.6204894 ,\n",
       "       0.60510689, 0.60023708, 0.55793991, 0.53301098, 0.4893348 ,\n",
       "       0.47515362, 0.47510036, 0.3928014 , 0.36906766, 0.35193133,\n",
       "       0.3499015 , 0.34765326, 0.33969096, 0.30636473, 0.30476848,\n",
       "       0.29628882, 0.29416194, 0.27355406, 0.27261689, 0.24611567,\n",
       "       0.2403597 , 0.19939186, 0.19833538, 0.17360146, 0.17359039,\n",
       "       0.17105445, 0.16916645, 0.16559371, 0.15566904, 0.08378601,\n",
       "       0.08302595, 0.08031388, 0.07725322, 0.07513359, 0.07492958,\n",
       "       0.0666823 , 0.06469623, 0.0627459 , 0.06271628, 0.06027184,\n",
       "       0.05843184, 0.03024052, 0.03004292, 0.02788817, 0.02519587,\n",
       "       0.0139485 ])"
      ]
     },
     "execution_count": 129,
     "metadata": {},
     "output_type": "execute_result"
    }
   ],
   "source": [
    "thresholds"
   ]
  },
  {
   "cell_type": "code",
   "execution_count": 130,
   "id": "ae29364b",
   "metadata": {},
   "outputs": [
    {
     "data": {
      "image/png": "[encoded data removed]",
      "text/plain": [
       "<Figure size 432x288 with 1 Axes>"
      ]
     },
     "metadata": {
      "needs_background": "light"
     },
     "output_type": "display_data"
    }
   ],
   "source": [
    "plt.plot([0,1],[0,1],'k--')\n",
    "plt.plot(fpr,tpr,label='Random Forest Classifier(area=%0.2f)'%roc_auc)\n",
    "plt.xlabel('False positive rate')\n",
    "plt.ylabel('True positive rate')\n",
    "plt.title('Random Forest Classifier')\n",
    "plt.show()\n"
   ]
  },
  {
   "cell_type": "code",
   "execution_count": 131,
   "id": "373b1edb",
   "metadata": {},
   "outputs": [
    {
     "name": "stdout",
     "output_type": "stream",
     "text": [
      "Auc score: 0.8939622641509434\n"
     ]
    }
   ],
   "source": [
    "auc_score=roc_auc_score(y_test,final.predict(x_test))\n",
    "print('Auc score:',auc_score)"
   ]
  },
  {
   "cell_type": "markdown",
   "id": "f6da7865",
   "metadata": {},
   "source": [
    "Now my AUC score is very good means my model is working very well"
   ]
  },
  {
   "cell_type": "code",
   "execution_count": 132,
   "id": "d9c14852",
   "metadata": {},
   "outputs": [
    {
     "data": {
      "image/png": "[encoded data removed]",
      "text/plain": [
       "<Figure size 432x288 with 1 Axes>"
      ]
     },
     "metadata": {
      "needs_background": "light"
     },
     "output_type": "display_data"
    }
   ],
   "source": [
    "fpr, tpr, thresholds = roc_curve (y_test,pred)\n",
    "roc_auc = auc(fpr,tpr)\n",
    "\n",
    "plt.figure()\n",
    "plt.plot(fpr,tpr,lw=10,label='ROC curve(area=%0.2f)'%roc_auc)\n",
    "\n",
    "plt.plot([0,1],[0,1],lw=5,linestyle='--')\n",
    "#plt.xlim([0.0,1.0])\n",
    "#plt.ylim([0.0,1.05])\n",
    "plt.xlabel('FPR')\n",
    "plt.ylabel('TPR')\n",
    "plt.title('ROC')\n",
    "plt.legend(loc='lower right')\n",
    "plt.show()"
   ]
  },
  {
   "cell_type": "markdown",
   "id": "76bde336",
   "metadata": {},
   "source": [
    "# Saving the model using .pkl"
   ]
  },
  {
   "cell_type": "code",
   "execution_count": 135,
   "id": "40463154",
   "metadata": {},
   "outputs": [
    {
     "data": {
      "text/plain": [
       "['Titanic dataset analysis.pkl']"
      ]
     },
     "execution_count": 135,
     "metadata": {},
     "output_type": "execute_result"
    }
   ],
   "source": [
    "import joblib\n",
    "joblib.dump(final,'Titanic dataset analysis.pkl')"
   ]
  },
  {
   "cell_type": "markdown",
   "id": "44b8f6ab",
   "metadata": {},
   "source": [
    "predicting the save model"
   ]
  },
  {
   "cell_type": "code",
   "execution_count": 137,
   "id": "8e80994b",
   "metadata": {},
   "outputs": [
    {
     "data": {
      "text/plain": [
       "array([0, 0, 1, 1, 1, 0, 1, 0, 1, 1, 0, 1, 1, 1, 0, 0, 1, 0, 0, 0, 1, 0,\n",
       "       1, 1, 0, 0, 1, 0, 1, 0, 1, 1, 0, 0, 0, 0, 0, 0, 1, 1, 0, 0, 0, 0,\n",
       "       1, 0, 1, 1, 0, 1, 0, 1, 1, 0, 0, 0, 1, 0, 1, 1, 1, 0, 0, 0, 1, 1,\n",
       "       1, 0, 0, 0, 0, 0, 1, 0, 1, 1, 1, 1, 0, 1, 1, 1, 1, 0, 1, 0, 1, 0,\n",
       "       1, 1, 0, 1, 0, 0, 1, 0, 1, 0, 1, 0, 0, 1, 1, 1, 0, 0, 1, 1, 1, 0,\n",
       "       0, 0, 0, 1, 0, 1, 1, 1, 0, 1, 0, 1, 1, 0, 1, 0, 1, 1, 0, 0, 1, 0,\n",
       "       1, 0, 1, 0, 0, 1, 0, 0, 0, 0, 1, 1, 0, 1, 0, 0, 1, 0, 1, 1, 0, 0,\n",
       "       0, 1, 1, 1, 1, 0, 1, 1, 0, 1, 1, 1, 0, 0, 0, 1, 1, 1, 0, 1, 1, 1,\n",
       "       1, 1, 1, 0, 0, 1, 0, 0, 1, 0, 1, 0, 0, 0, 0, 0, 1, 1, 1, 0, 0, 0,\n",
       "       1, 1, 0, 1, 1, 1, 1, 1, 0, 0, 1, 0, 0, 1, 0, 1, 1, 0, 0, 0, 1, 1,\n",
       "       1, 0, 0, 0, 1, 1, 1, 0, 0, 1, 0, 1, 1, 1, 0, 1, 0, 1, 1, 1, 0, 0,\n",
       "       0, 0, 0, 1, 0, 0, 1, 1, 0, 1, 1, 0, 1, 1, 1, 1, 1, 0, 0, 0, 0, 0,\n",
       "       1, 1, 1, 0, 0, 1, 0, 1, 1, 0, 0, 1, 0, 0, 1, 0, 0, 1, 0, 1, 0, 1,\n",
       "       0, 1, 0, 0, 0, 0, 1, 0, 1, 0, 0, 0, 0, 0, 0, 0, 0, 1, 0, 0, 0, 0,\n",
       "       0], dtype=int64)"
      ]
     },
     "execution_count": 137,
     "metadata": {},
     "output_type": "execute_result"
    }
   ],
   "source": [
    "model = joblib.load('Titanic dataset analysis.pkl')\n",
    "prediction = model.predict(x_test)\n",
    "prediction"
   ]
  },
  {
   "cell_type": "code",
   "execution_count": 138,
   "id": "ff5e11a5",
   "metadata": {},
   "outputs": [
    {
     "data": {
      "text/html": [
       "<div>\n",
       "<style scoped>\n",
       "    .dataframe tbody tr th:only-of-type {\n",
       "        vertical-align: middle;\n",
       "    }\n",
       "\n",
       "    .dataframe tbody tr th {\n",
       "        vertical-align: top;\n",
       "    }\n",
       "\n",
       "    .dataframe thead th {\n",
       "        text-align: right;\n",
       "    }\n",
       "</style>\n",
       "<table border=\"1\" class=\"dataframe\">\n",
       "  <thead>\n",
       "    <tr style=\"text-align: right;\">\n",
       "      <th></th>\n",
       "      <th>predicted</th>\n",
       "      <th>original</th>\n",
       "    </tr>\n",
       "  </thead>\n",
       "  <tbody>\n",
       "    <tr>\n",
       "      <th>0</th>\n",
       "      <td>0</td>\n",
       "      <td>0</td>\n",
       "    </tr>\n",
       "    <tr>\n",
       "      <th>1</th>\n",
       "      <td>0</td>\n",
       "      <td>0</td>\n",
       "    </tr>\n",
       "    <tr>\n",
       "      <th>2</th>\n",
       "      <td>1</td>\n",
       "      <td>1</td>\n",
       "    </tr>\n",
       "    <tr>\n",
       "      <th>3</th>\n",
       "      <td>1</td>\n",
       "      <td>1</td>\n",
       "    </tr>\n",
       "    <tr>\n",
       "      <th>4</th>\n",
       "      <td>1</td>\n",
       "      <td>1</td>\n",
       "    </tr>\n",
       "    <tr>\n",
       "      <th>...</th>\n",
       "      <td>...</td>\n",
       "      <td>...</td>\n",
       "    </tr>\n",
       "    <tr>\n",
       "      <th>304</th>\n",
       "      <td>0</td>\n",
       "      <td>0</td>\n",
       "    </tr>\n",
       "    <tr>\n",
       "      <th>305</th>\n",
       "      <td>0</td>\n",
       "      <td>0</td>\n",
       "    </tr>\n",
       "    <tr>\n",
       "      <th>306</th>\n",
       "      <td>0</td>\n",
       "      <td>0</td>\n",
       "    </tr>\n",
       "    <tr>\n",
       "      <th>307</th>\n",
       "      <td>0</td>\n",
       "      <td>0</td>\n",
       "    </tr>\n",
       "    <tr>\n",
       "      <th>308</th>\n",
       "      <td>0</td>\n",
       "      <td>1</td>\n",
       "    </tr>\n",
       "  </tbody>\n",
       "</table>\n",
       "<p>309 rows × 2 columns</p>\n",
       "</div>"
      ],
      "text/plain": [
       "     predicted  original\n",
       "0            0         0\n",
       "1            0         0\n",
       "2            1         1\n",
       "3            1         1\n",
       "4            1         1\n",
       "..         ...       ...\n",
       "304          0         0\n",
       "305          0         0\n",
       "306          0         0\n",
       "307          0         0\n",
       "308          0         1\n",
       "\n",
       "[309 rows x 2 columns]"
      ]
     },
     "execution_count": 138,
     "metadata": {},
     "output_type": "execute_result"
    }
   ],
   "source": [
    "a = np.array(y_test)\n",
    "df = pd.DataFrame()\n",
    "df['predicted'] = prediction\n",
    "df['original'] = a\n",
    "df"
   ]
  },
  {
   "cell_type": "markdown",
   "id": "c64ee46e",
   "metadata": {},
   "source": [
    "# In that dataset accuracy is 89.32%"
   ]
  }
 ],
 "metadata": {
  "kernelspec": {
   "display_name": "Python 3 (ipykernel)",
   "language": "python",
   "name": "python3"
  },
  "language_info": {
   "codemirror_mode": {
    "name": "ipython",
    "version": 3
   },
   "file_extension": ".py",
   "mimetype": "text/x-python",
   "name": "python",
   "nbconvert_exporter": "python",
   "pygments_lexer": "ipython3",
   "version": "3.9.12"
  }
 },
 "nbformat": 4,
 "nbformat_minor": 5
}
